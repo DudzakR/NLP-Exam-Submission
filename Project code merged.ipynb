{
 "cells": [
  {
   "cell_type": "markdown",
   "id": "d695ebd1-153d-480d-aa26-105e6c3d34f9",
   "metadata": {},
   "source": [
    "# Google Local Data"
   ]
  },
  {
   "cell_type": "markdown",
   "id": "d00907a4-0607-4eb1-9d35-b83a5b7194d3",
   "metadata": {},
   "source": [
    "- Tommaso Ghisini (togh22ab)\n",
    "- Frederik Markus Rytoft Gøtske (frgo18ab)\n",
    "- Marcel Wilhelm Frey (mafr22ao)\n",
    "- Richard Dudzak (ridu22ab)"
   ]
  },
  {
   "cell_type": "code",
   "execution_count": 6,
   "id": "e82af7e6-06cf-490d-bb9d-249ec0b518f2",
   "metadata": {
    "collapsed": true,
    "execution": {
     "iopub.execute_input": "2023-05-29T19:55:39.104466Z",
     "iopub.status.busy": "2023-05-29T19:55:39.103903Z",
     "iopub.status.idle": "2023-05-29T19:56:12.658949Z",
     "shell.execute_reply": "2023-05-29T19:56:12.656382Z",
     "shell.execute_reply.started": "2023-05-29T19:55:39.104430Z"
    },
    "tags": []
   },
   "outputs": [
    {
     "name": "stdout",
     "output_type": "stream",
     "text": [
      "Requirement already satisfied: tqdm in /opt/conda/lib/python3.10/site-packages (from -r requirements (1).txt (line 1)) (4.65.0)\n",
      "Collecting nltk\n",
      "  Downloading nltk-3.8.1-py3-none-any.whl (1.5 MB)\n",
      "\u001b[2K     \u001b[90m━━━━━━━━━━━━━━━━━━━━━━━━━━━━━━━━━━━━━━━━\u001b[0m \u001b[32m1.5/1.5 MB\u001b[0m \u001b[31m13.4 MB/s\u001b[0m eta \u001b[36m0:00:00\u001b[0m00:01\u001b[0m00:01\u001b[0m\n",
      "\u001b[?25hCollecting emoji\n",
      "  Downloading emoji-2.4.0.tar.gz (353 kB)\n",
      "\u001b[2K     \u001b[90m━━━━━━━━━━━━━━━━━━━━━━━━━━━━━━━━━━━━━━\u001b[0m \u001b[32m353.7/353.7 kB\u001b[0m \u001b[31m14.8 MB/s\u001b[0m eta \u001b[36m0:00:00\u001b[0m\n",
      "\u001b[?25h  Preparing metadata (setup.py) ... \u001b[?25ldone\n",
      "\u001b[?25hRequirement already satisfied: numpy in /opt/conda/lib/python3.10/site-packages (from -r requirements (1).txt (line 4)) (1.24.3)\n",
      "Collecting spacy\n",
      "  Downloading spacy-3.5.3-cp310-cp310-manylinux_2_17_x86_64.manylinux2014_x86_64.whl (6.6 MB)\n",
      "\u001b[2K     \u001b[90m━━━━━━━━━━━━━━━━━━━━━━━━━━━━━━━━━━━━━━━━\u001b[0m \u001b[32m6.6/6.6 MB\u001b[0m \u001b[31m36.4 MB/s\u001b[0m eta \u001b[36m0:00:00\u001b[0m:00:01\u001b[0m00:01\u001b[0m\n",
      "\u001b[?25hRequirement already satisfied: pandas in /opt/conda/lib/python3.10/site-packages (from -r requirements (1).txt (line 6)) (2.0.1)\n",
      "Collecting seaborn\n",
      "  Downloading seaborn-0.12.2-py3-none-any.whl (293 kB)\n",
      "\u001b[2K     \u001b[90m━━━━━━━━━━━━━━━━━━━━━━━━━━━━━━━━━━━━━━\u001b[0m \u001b[32m293.3/293.3 kB\u001b[0m \u001b[31m11.6 MB/s\u001b[0m eta \u001b[36m0:00:00\u001b[0m\n",
      "\u001b[?25hCollecting scikit-learn\n",
      "  Downloading scikit_learn-1.2.2-cp310-cp310-manylinux_2_17_x86_64.manylinux2014_x86_64.whl (9.6 MB)\n",
      "\u001b[2K     \u001b[90m━━━━━━━━━━━━━━━━━━━━━━━━━━━━━━━━━━━━━━━━\u001b[0m \u001b[32m9.6/9.6 MB\u001b[0m \u001b[31m33.8 MB/s\u001b[0m eta \u001b[36m0:00:00\u001b[0m:00:01\u001b[0m0:01\u001b[0mm\n",
      "\u001b[?25hCollecting textblob\n",
      "  Downloading textblob-0.17.1-py2.py3-none-any.whl (636 kB)\n",
      "\u001b[2K     \u001b[90m━━━━━━━━━━━━━━━━━━━━━━━━━━━━━━━━━━━━━━\u001b[0m \u001b[32m636.8/636.8 kB\u001b[0m \u001b[31m11.9 MB/s\u001b[0m eta \u001b[36m0:00:00\u001b[0m00:01\u001b[0m\n",
      "\u001b[?25hRequirement already satisfied: matplotlib in /opt/conda/lib/python3.10/site-packages (from -r requirements (1).txt (line 10)) (3.7.1)\n",
      "Collecting regex>=2021.8.3\n",
      "  Downloading regex-2023.5.5-cp310-cp310-manylinux_2_17_x86_64.manylinux2014_x86_64.whl (769 kB)\n",
      "\u001b[2K     \u001b[90m━━━━━━━━━━━━━━━━━━━━━━━━━━━━━━━━━━━━━━\u001b[0m \u001b[32m769.7/769.7 kB\u001b[0m \u001b[31m16.2 MB/s\u001b[0m eta \u001b[36m0:00:00\u001b[0m00:01\u001b[0m\n",
      "\u001b[?25hCollecting joblib\n",
      "  Downloading joblib-1.2.0-py3-none-any.whl (297 kB)\n",
      "\u001b[2K     \u001b[90m━━━━━━━━━━━━━━━━━━━━━━━━━━━━━━━━━━━━━━━\u001b[0m \u001b[32m298.0/298.0 kB\u001b[0m \u001b[31m9.7 MB/s\u001b[0m eta \u001b[36m0:00:00\u001b[0m\n",
      "\u001b[?25hRequirement already satisfied: click in /opt/conda/lib/python3.10/site-packages (from nltk->-r requirements (1).txt (line 2)) (8.1.3)\n",
      "Requirement already satisfied: requests<3.0.0,>=2.13.0 in /opt/conda/lib/python3.10/site-packages (from spacy->-r requirements (1).txt (line 5)) (2.28.2)\n",
      "Collecting preshed<3.1.0,>=3.0.2\n",
      "  Downloading preshed-3.0.8-cp310-cp310-manylinux_2_5_x86_64.manylinux1_x86_64.manylinux_2_17_x86_64.manylinux2014_x86_64.whl (124 kB)\n",
      "\u001b[2K     \u001b[90m━━━━━━━━━━━━━━━━━━━━━━━━━━━━━━━━━━━━━━\u001b[0m \u001b[32m124.7/124.7 kB\u001b[0m \u001b[31m10.5 MB/s\u001b[0m eta \u001b[36m0:00:00\u001b[0m\n",
      "\u001b[?25hCollecting pydantic!=1.8,!=1.8.1,<1.11.0,>=1.7.4\n",
      "  Downloading pydantic-1.10.8-cp310-cp310-manylinux_2_17_x86_64.manylinux2014_x86_64.whl (3.1 MB)\n",
      "\u001b[2K     \u001b[90m━━━━━━━━━━━━━━━━━━━━━━━━━━━━━━━━━━━━━━━━\u001b[0m \u001b[32m3.1/3.1 MB\u001b[0m \u001b[31m30.6 MB/s\u001b[0m eta \u001b[36m0:00:00\u001b[0m:00:01\u001b[0m\n",
      "\u001b[?25hCollecting spacy-legacy<3.1.0,>=3.0.11\n",
      "  Downloading spacy_legacy-3.0.12-py2.py3-none-any.whl (29 kB)\n",
      "Collecting pathy>=0.10.0\n",
      "  Downloading pathy-0.10.1-py3-none-any.whl (48 kB)\n",
      "\u001b[2K     \u001b[90m━━━━━━━━━━━━━━━━━━━━━━━━━━━━━━━━━━━━━━━\u001b[0m \u001b[32m48.9/48.9 kB\u001b[0m \u001b[31m367.7 kB/s\u001b[0m eta \u001b[36m0:00:00\u001b[0ma \u001b[36m0:00:01\u001b[0m\n",
      "\u001b[?25hRequirement already satisfied: setuptools in /opt/conda/lib/python3.10/site-packages (from spacy->-r requirements (1).txt (line 5)) (65.6.3)\n",
      "Collecting murmurhash<1.1.0,>=0.28.0\n",
      "  Downloading murmurhash-1.0.9-cp310-cp310-manylinux_2_5_x86_64.manylinux1_x86_64.manylinux_2_17_x86_64.manylinux2014_x86_64.whl (21 kB)\n",
      "Collecting srsly<3.0.0,>=2.4.3\n",
      "  Downloading srsly-2.4.6-cp310-cp310-manylinux_2_17_x86_64.manylinux2014_x86_64.whl (492 kB)\n",
      "\u001b[2K     \u001b[90m━━━━━━━━━━━━━━━━━━━━━━━━━━━━━━━━━━━━━━━\u001b[0m \u001b[32m492.2/492.2 kB\u001b[0m \u001b[31m5.2 MB/s\u001b[0m eta \u001b[36m0:00:00\u001b[0m00:01\u001b[0m\n",
      "\u001b[?25hRequirement already satisfied: jinja2 in /opt/conda/lib/python3.10/site-packages (from spacy->-r requirements (1).txt (line 5)) (3.1.2)\n",
      "Collecting spacy-loggers<2.0.0,>=1.0.0\n",
      "  Downloading spacy_loggers-1.0.4-py3-none-any.whl (11 kB)\n",
      "Requirement already satisfied: packaging>=20.0 in /opt/conda/lib/python3.10/site-packages (from spacy->-r requirements (1).txt (line 5)) (23.1)\n",
      "Collecting wasabi<1.2.0,>=0.9.1\n",
      "  Downloading wasabi-1.1.1-py3-none-any.whl (27 kB)\n",
      "Collecting cymem<2.1.0,>=2.0.2\n",
      "  Downloading cymem-2.0.7-cp310-cp310-manylinux_2_17_x86_64.manylinux2014_x86_64.whl (34 kB)\n",
      "Collecting thinc<8.2.0,>=8.1.8\n",
      "  Downloading thinc-8.1.10-cp310-cp310-manylinux_2_17_x86_64.manylinux2014_x86_64.whl (913 kB)\n",
      "\u001b[2K     \u001b[90m━━━━━━━━━━━━━━━━━━━━━━━━━━━━━━━━━━━━━━\u001b[0m \u001b[32m913.3/913.3 kB\u001b[0m \u001b[31m20.7 MB/s\u001b[0m eta \u001b[36m0:00:00\u001b[0m00:01\u001b[0m\n",
      "\u001b[?25hCollecting smart-open<7.0.0,>=5.2.1\n",
      "  Downloading smart_open-6.3.0-py3-none-any.whl (56 kB)\n",
      "\u001b[2K     \u001b[90m━━━━━━━━━━━━━━━━━━━━━━━━━━━━━━━━━━━━━━━━\u001b[0m \u001b[32m56.8/56.8 kB\u001b[0m \u001b[31m4.8 MB/s\u001b[0m eta \u001b[36m0:00:00\u001b[0m\n",
      "\u001b[?25hCollecting typer<0.8.0,>=0.3.0\n",
      "  Downloading typer-0.7.0-py3-none-any.whl (38 kB)\n",
      "Collecting langcodes<4.0.0,>=3.2.0\n",
      "  Downloading langcodes-3.3.0-py3-none-any.whl (181 kB)\n",
      "\u001b[2K     \u001b[90m━━━━━━━━━━━━━━━━━━━━━━━━━━━━━━━━━━━━━━\u001b[0m \u001b[32m181.6/181.6 kB\u001b[0m \u001b[31m10.2 MB/s\u001b[0m eta \u001b[36m0:00:00\u001b[0m\n",
      "\u001b[?25hCollecting catalogue<2.1.0,>=2.0.6\n",
      "  Downloading catalogue-2.0.8-py3-none-any.whl (17 kB)\n",
      "Requirement already satisfied: tzdata>=2022.1 in /opt/conda/lib/python3.10/site-packages (from pandas->-r requirements (1).txt (line 6)) (2023.3)\n",
      "Requirement already satisfied: pytz>=2020.1 in /opt/conda/lib/python3.10/site-packages (from pandas->-r requirements (1).txt (line 6)) (2023.3)\n",
      "Requirement already satisfied: python-dateutil>=2.8.2 in /opt/conda/lib/python3.10/site-packages (from pandas->-r requirements (1).txt (line 6)) (2.8.2)\n",
      "Collecting scipy>=1.3.2\n",
      "  Downloading scipy-1.10.1-cp310-cp310-manylinux_2_17_x86_64.manylinux2014_x86_64.whl (34.4 MB)\n",
      "\u001b[2K     \u001b[90m━━━━━━━━━━━━━━━━━━━━━━━━━━━━━━━━━━━━━━━━\u001b[0m \u001b[32m34.4/34.4 MB\u001b[0m \u001b[31m26.7 MB/s\u001b[0m eta \u001b[36m0:00:00\u001b[0m00:01\u001b[0m00:01\u001b[0m\n",
      "\u001b[?25hCollecting threadpoolctl>=2.0.0\n",
      "  Downloading threadpoolctl-3.1.0-py3-none-any.whl (14 kB)\n",
      "Requirement already satisfied: kiwisolver>=1.0.1 in /opt/conda/lib/python3.10/site-packages (from matplotlib->-r requirements (1).txt (line 10)) (1.4.4)\n",
      "Requirement already satisfied: contourpy>=1.0.1 in /opt/conda/lib/python3.10/site-packages (from matplotlib->-r requirements (1).txt (line 10)) (1.0.7)\n",
      "Requirement already satisfied: pillow>=6.2.0 in /opt/conda/lib/python3.10/site-packages (from matplotlib->-r requirements (1).txt (line 10)) (9.5.0)\n",
      "Requirement already satisfied: fonttools>=4.22.0 in /opt/conda/lib/python3.10/site-packages (from matplotlib->-r requirements (1).txt (line 10)) (4.39.4)\n",
      "Requirement already satisfied: cycler>=0.10 in /opt/conda/lib/python3.10/site-packages (from matplotlib->-r requirements (1).txt (line 10)) (0.11.0)\n",
      "Requirement already satisfied: pyparsing>=2.3.1 in /opt/conda/lib/python3.10/site-packages (from matplotlib->-r requirements (1).txt (line 10)) (3.0.9)\n",
      "Requirement already satisfied: typing-extensions>=4.2.0 in /opt/conda/lib/python3.10/site-packages (from pydantic!=1.8,!=1.8.1,<1.11.0,>=1.7.4->spacy->-r requirements (1).txt (line 5)) (4.5.0)\n",
      "Requirement already satisfied: six>=1.5 in /opt/conda/lib/python3.10/site-packages (from python-dateutil>=2.8.2->pandas->-r requirements (1).txt (line 6)) (1.16.0)\n",
      "Requirement already satisfied: charset-normalizer<4,>=2 in /opt/conda/lib/python3.10/site-packages (from requests<3.0.0,>=2.13.0->spacy->-r requirements (1).txt (line 5)) (3.1.0)\n",
      "Requirement already satisfied: certifi>=2017.4.17 in /opt/conda/lib/python3.10/site-packages (from requests<3.0.0,>=2.13.0->spacy->-r requirements (1).txt (line 5)) (2023.5.7)\n",
      "Requirement already satisfied: urllib3<1.27,>=1.21.1 in /opt/conda/lib/python3.10/site-packages (from requests<3.0.0,>=2.13.0->spacy->-r requirements (1).txt (line 5)) (1.26.15)\n",
      "Requirement already satisfied: idna<4,>=2.5 in /opt/conda/lib/python3.10/site-packages (from requests<3.0.0,>=2.13.0->spacy->-r requirements (1).txt (line 5)) (3.4)\n",
      "Collecting blis<0.8.0,>=0.7.8\n",
      "  Downloading blis-0.7.9-cp310-cp310-manylinux_2_17_x86_64.manylinux2014_x86_64.whl (10.2 MB)\n",
      "\u001b[2K     \u001b[90m━━━━━━━━━━━━━━━━━━━━━━━━━━━━━━━━━━━━━━━━\u001b[0m \u001b[32m10.2/10.2 MB\u001b[0m \u001b[31m26.6 MB/s\u001b[0m eta \u001b[36m0:00:00\u001b[0m00:01\u001b[0m00:01\u001b[0m\n",
      "\u001b[?25hCollecting confection<1.0.0,>=0.0.1\n",
      "  Downloading confection-0.0.4-py3-none-any.whl (32 kB)\n",
      "Requirement already satisfied: MarkupSafe>=2.0 in /opt/conda/lib/python3.10/site-packages (from jinja2->spacy->-r requirements (1).txt (line 5)) (2.1.2)\n",
      "Building wheels for collected packages: emoji\n",
      "  Building wheel for emoji (setup.py) ... \u001b[?25ldone\n",
      "\u001b[?25h  Created wheel for emoji: filename=emoji-2.4.0-py2.py3-none-any.whl size=350809 sha256=5af01b43094bab79b74b174e222085d95b8d593c52a050b342403cf952de5ac4\n",
      "  Stored in directory: /home/ucloud/.cache/pip/wheels/79/29/1c/234cae4632803c2ba4a76a71a679eb1383cf590775714e2a21\n",
      "Successfully built emoji\n",
      "Installing collected packages: cymem, wasabi, typer, threadpoolctl, spacy-loggers, spacy-legacy, smart-open, scipy, regex, pydantic, murmurhash, langcodes, joblib, emoji, catalogue, blis, srsly, scikit-learn, preshed, pathy, nltk, textblob, seaborn, confection, thinc, spacy\n",
      "Successfully installed blis-0.7.9 catalogue-2.0.8 confection-0.0.4 cymem-2.0.7 emoji-2.4.0 joblib-1.2.0 langcodes-3.3.0 murmurhash-1.0.9 nltk-3.8.1 pathy-0.10.1 preshed-3.0.8 pydantic-1.10.8 regex-2023.5.5 scikit-learn-1.2.2 scipy-1.10.1 seaborn-0.12.2 smart-open-6.3.0 spacy-3.5.3 spacy-legacy-3.0.12 spacy-loggers-1.0.4 srsly-2.4.6 textblob-0.17.1 thinc-8.1.10 threadpoolctl-3.1.0 typer-0.7.0 wasabi-1.1.1\n"
     ]
    }
   ],
   "source": [
    "# Installing required libraries\n",
    "! pip install -r \"requirements (1).txt\""
   ]
  },
  {
   "cell_type": "markdown",
   "id": "f44f8823-2602-445d-8cc4-1b5fe1f2bfeb",
   "metadata": {
    "execution": {
     "iopub.execute_input": "2023-05-27T11:10:40.583938Z",
     "iopub.status.busy": "2023-05-27T11:10:40.582489Z",
     "iopub.status.idle": "2023-05-27T11:10:40.594332Z",
     "shell.execute_reply": "2023-05-27T11:10:40.592923Z",
     "shell.execute_reply.started": "2023-05-27T11:10:40.583837Z"
    },
    "tags": []
   },
   "source": [
    "Importing required libraries and setting the working directory to the repository location"
   ]
  },
  {
   "cell_type": "code",
   "execution_count": 7,
   "id": "f5dfa28c-5bfb-476b-b672-5dae4c8e4578",
   "metadata": {
    "execution": {
     "iopub.execute_input": "2023-05-29T19:56:12.673824Z",
     "iopub.status.busy": "2023-05-29T19:56:12.673625Z",
     "iopub.status.idle": "2023-05-29T19:56:23.969879Z",
     "shell.execute_reply": "2023-05-29T19:56:23.969040Z",
     "shell.execute_reply.started": "2023-05-29T19:56:12.673806Z"
    },
    "tags": []
   },
   "outputs": [],
   "source": [
    "import os\n",
    "import re\n",
    "import nltk\n",
    "import emoji\n",
    "import spacy\n",
    "import random\n",
    "import numpy as np\n",
    "import pandas as pd\n",
    "import seaborn as sns\n",
    "import matplotlib.pyplot as plt\n",
    "\n",
    "from textblob import TextBlob\n",
    "from tqdm.notebook import tqdm\n",
    "from multiprocessing import Pool\n",
    "from collections import defaultdict\n",
    "\n",
    "from sklearn.metrics import accuracy_score\n",
    "from sklearn.naive_bayes import MultinomialNB\n",
    "from sklearn.feature_extraction.text import TfidfVectorizer, CountVectorizer\n",
    "from sklearn.decomposition import LatentDirichletAllocation"
   ]
  },
  {
   "cell_type": "code",
   "execution_count": null,
   "id": "664a71cf-a135-4ad9-b75c-bec035b75061",
   "metadata": {
    "collapsed": true,
    "execution": {
     "iopub.status.busy": "2023-05-29T19:49:10.410246Z",
     "iopub.status.idle": "2023-05-29T19:49:10.410505Z",
     "shell.execute_reply": "2023-05-29T19:49:10.410387Z",
     "shell.execute_reply.started": "2023-05-29T19:49:10.410374Z"
    },
    "jupyter": {
     "outputs_hidden": true
    },
    "tags": []
   },
   "outputs": [],
   "source": [
    "!python -m spacy download en_core_web_lg"
   ]
  },
  {
   "cell_type": "code",
   "execution_count": 8,
   "id": "922d62f9-ffb5-490f-9f62-884fc1eac88b",
   "metadata": {
    "execution": {
     "iopub.execute_input": "2023-05-29T19:56:23.971983Z",
     "iopub.status.busy": "2023-05-29T19:56:23.971468Z",
     "iopub.status.idle": "2023-05-29T19:56:25.037631Z",
     "shell.execute_reply": "2023-05-29T19:56:25.036960Z",
     "shell.execute_reply.started": "2023-05-29T19:56:23.971959Z"
    },
    "tags": []
   },
   "outputs": [
    {
     "name": "stderr",
     "output_type": "stream",
     "text": [
      "[nltk_data] Downloading package punkt to /home/ucloud/nltk_data...\n",
      "[nltk_data]   Unzipping tokenizers/punkt.zip.\n",
      "[nltk_data] Downloading package averaged_perceptron_tagger to\n",
      "[nltk_data]     /home/ucloud/nltk_data...\n",
      "[nltk_data]   Unzipping taggers/averaged_perceptron_tagger.zip.\n"
     ]
    },
    {
     "data": {
      "text/plain": [
       "True"
      ]
     },
     "execution_count": 8,
     "metadata": {},
     "output_type": "execute_result"
    }
   ],
   "source": [
    "nltk.download('punkt')\n",
    "nltk.download('averaged_perceptron_tagger')"
   ]
  },
  {
   "cell_type": "code",
   "execution_count": 3,
   "id": "d10da692-0a25-432c-bd02-a0bbc7e71b99",
   "metadata": {
    "execution": {
     "iopub.execute_input": "2023-05-28T11:21:29.674940Z",
     "iopub.status.busy": "2023-05-28T11:21:29.674111Z",
     "iopub.status.idle": "2023-05-28T11:21:29.681409Z",
     "shell.execute_reply": "2023-05-28T11:21:29.680211Z",
     "shell.execute_reply.started": "2023-05-28T11:21:29.674883Z"
    },
    "tags": []
   },
   "outputs": [],
   "source": [
    "os.chdir('/work/GoogleLocalData2021')"
   ]
  },
  {
   "cell_type": "markdown",
   "id": "84183940-ce38-4855-a899-1f3551bcc735",
   "metadata": {},
   "source": [
    "## Data Exploration and Preprocessing"
   ]
  },
  {
   "cell_type": "markdown",
   "id": "f95603f4-5369-4eac-ab3d-7b594173050f",
   "metadata": {},
   "source": [
    "Reading the dataset, metadata and reviews"
   ]
  },
  {
   "cell_type": "code",
   "execution_count": 5,
   "id": "5a17dc7a-f571-4aaa-b952-a1fa5e2d7850",
   "metadata": {
    "execution": {
     "iopub.execute_input": "2023-05-27T16:26:42.646239Z",
     "iopub.status.busy": "2023-05-27T16:26:42.645931Z",
     "iopub.status.idle": "2023-05-27T16:27:05.874592Z",
     "shell.execute_reply": "2023-05-27T16:27:05.873700Z",
     "shell.execute_reply.started": "2023-05-27T16:26:42.646210Z"
    },
    "tags": []
   },
   "outputs": [],
   "source": [
    "meta = pd.read_pickle('./data/meta.pkl')\n",
    "reviews = pd.read_pickle('./data/restaurant-reviews.pkl')"
   ]
  },
  {
   "cell_type": "code",
   "execution_count": 6,
   "id": "7fdfcec4-b0fc-46f3-b281-f67e8b39bcd1",
   "metadata": {
    "execution": {
     "iopub.execute_input": "2023-05-27T16:27:05.878179Z",
     "iopub.status.busy": "2023-05-27T16:27:05.877798Z",
     "iopub.status.idle": "2023-05-27T16:27:05.883237Z",
     "shell.execute_reply": "2023-05-27T16:27:05.882544Z",
     "shell.execute_reply.started": "2023-05-27T16:27:05.878154Z"
    },
    "tags": []
   },
   "outputs": [
    {
     "name": "stdout",
     "output_type": "stream",
     "text": [
      "Shape of meta: (75506, 15)\n",
      "Shape of reviews: (13477237, 8)\n"
     ]
    }
   ],
   "source": [
    "print(\"Shape of meta:\", meta.shape)\n",
    "print(\"Shape of reviews:\", reviews.shape)"
   ]
  },
  {
   "cell_type": "code",
   "execution_count": 7,
   "id": "5b9b6e47-9368-4bf6-bc54-460f7640cf24",
   "metadata": {
    "execution": {
     "iopub.execute_input": "2023-05-27T16:27:05.884158Z",
     "iopub.status.busy": "2023-05-27T16:27:05.883973Z",
     "iopub.status.idle": "2023-05-27T16:27:06.027129Z",
     "shell.execute_reply": "2023-05-27T16:27:06.026524Z",
     "shell.execute_reply.started": "2023-05-27T16:27:05.884141Z"
    },
    "tags": []
   },
   "outputs": [
    {
     "data": {
      "text/html": [
       "<div>\n",
       "<style scoped>\n",
       "    .dataframe tbody tr th:only-of-type {\n",
       "        vertical-align: middle;\n",
       "    }\n",
       "\n",
       "    .dataframe tbody tr th {\n",
       "        vertical-align: top;\n",
       "    }\n",
       "\n",
       "    .dataframe thead th {\n",
       "        text-align: right;\n",
       "    }\n",
       "</style>\n",
       "<table border=\"1\" class=\"dataframe\">\n",
       "  <thead>\n",
       "    <tr style=\"text-align: right;\">\n",
       "      <th></th>\n",
       "      <th>name</th>\n",
       "      <th>address</th>\n",
       "      <th>gmap_id</th>\n",
       "      <th>description</th>\n",
       "      <th>latitude</th>\n",
       "      <th>longitude</th>\n",
       "      <th>category</th>\n",
       "      <th>avg_rating</th>\n",
       "      <th>num_of_reviews</th>\n",
       "      <th>price</th>\n",
       "      <th>hours</th>\n",
       "      <th>MISC</th>\n",
       "      <th>state</th>\n",
       "      <th>relative_results</th>\n",
       "      <th>url</th>\n",
       "    </tr>\n",
       "  </thead>\n",
       "  <tbody>\n",
       "    <tr>\n",
       "      <th>1</th>\n",
       "      <td>San Soo Dang</td>\n",
       "      <td>San Soo Dang, 761 S Vermont Ave, Los Angeles, ...</td>\n",
       "      <td>0x80c2c778e3b73d33:0xbdc58662a4a97d49</td>\n",
       "      <td>None</td>\n",
       "      <td>34.058092</td>\n",
       "      <td>-118.29213</td>\n",
       "      <td>korean restaurant</td>\n",
       "      <td>4.4</td>\n",
       "      <td>18</td>\n",
       "      <td>None</td>\n",
       "      <td>[[Thursday, 6:30AM–6PM], [Friday, 6:30AM–6PM],...</td>\n",
       "      <td>{'Service options': ['Takeout', 'Dine-in', 'De...</td>\n",
       "      <td>Open ⋅ Closes 6PM</td>\n",
       "      <td>[0x80c2c78249aba68f:0x35bf16ce61be751d, 0x80c2...</td>\n",
       "      <td>https://www.google.com/maps/place//data=!4m2!3...</td>\n",
       "    </tr>\n",
       "  </tbody>\n",
       "</table>\n",
       "</div>"
      ],
      "text/plain": [
       "           name                                            address   \n",
       "1  San Soo Dang  San Soo Dang, 761 S Vermont Ave, Los Angeles, ...  \\\n",
       "\n",
       "                                 gmap_id description   latitude  longitude   \n",
       "1  0x80c2c778e3b73d33:0xbdc58662a4a97d49        None  34.058092 -118.29213  \\\n",
       "\n",
       "            category  avg_rating  num_of_reviews price   \n",
       "1  korean restaurant         4.4              18  None  \\\n",
       "\n",
       "                                               hours   \n",
       "1  [[Thursday, 6:30AM–6PM], [Friday, 6:30AM–6PM],...  \\\n",
       "\n",
       "                                                MISC              state   \n",
       "1  {'Service options': ['Takeout', 'Dine-in', 'De...  Open ⋅ Closes 6PM  \\\n",
       "\n",
       "                                    relative_results   \n",
       "1  [0x80c2c78249aba68f:0x35bf16ce61be751d, 0x80c2...  \\\n",
       "\n",
       "                                                 url  \n",
       "1  https://www.google.com/maps/place//data=!4m2!3...  "
      ]
     },
     "execution_count": 7,
     "metadata": {},
     "output_type": "execute_result"
    }
   ],
   "source": [
    "meta.head(1)"
   ]
  },
  {
   "cell_type": "code",
   "execution_count": 8,
   "id": "a8899483-1a38-4c31-b548-3ada0cbb8329",
   "metadata": {
    "execution": {
     "iopub.execute_input": "2023-05-27T16:27:06.028025Z",
     "iopub.status.busy": "2023-05-27T16:27:06.027837Z",
     "iopub.status.idle": "2023-05-27T16:27:06.202571Z",
     "shell.execute_reply": "2023-05-27T16:27:06.201830Z",
     "shell.execute_reply.started": "2023-05-27T16:27:06.028007Z"
    },
    "tags": []
   },
   "outputs": [
    {
     "data": {
      "text/html": [
       "<div>\n",
       "<style scoped>\n",
       "    .dataframe tbody tr th:only-of-type {\n",
       "        vertical-align: middle;\n",
       "    }\n",
       "\n",
       "    .dataframe tbody tr th {\n",
       "        vertical-align: top;\n",
       "    }\n",
       "\n",
       "    .dataframe thead th {\n",
       "        text-align: right;\n",
       "    }\n",
       "</style>\n",
       "<table border=\"1\" class=\"dataframe\">\n",
       "  <thead>\n",
       "    <tr style=\"text-align: right;\">\n",
       "      <th></th>\n",
       "      <th>user_id</th>\n",
       "      <th>name</th>\n",
       "      <th>time</th>\n",
       "      <th>rating</th>\n",
       "      <th>text</th>\n",
       "      <th>pics</th>\n",
       "      <th>resp</th>\n",
       "      <th>gmap_id</th>\n",
       "    </tr>\n",
       "  </thead>\n",
       "  <tbody>\n",
       "    <tr>\n",
       "      <th>0</th>\n",
       "      <td>1.078898e+20</td>\n",
       "      <td>jane moon</td>\n",
       "      <td>1623536126668</td>\n",
       "      <td>5.0</td>\n",
       "      <td>One of the best Korean rice cake places in town</td>\n",
       "      <td>None</td>\n",
       "      <td>None</td>\n",
       "      <td>0x80c2c778e3b73d33:0xbdc58662a4a97d49</td>\n",
       "    </tr>\n",
       "  </tbody>\n",
       "</table>\n",
       "</div>"
      ],
      "text/plain": [
       "        user_id       name           time  rating   \n",
       "0  1.078898e+20  jane moon  1623536126668     5.0  \\\n",
       "\n",
       "                                              text  pics  resp   \n",
       "0  One of the best Korean rice cake places in town  None  None  \\\n",
       "\n",
       "                                 gmap_id  \n",
       "0  0x80c2c778e3b73d33:0xbdc58662a4a97d49  "
      ]
     },
     "execution_count": 8,
     "metadata": {},
     "output_type": "execute_result"
    }
   ],
   "source": [
    "reviews.head(1)"
   ]
  },
  {
   "cell_type": "markdown",
   "id": "9c002408-74db-49e4-a037-eed494c2d3dd",
   "metadata": {},
   "source": [
    "Checking the columns of the two dataframes"
   ]
  },
  {
   "cell_type": "code",
   "execution_count": 9,
   "id": "ae491a28-5a5a-4e68-97bc-a70be6fdc28a",
   "metadata": {
    "execution": {
     "iopub.execute_input": "2023-05-27T16:27:06.203645Z",
     "iopub.status.busy": "2023-05-27T16:27:06.203407Z",
     "iopub.status.idle": "2023-05-27T16:27:06.340324Z",
     "shell.execute_reply": "2023-05-27T16:27:06.339654Z",
     "shell.execute_reply.started": "2023-05-27T16:27:06.203623Z"
    },
    "tags": []
   },
   "outputs": [
    {
     "name": "stdout",
     "output_type": "stream",
     "text": [
      "<class 'pandas.core.frame.DataFrame'>\n",
      "Index: 75506 entries, 1 to 515956\n",
      "Data columns (total 15 columns):\n",
      " #   Column            Non-Null Count  Dtype  \n",
      "---  ------            --------------  -----  \n",
      " 0   name              75506 non-null  object \n",
      " 1   address           75389 non-null  object \n",
      " 2   gmap_id           75506 non-null  object \n",
      " 3   description       40876 non-null  object \n",
      " 4   latitude          75506 non-null  float64\n",
      " 5   longitude         75506 non-null  float64\n",
      " 6   category          75506 non-null  object \n",
      " 7   avg_rating        75506 non-null  float64\n",
      " 8   num_of_reviews    75506 non-null  int64  \n",
      " 9   price             53445 non-null  object \n",
      " 10  hours             71957 non-null  object \n",
      " 11  MISC              75256 non-null  object \n",
      " 12  state             54213 non-null  object \n",
      " 13  relative_results  69300 non-null  object \n",
      " 14  url               75506 non-null  object \n",
      "dtypes: float64(3), int64(1), object(11)\n",
      "memory usage: 9.2+ MB\n"
     ]
    }
   ],
   "source": [
    "meta.info()"
   ]
  },
  {
   "cell_type": "code",
   "execution_count": 10,
   "id": "5044f9cb-1b13-4e11-a8d0-4fbd03729d83",
   "metadata": {
    "execution": {
     "iopub.execute_input": "2023-05-27T16:27:06.341237Z",
     "iopub.status.busy": "2023-05-27T16:27:06.341063Z",
     "iopub.status.idle": "2023-05-27T16:27:06.348503Z",
     "shell.execute_reply": "2023-05-27T16:27:06.347833Z",
     "shell.execute_reply.started": "2023-05-27T16:27:06.341221Z"
    },
    "tags": []
   },
   "outputs": [
    {
     "name": "stdout",
     "output_type": "stream",
     "text": [
      "<class 'pandas.core.frame.DataFrame'>\n",
      "RangeIndex: 13477237 entries, 0 to 13477236\n",
      "Data columns (total 8 columns):\n",
      " #   Column   Dtype  \n",
      "---  ------   -----  \n",
      " 0   user_id  float64\n",
      " 1   name     object \n",
      " 2   time     int64  \n",
      " 3   rating   float64\n",
      " 4   text     object \n",
      " 5   pics     object \n",
      " 6   resp     object \n",
      " 7   gmap_id  object \n",
      "dtypes: float64(2), int64(1), object(5)\n",
      "memory usage: 822.6+ MB\n"
     ]
    }
   ],
   "source": [
    "reviews.info()"
   ]
  },
  {
   "cell_type": "markdown",
   "id": "0e78ea85-c111-4c86-83f6-28367ca8302b",
   "metadata": {},
   "source": [
    "Dropping the duplicates both for reviews and metadata"
   ]
  },
  {
   "cell_type": "code",
   "execution_count": 11,
   "id": "34545409-cdf4-4720-ac7f-9e7ead3706c4",
   "metadata": {
    "execution": {
     "iopub.execute_input": "2023-05-27T16:27:06.349416Z",
     "iopub.status.busy": "2023-05-27T16:27:06.349220Z",
     "iopub.status.idle": "2023-05-27T16:27:48.039791Z",
     "shell.execute_reply": "2023-05-27T16:27:48.038983Z",
     "shell.execute_reply.started": "2023-05-27T16:27:06.349398Z"
    },
    "tags": []
   },
   "outputs": [
    {
     "name": "stdout",
     "output_type": "stream",
     "text": [
      "Number of duplicates in metadata: 111\n",
      "Number of duplicates in reviews: 5279\n"
     ]
    }
   ],
   "source": [
    "num_duplicates_m = len(meta.loc[meta.duplicated(subset='gmap_id')])\n",
    "num_duplicates_r = len(meta.loc[reviews.duplicated(subset=['name', 'text',\n",
    "                                                           'gmap_id', 'rating'])])\n",
    "print(\"Number of duplicates in metadata:\", num_duplicates_m)\n",
    "print(\"Number of duplicates in reviews:\", num_duplicates_r)\n",
    "\n",
    "meta.drop_duplicates(subset='gmap_id', inplace=True)\n",
    "reviews.drop_duplicates(subset=['name', 'text', 'gmap_id', 'rating'], inplace=True)"
   ]
  },
  {
   "cell_type": "markdown",
   "id": "d4b02637-d421-4d34-b82c-b08e6b345c4c",
   "metadata": {},
   "source": [
    "Dropping columns that are not relevant"
   ]
  },
  {
   "cell_type": "code",
   "execution_count": 12,
   "id": "66811d8c-4584-451c-90df-8b3068ff2d97",
   "metadata": {
    "execution": {
     "iopub.execute_input": "2023-05-27T16:27:48.040878Z",
     "iopub.status.busy": "2023-05-27T16:27:48.040644Z",
     "iopub.status.idle": "2023-05-27T16:27:49.037086Z",
     "shell.execute_reply": "2023-05-27T16:27:49.036264Z",
     "shell.execute_reply.started": "2023-05-27T16:27:48.040857Z"
    },
    "tags": []
   },
   "outputs": [],
   "source": [
    "reviews.drop(columns=['name', 'pics', 'resp'], inplace=True)\n",
    "meta.drop(columns=['address', 'description', 'hours',\n",
    "                   'MISC', 'state', 'relative_results', 'url'], inplace=True)"
   ]
  },
  {
   "cell_type": "markdown",
   "id": "191196c7-bfa0-4a65-a543-d6ab3c99b45c",
   "metadata": {},
   "source": [
    "Joining the two datasets"
   ]
  },
  {
   "cell_type": "code",
   "execution_count": 13,
   "id": "f9757210-960d-42fd-b860-7cd88a84ec09",
   "metadata": {
    "execution": {
     "iopub.execute_input": "2023-05-27T16:27:49.038158Z",
     "iopub.status.busy": "2023-05-27T16:27:49.037934Z",
     "iopub.status.idle": "2023-05-27T16:28:04.045297Z",
     "shell.execute_reply": "2023-05-27T16:28:04.044413Z",
     "shell.execute_reply.started": "2023-05-27T16:27:49.038138Z"
    },
    "tags": []
   },
   "outputs": [],
   "source": [
    "df = pd.merge(reviews, meta, how='left', on='gmap_id')\n",
    "df.to_pickle('./data/restaurants.pkl')"
   ]
  },
  {
   "cell_type": "code",
   "execution_count": 14,
   "id": "08238324-7d57-4b54-9c2d-c575448a1ebc",
   "metadata": {
    "execution": {
     "iopub.execute_input": "2023-05-27T16:28:04.046733Z",
     "iopub.status.busy": "2023-05-27T16:28:04.046489Z",
     "iopub.status.idle": "2023-05-27T16:28:04.057416Z",
     "shell.execute_reply": "2023-05-27T16:28:04.056788Z",
     "shell.execute_reply.started": "2023-05-27T16:28:04.046710Z"
    },
    "tags": []
   },
   "outputs": [
    {
     "name": "stdout",
     "output_type": "stream",
     "text": [
      "<class 'pandas.core.frame.DataFrame'>\n",
      "RangeIndex: 13186137 entries, 0 to 13186136\n",
      "Data columns (total 12 columns):\n",
      " #   Column          Dtype  \n",
      "---  ------          -----  \n",
      " 0   user_id         float64\n",
      " 1   time            int64  \n",
      " 2   rating          float64\n",
      " 3   text            object \n",
      " 4   gmap_id         object \n",
      " 5   name            object \n",
      " 6   latitude        float64\n",
      " 7   longitude       float64\n",
      " 8   category        object \n",
      " 9   avg_rating      float64\n",
      " 10  num_of_reviews  int64  \n",
      " 11  price           object \n",
      "dtypes: float64(5), int64(2), object(5)\n",
      "memory usage: 1.2+ GB\n"
     ]
    }
   ],
   "source": [
    "df.info()"
   ]
  },
  {
   "cell_type": "markdown",
   "id": "f739e54a-3d82-45bf-afe5-46cf47fe8935",
   "metadata": {},
   "source": [
    "Checking for Nulls"
   ]
  },
  {
   "cell_type": "code",
   "execution_count": 15,
   "id": "3749f2ed-b310-459c-9e92-627469c24e75",
   "metadata": {
    "execution": {
     "iopub.execute_input": "2023-05-27T16:28:04.058397Z",
     "iopub.status.busy": "2023-05-27T16:28:04.058175Z",
     "iopub.status.idle": "2023-05-27T16:28:06.738261Z",
     "shell.execute_reply": "2023-05-27T16:28:06.737519Z",
     "shell.execute_reply.started": "2023-05-27T16:28:04.058376Z"
    },
    "tags": []
   },
   "outputs": [
    {
     "data": {
      "text/plain": [
       "user_id               352\n",
       "time                    0\n",
       "rating                352\n",
       "text                    0\n",
       "gmap_id                 0\n",
       "name                    0\n",
       "latitude                0\n",
       "longitude               0\n",
       "category                0\n",
       "avg_rating              0\n",
       "num_of_reviews          0\n",
       "price             1078294\n",
       "dtype: int64"
      ]
     },
     "execution_count": 15,
     "metadata": {},
     "output_type": "execute_result"
    }
   ],
   "source": [
    "df.isna().sum()"
   ]
  },
  {
   "cell_type": "code",
   "execution_count": 16,
   "id": "216e49f2-8931-4d20-8ab7-93ffd675a802",
   "metadata": {
    "execution": {
     "iopub.execute_input": "2023-05-27T16:28:06.739428Z",
     "iopub.status.busy": "2023-05-27T16:28:06.739203Z",
     "iopub.status.idle": "2023-05-27T16:28:10.760557Z",
     "shell.execute_reply": "2023-05-27T16:28:10.759751Z",
     "shell.execute_reply.started": "2023-05-27T16:28:06.739408Z"
    },
    "tags": []
   },
   "outputs": [
    {
     "data": {
      "text/html": [
       "<div>\n",
       "<style scoped>\n",
       "    .dataframe tbody tr th:only-of-type {\n",
       "        vertical-align: middle;\n",
       "    }\n",
       "\n",
       "    .dataframe tbody tr th {\n",
       "        vertical-align: top;\n",
       "    }\n",
       "\n",
       "    .dataframe thead th {\n",
       "        text-align: right;\n",
       "    }\n",
       "</style>\n",
       "<table border=\"1\" class=\"dataframe\">\n",
       "  <thead>\n",
       "    <tr style=\"text-align: right;\">\n",
       "      <th></th>\n",
       "      <th>user_id</th>\n",
       "      <th>time</th>\n",
       "      <th>rating</th>\n",
       "      <th>latitude</th>\n",
       "      <th>longitude</th>\n",
       "      <th>avg_rating</th>\n",
       "      <th>num_of_reviews</th>\n",
       "    </tr>\n",
       "  </thead>\n",
       "  <tbody>\n",
       "    <tr>\n",
       "      <th>count</th>\n",
       "      <td>1.318578e+07</td>\n",
       "      <td>1.318614e+07</td>\n",
       "      <td>1.318578e+07</td>\n",
       "      <td>1.318614e+07</td>\n",
       "      <td>1.318614e+07</td>\n",
       "      <td>1.318614e+07</td>\n",
       "      <td>1.318614e+07</td>\n",
       "    </tr>\n",
       "    <tr>\n",
       "      <th>mean</th>\n",
       "      <td>1.092224e+20</td>\n",
       "      <td>1.544517e+12</td>\n",
       "      <td>4.170931e+00</td>\n",
       "      <td>3.533633e+01</td>\n",
       "      <td>-1.192297e+02</td>\n",
       "      <td>4.244331e+00</td>\n",
       "      <td>9.278013e+02</td>\n",
       "    </tr>\n",
       "    <tr>\n",
       "      <th>std</th>\n",
       "      <td>5.322026e+18</td>\n",
       "      <td>4.644864e+10</td>\n",
       "      <td>1.256619e+00</td>\n",
       "      <td>2.059840e+00</td>\n",
       "      <td>4.438151e+00</td>\n",
       "      <td>3.216966e-01</td>\n",
       "      <td>1.073813e+03</td>\n",
       "    </tr>\n",
       "    <tr>\n",
       "      <th>min</th>\n",
       "      <td>1.000000e+20</td>\n",
       "      <td>6.626016e+11</td>\n",
       "      <td>1.000000e+00</td>\n",
       "      <td>2.849185e+01</td>\n",
       "      <td>-1.242649e+02</td>\n",
       "      <td>1.000000e+00</td>\n",
       "      <td>1.000000e+00</td>\n",
       "    </tr>\n",
       "    <tr>\n",
       "      <th>25%</th>\n",
       "      <td>1.046268e+20</td>\n",
       "      <td>1.518982e+12</td>\n",
       "      <td>4.000000e+00</td>\n",
       "      <td>3.387394e+01</td>\n",
       "      <td>-1.214335e+02</td>\n",
       "      <td>4.100000e+00</td>\n",
       "      <td>3.080000e+02</td>\n",
       "    </tr>\n",
       "    <tr>\n",
       "      <th>50%</th>\n",
       "      <td>1.092180e+20</td>\n",
       "      <td>1.549617e+12</td>\n",
       "      <td>5.000000e+00</td>\n",
       "      <td>3.413733e+01</td>\n",
       "      <td>-1.183515e+02</td>\n",
       "      <td>4.300000e+00</td>\n",
       "      <td>6.080000e+02</td>\n",
       "    </tr>\n",
       "    <tr>\n",
       "      <th>75%</th>\n",
       "      <td>1.138332e+20</td>\n",
       "      <td>1.574966e+12</td>\n",
       "      <td>5.000000e+00</td>\n",
       "      <td>3.750421e+01</td>\n",
       "      <td>-1.177994e+02</td>\n",
       "      <td>4.500000e+00</td>\n",
       "      <td>1.129000e+03</td>\n",
       "    </tr>\n",
       "    <tr>\n",
       "      <th>max</th>\n",
       "      <td>1.184467e+20</td>\n",
       "      <td>1.631063e+12</td>\n",
       "      <td>5.000000e+00</td>\n",
       "      <td>4.196626e+01</td>\n",
       "      <td>1.800000e+02</td>\n",
       "      <td>5.000000e+00</td>\n",
       "      <td>9.998000e+03</td>\n",
       "    </tr>\n",
       "  </tbody>\n",
       "</table>\n",
       "</div>"
      ],
      "text/plain": [
       "            user_id          time        rating      latitude     longitude   \n",
       "count  1.318578e+07  1.318614e+07  1.318578e+07  1.318614e+07  1.318614e+07  \\\n",
       "mean   1.092224e+20  1.544517e+12  4.170931e+00  3.533633e+01 -1.192297e+02   \n",
       "std    5.322026e+18  4.644864e+10  1.256619e+00  2.059840e+00  4.438151e+00   \n",
       "min    1.000000e+20  6.626016e+11  1.000000e+00  2.849185e+01 -1.242649e+02   \n",
       "25%    1.046268e+20  1.518982e+12  4.000000e+00  3.387394e+01 -1.214335e+02   \n",
       "50%    1.092180e+20  1.549617e+12  5.000000e+00  3.413733e+01 -1.183515e+02   \n",
       "75%    1.138332e+20  1.574966e+12  5.000000e+00  3.750421e+01 -1.177994e+02   \n",
       "max    1.184467e+20  1.631063e+12  5.000000e+00  4.196626e+01  1.800000e+02   \n",
       "\n",
       "         avg_rating  num_of_reviews  \n",
       "count  1.318614e+07    1.318614e+07  \n",
       "mean   4.244331e+00    9.278013e+02  \n",
       "std    3.216966e-01    1.073813e+03  \n",
       "min    1.000000e+00    1.000000e+00  \n",
       "25%    4.100000e+00    3.080000e+02  \n",
       "50%    4.300000e+00    6.080000e+02  \n",
       "75%    4.500000e+00    1.129000e+03  \n",
       "max    5.000000e+00    9.998000e+03  "
      ]
     },
     "execution_count": 16,
     "metadata": {},
     "output_type": "execute_result"
    }
   ],
   "source": [
    "df.describe()"
   ]
  },
  {
   "cell_type": "markdown",
   "id": "e6c0c8d9-3022-402a-9336-866a03480222",
   "metadata": {},
   "source": [
    "### Rating and Average Rating"
   ]
  },
  {
   "cell_type": "code",
   "execution_count": 17,
   "id": "62bfa280-b6d8-47dc-95e4-20685d6010e1",
   "metadata": {
    "execution": {
     "iopub.execute_input": "2023-05-27T16:28:10.761851Z",
     "iopub.status.busy": "2023-05-27T16:28:10.761609Z",
     "iopub.status.idle": "2023-05-27T16:28:12.228318Z",
     "shell.execute_reply": "2023-05-27T16:28:12.227538Z",
     "shell.execute_reply.started": "2023-05-27T16:28:10.761827Z"
    },
    "tags": []
   },
   "outputs": [
    {
     "data": {
      "image/png": "[encoded data removed]",
      "text/plain": [
       "<Figure size 640x480 with 1 Axes>"
      ]
     },
     "metadata": {},
     "output_type": "display_data"
    }
   ],
   "source": [
    "# Set the style of the plot\n",
    "sns.set(style=\"darkgrid\")\n",
    "\n",
    "# Create the countplot\n",
    "ax = sns.countplot(data=df, x='rating')\n",
    "\n",
    "# Set labels and title\n",
    "ax.set_xlabel('Rating')\n",
    "ax.set_ylabel('Count')\n",
    "ax.set_title('Distribution of Ratings')\n",
    "\n",
    "# Add count values to the bars\n",
    "for p in ax.patches:\n",
    "    ax.annotate(f'{int(p.get_height())}', (p.get_x() + p.get_width() / 2., p.get_height()), ha='center', va='center', xytext=(0, 5), textcoords='offset points', fontsize=8)\n",
    "\n",
    "# Display the plot\n",
    "plt.savefig('./data/plots/rating.png')\n",
    "plt.show()\n"
   ]
  },
  {
   "cell_type": "code",
   "execution_count": 18,
   "id": "dd2f9ee6-1ee2-4bd3-a8d1-8ddc40804282",
   "metadata": {
    "execution": {
     "iopub.execute_input": "2023-05-27T16:28:12.229386Z",
     "iopub.status.busy": "2023-05-27T16:28:12.229167Z",
     "iopub.status.idle": "2023-05-27T16:28:15.487676Z",
     "shell.execute_reply": "2023-05-27T16:28:15.486917Z",
     "shell.execute_reply.started": "2023-05-27T16:28:12.229366Z"
    },
    "tags": []
   },
   "outputs": [
    {
     "data": {
      "image/png": "[encoded data removed]",
      "text/plain": [
       "<Figure size 640x480 with 1 Axes>"
      ]
     },
     "metadata": {},
     "output_type": "display_data"
    }
   ],
   "source": [
    "# Set the style of the plot\n",
    "sns.set(style=\"darkgrid\")\n",
    "\n",
    "# Create the countplot\n",
    "ax = sns.histplot(data=df, x='avg_rating', bins=np.arange(2.5,5.25, 0.125))\n",
    "\n",
    "# Set labels and title\n",
    "ax.set_xlabel('Average Rating')\n",
    "ax.set_ylabel('Count')\n",
    "ax.set_title('Distribution of Average Rating')\n",
    "\n",
    "# Display the plot\n",
    "plt.savefig('./data/plots/avg_rating.png')\n",
    "plt.show()\n"
   ]
  },
  {
   "cell_type": "markdown",
   "id": "4a5004e5-242e-45fc-92ff-8aef43e4f6c0",
   "metadata": {},
   "source": [
    "### Text length and Word count"
   ]
  },
  {
   "cell_type": "code",
   "execution_count": 19,
   "id": "aaf8c9fa-813c-4090-9071-f4fe5fb4f3d7",
   "metadata": {
    "execution": {
     "iopub.execute_input": "2023-05-27T16:28:15.488813Z",
     "iopub.status.busy": "2023-05-27T16:28:15.488606Z",
     "iopub.status.idle": "2023-05-27T16:28:27.254248Z",
     "shell.execute_reply": "2023-05-27T16:28:27.253567Z",
     "shell.execute_reply.started": "2023-05-27T16:28:15.488794Z"
    },
    "tags": []
   },
   "outputs": [
    {
     "data": {
      "image/png": "[encoded data removed]",
      "text/plain": [
       "<Figure size 640x480 with 1 Axes>"
      ]
     },
     "metadata": {},
     "output_type": "display_data"
    }
   ],
   "source": [
    "# Set the style of the plot\n",
    "sns.set(style=\"darkgrid\")\n",
    "\n",
    "# Select the 'text' column and drop rows with missing values\n",
    "text = df[['text']].dropna()\n",
    "\n",
    "# Calculate the text length\n",
    "text['text_length'] = text['text'].apply(len)\n",
    "\n",
    "# Plot the distribution of text length\n",
    "sns.histplot(text['text_length'], kde=False, bins=np.arange(0, 1000, 100))\n",
    "plt.xlabel('Text Length')\n",
    "plt.ylabel('Frequency')\n",
    "plt.title('Distribution of Text Length')\n",
    "\n",
    "# Display the plot\n",
    "plt.savefig('./data/plots/text_length.png')\n",
    "plt.show()"
   ]
  },
  {
   "cell_type": "code",
   "execution_count": 20,
   "id": "07bec2ef-c5e3-4b27-b5b4-2b99f09df8ad",
   "metadata": {
    "execution": {
     "iopub.execute_input": "2023-05-27T16:28:27.255356Z",
     "iopub.status.busy": "2023-05-27T16:28:27.255138Z",
     "iopub.status.idle": "2023-05-27T16:29:52.137293Z",
     "shell.execute_reply": "2023-05-27T16:29:52.136418Z",
     "shell.execute_reply.started": "2023-05-27T16:28:27.255336Z"
    },
    "tags": []
   },
   "outputs": [
    {
     "data": {
      "image/png": "[encoded data removed]",
      "text/plain": [
       "<Figure size 640x480 with 1 Axes>"
      ]
     },
     "metadata": {},
     "output_type": "display_data"
    }
   ],
   "source": [
    "# Set the style of the plot\n",
    "sns.set(style=\"darkgrid\")\n",
    "\n",
    "# Calculate the number of words\n",
    "text['num_words'] = text['text'].str.split().apply(len)\n",
    "\n",
    "# Plot the distribution of the number of words\n",
    "sns.histplot(text['num_words'], kde=False, bins=np.arange(0, 200, 20), alpha=0.5)\n",
    "plt.xlabel('Number of Words')\n",
    "plt.ylabel('Frequency')\n",
    "plt.title('Distribution of Number of Words')\n",
    "\n",
    "# Display the plot\n",
    "plt.savefig('./data/plots/number_of_words.png')\n",
    "plt.show()\n"
   ]
  },
  {
   "cell_type": "markdown",
   "id": "d2b7562a-c231-41b5-99ef-c94490f5ee48",
   "metadata": {},
   "source": [
    "### Geospatial Analysis"
   ]
  },
  {
   "cell_type": "code",
   "execution_count": 21,
   "id": "303c3af9-c767-48ba-9019-43e1174dfedb",
   "metadata": {
    "execution": {
     "iopub.execute_input": "2023-05-27T16:29:52.143453Z",
     "iopub.status.busy": "2023-05-27T16:29:52.143036Z",
     "iopub.status.idle": "2023-05-27T16:30:02.449581Z",
     "shell.execute_reply": "2023-05-27T16:30:02.448794Z",
     "shell.execute_reply.started": "2023-05-27T16:29:52.143431Z"
    },
    "tags": []
   },
   "outputs": [
    {
     "data": {
      "image/png": "[encoded data removed]",
      "text/plain": [
       "<Figure size 700x600 with 1 Axes>"
      ]
     },
     "metadata": {},
     "output_type": "display_data"
    }
   ],
   "source": [
    "# Filter latitude outliers\n",
    "latitude_min = df['latitude'].quantile(0.05)\n",
    "latitude_max = df['latitude'].quantile(0.95)\n",
    "df_position = df[(df['latitude'] >= latitude_min) & (df['latitude'] <= latitude_max)]\n",
    "\n",
    "# Filter longitude outliers\n",
    "longitude_min = df['longitude'].quantile(0.05)\n",
    "longitude_max = df['longitude'].quantile(0.95)\n",
    "df_position = df[(df['longitude'] >= longitude_min) & (df['longitude'] <= longitude_max)]\n",
    "\n",
    "# Set the style of the plot\n",
    "sns.set(style=\"darkgrid\")\n",
    "\n",
    "# Create the scatter plot\n",
    "plt.figure(figsize=(7, 6))\n",
    "ax = sns.scatterplot(data=df_position, x='longitude', y='latitude', s=0.3, color='blue', alpha=0.5)\n",
    "\n",
    "# Set labels and title with smaller font size\n",
    "ax.set_xlabel('Longitude', fontsize=10)\n",
    "ax.set_ylabel('Latitude', fontsize=10)\n",
    "ax.set_title('Restaurant Locations', fontsize=12)\n",
    "\n",
    "# Set the aspect ratio to equal for a more accurate representation of locations\n",
    "ax.set_aspect('equal', adjustable='box')\n",
    "\n",
    "# Display the plot\n",
    "plt.savefig('./data/plots/location.png')\n",
    "plt.show()"
   ]
  },
  {
   "cell_type": "markdown",
   "id": "812c55a8-31cd-4f40-a634-d5a03134329a",
   "metadata": {},
   "source": [
    "### Time Analysis"
   ]
  },
  {
   "cell_type": "code",
   "execution_count": 22,
   "id": "e7cbebac-11ec-4923-a97b-7282b1aa5ee6",
   "metadata": {
    "execution": {
     "iopub.execute_input": "2023-05-27T16:30:02.450791Z",
     "iopub.status.busy": "2023-05-27T16:30:02.450584Z",
     "iopub.status.idle": "2023-05-27T16:30:08.632896Z",
     "shell.execute_reply": "2023-05-27T16:30:08.632160Z",
     "shell.execute_reply.started": "2023-05-27T16:30:02.450772Z"
    },
    "tags": []
   },
   "outputs": [
    {
     "data": {
      "image/png": "[encoded data removed]",
      "text/plain": [
       "<Figure size 640x480 with 1 Axes>"
      ]
     },
     "metadata": {},
     "output_type": "display_data"
    }
   ],
   "source": [
    "# Time Analysis\n",
    "df['time'] = pd.to_datetime(df['time'], unit='ms')\n",
    "df['year'] = df['time'].dt.year\n",
    "df['month'] = df['time'].dt.month\n",
    "\n",
    "monthly_counts = df.groupby(['year', 'month']).size()\n",
    "monthly_counts = monthly_counts.loc[2010:]  # Filter data for years after 2010\n",
    "\n",
    "# Create the line plot\n",
    "monthly_counts.plot(kind='line', marker='o', linestyle='-', linewidth=1, markersize=2)\n",
    "\n",
    "# Set labels and title\n",
    "plt.xlabel('Month')\n",
    "plt.ylabel('Count')\n",
    "plt.title('Monthly Review Activity')\n",
    "\n",
    "# Customize the appearance\n",
    "plt.grid(True, linestyle='--', alpha=0.5)  # Add grid lines\n",
    "plt.xticks(rotation=45)  # Rotate x-axis labels for better readability\n",
    "\n",
    "# Drop columns not needed anymore\n",
    "df.drop(columns=['month', 'year'], inplace=True)\n",
    "\n",
    "# Display the plot\n",
    "plt.tight_layout()  # Adjust the layout\n",
    "plt.savefig('./data/plots/time.png')\n",
    "plt.show()\n"
   ]
  },
  {
   "cell_type": "markdown",
   "id": "00c020a9-8cad-4152-b1cf-e823ed095e65",
   "metadata": {
    "execution": {
     "iopub.execute_input": "2023-05-27T12:33:40.853126Z",
     "iopub.status.busy": "2023-05-27T12:33:40.852294Z",
     "iopub.status.idle": "2023-05-27T12:33:40.859600Z",
     "shell.execute_reply": "2023-05-27T12:33:40.858347Z",
     "shell.execute_reply.started": "2023-05-27T12:33:40.853066Z"
    },
    "tags": []
   },
   "source": [
    "### Categories"
   ]
  },
  {
   "cell_type": "code",
   "execution_count": 23,
   "id": "aff6b791-e4fb-4a22-a44a-ae90db42df62",
   "metadata": {
    "execution": {
     "iopub.execute_input": "2023-05-27T16:30:08.634113Z",
     "iopub.status.busy": "2023-05-27T16:30:08.633842Z",
     "iopub.status.idle": "2023-05-27T16:30:09.681244Z",
     "shell.execute_reply": "2023-05-27T16:30:09.680458Z",
     "shell.execute_reply.started": "2023-05-27T16:30:08.634092Z"
    },
    "tags": []
   },
   "outputs": [
    {
     "data": {
      "text/plain": [
       "count               13186137\n",
       "unique                   243\n",
       "top       mexican restaurant\n",
       "freq                 2062459\n",
       "Name: category, dtype: object"
      ]
     },
     "execution_count": 23,
     "metadata": {},
     "output_type": "execute_result"
    }
   ],
   "source": [
    "df.category.describe()"
   ]
  },
  {
   "cell_type": "code",
   "execution_count": 24,
   "id": "f7ea63a8-29ac-44b6-a5ce-cfd5dff0ad16",
   "metadata": {
    "execution": {
     "iopub.execute_input": "2023-05-27T16:30:09.682341Z",
     "iopub.status.busy": "2023-05-27T16:30:09.682127Z",
     "iopub.status.idle": "2023-05-27T16:30:10.479362Z",
     "shell.execute_reply": "2023-05-27T16:30:10.478607Z",
     "shell.execute_reply.started": "2023-05-27T16:30:09.682321Z"
    },
    "tags": []
   },
   "outputs": [
    {
     "data": {
      "text/plain": [
       "category\n",
       "mexican restaurant      2062459\n",
       "fast food restaurant    1816598\n",
       "restaurant              1409392\n",
       "hamburger restaurant     884661\n",
       "american restaurant      777201\n",
       "pizza restaurant         759740\n",
       "seafood restaurant       505151\n",
       "italian restaurant       472205\n",
       "chinese restaurant       443298\n",
       "sushi restaurant         254015\n",
       "Name: count, dtype: int64"
      ]
     },
     "execution_count": 24,
     "metadata": {},
     "output_type": "execute_result"
    }
   ],
   "source": [
    "df.value_counts('category').head(10)"
   ]
  },
  {
   "cell_type": "code",
   "execution_count": 25,
   "id": "24c8ba24-29a2-4a01-aa36-db22d438a032",
   "metadata": {
    "execution": {
     "iopub.execute_input": "2023-05-27T16:30:10.480502Z",
     "iopub.status.busy": "2023-05-27T16:30:10.480277Z",
     "iopub.status.idle": "2023-05-27T16:30:11.215719Z",
     "shell.execute_reply": "2023-05-27T16:30:11.214927Z",
     "shell.execute_reply.started": "2023-05-27T16:30:10.480482Z"
    },
    "tags": []
   },
   "outputs": [
    {
     "data": {
      "text/plain": [
       "category\n",
       "dominican restaurant               27\n",
       "north eastern indian restaurant    26\n",
       "tempura restaurant                 22\n",
       "takoyaki restaurant                21\n",
       "sfiha restaurant                   18\n",
       "haute french restaurant            17\n",
       "native american restaurant         11\n",
       "haitian restaurant                 10\n",
       "korean beef restaurant              3\n",
       "indian sizzler restaurant           3\n",
       "Name: count, dtype: int64"
      ]
     },
     "execution_count": 25,
     "metadata": {},
     "output_type": "execute_result"
    }
   ],
   "source": [
    "df.value_counts('category').tail(10)"
   ]
  },
  {
   "cell_type": "code",
   "execution_count": null,
   "id": "88d80bef-77a9-4a90-acc7-eed72a7260aa",
   "metadata": {
    "execution": {
     "iopub.status.busy": "2023-05-29T19:49:10.411741Z",
     "iopub.status.idle": "2023-05-29T19:49:10.412167Z",
     "shell.execute_reply": "2023-05-29T19:49:10.412036Z",
     "shell.execute_reply.started": "2023-05-29T19:49:10.412007Z"
    },
    "scrolled": true,
    "tags": []
   },
   "outputs": [],
   "source": [
    "restaurant_buckets = {\n",
    "    \"East Asian\": ['korean restaurant', 'chinese restaurant', 'asian fusion restaurant', 'sushi restaurant', \n",
    "                   'filipino restaurant', 'vietnamese restaurant', 'asian restaurant', 'japanese restaurant', \n",
    "                   'mongolian barbecue restaurant', 'authentic japanese restaurant', 'taiwanese restaurant', \n",
    "                   'chinese noodle restaurant', 'shabu-shabu restaurant', 'cantonese restaurant', \n",
    "                   'conveyor belt sushi restaurant', 'japanese curry restaurant', \n",
    "                   'hong kong style fast food restaurant', 'indonesian restaurant', 'cambodian restaurant', \n",
    "                   'hot pot restaurant', 'hunan restaurant', 'shanghainese restaurant', \n",
    "                   'teppanyaki restaurant', 'tonkatsu restaurant', 'izakaya restaurant', \n",
    "                   'yakisoba restaurant', 'mandarin restaurant', 'yakiniku restaurant',\n",
    "                   'malaysian restaurant', 'sukiyaki and shabu shabu restaurant',\n",
    "                   'sundanese restaurant', 'soondae restaurant', 'kyoto style japanese restaurant', \n",
    "                   'yakitori restaurant', 'japanese regional restaurant', 'japanized western restaurant', \n",
    "                   'singaporean restaurant', 'takoyaki restaurant', 'kaiseki restaurant', \n",
    "                   'syokudo and teishoku restaurant', 'okonomiyaki restaurant', 'tempura restaurant',\n",
    "                   'japanese sweets restaurant', 'udon noodle restaurant', 'gyudon restaurant', \n",
    "                   'miso cutlet restaurant', 'sichuan restaurant', 'shandong restaurant','thai restaurant', \n",
    "                   'pho restaurant', 'dim sum restaurant','korean barbecue restaurant', 'dumpling restaurant',\n",
    "                   'delivery chinese restaurant','korean barbecue restaurant','burmese restaurant', \n",
    "                   'laotian restaurant','wok restaurant','southeast asian restaurant','korean beef restaurant'],\n",
    "    \"South Asian\": ['indian restaurant', 'pakistani restaurant', 'modern indian restaurant', \n",
    "                    'indian sizzler restaurant', 'north eastern indian restaurant', 'indian muslim restaurant',\n",
    "                    'punjabi restaurant', 'south indian restaurant', 'sri lankan restaurant', 'afghani restaurant',\n",
    "                    'bangladeshi restaurant', 'nepalese restaurant','south asian restaurant'],\n",
    "    \"Middle Eastern\": ['middle eastern restaurant', 'turkish restaurant', 'persian restaurant', \n",
    "                       'lebanese restaurant', 'israeli restaurant', 'yemenite restaurant', \n",
    "                       'armenian restaurant', 'syrian restaurant', 'egyptian restaurant',\n",
    "                       'kosher restaurant', 'falafel restaurant', 'jewish restaurant','halal restaurant'],\n",
    "    \"Latin American\": ['south american restaurant','mexican restaurant', 'taco restaurant', 'peruvian restaurant', 'cuban restaurant', \n",
    "                       'brazilian restaurant', 'argentinian restaurant', 'chilean restaurant', \n",
    "                       'venezuelan restaurant', 'ecuadorian restaurant', 'puerto rican restaurant','burrito restaurant',\n",
    "                       'salvadoran restaurant', 'latin american restaurant','colombian restaurant', \n",
    "                       'guatemalan restaurant','oaxacan restaurant', 'pan-latin restaurant',\n",
    "                       'central american restaurant', 'mexican torta restaurant','haitian restaurant', 'honduran restaurant',\n",
    "                       'costa rican restaurant', 'nicaraguan restaurant',\n",
    "                       'nuevo latino restaurant', 'dominican restaurant','jamaican restaurant', 'caribbean restaurant'],\n",
    "    \"European\": ['italian restaurant', 'irish restaurant', 'french restaurant', 'german restaurant', \n",
    "                 'spanish restaurant', 'british restaurant', 'greek restaurant', 'russian restaurant', 'gyro restaurant',\n",
    "                 'swiss restaurant', 'belgian restaurant', 'portuguese restaurant', 'scandinavian restaurant',\n",
    "                 'hungarian restaurant', 'danish restaurant', 'swedish restaurant','tapas restaurant',\n",
    "                 'mediterranean restaurant', 'european restaurant','english restaurant', 'modern european restaurant',\n",
    "                 'french steakhouse restaurant', 'czech restaurant', 'modern french restaurant', 'continental restaurant',\n",
    "                 'austrian restaurant', 'haute french restaurant', 'georgian restaurant', 'basque restaurant',\n",
    "                 'meat dish restaurant', 'croatian restaurant', 'chophouse restaurant', 'tuscan restaurant',\n",
    "                 'turkmen restaurant', 'provence restaurant','sicilian restaurant', 'eastern european restaurant',\n",
    "                 'roman restaurant', 'romanian restaurant', 'neapolitan restaurant', 'ukrainian restaurant',\n",
    "                 'polish restaurant', 'modern british restaurant', 'scottish restaurant', \n",
    "                 'alsace restaurant','northern italian restaurant', 'southern italian restaurant'],\n",
    "    \"African\": ['african restaurant', 'moroccan restaurant', 'ethiopian restaurant', \n",
    "                'west african restaurant', 'south african restaurant','eritrean restaurant', 'east african restaurant',\n",
    "                'north african restaurant', 'tunisian restaurant'],\n",
    "    \"American\": ['american restaurant', 'hawaiian restaurant', 'new american restaurant', \n",
    "                 'southern restaurant (us)', 'tex-mex restaurant', 'cajun restaurant', 'lunch restaurant',\n",
    "                 'traditional restaurant', 'traditional american restaurant', 'californian restaurant', \n",
    "                 'soul food restaurant', 'family restaurant','down home cooking restaurant', \n",
    "                 'southwestern restaurant (us)','native american restaurant','canadian restaurant'],\n",
    "    \"Chicken\": ['chicken restaurant', 'chicken wings restaurant'], \n",
    "    \"Seafood\": ['seafood restaurant', 'fish & chips restaurant', 'seafood donburi restaurant', \n",
    "                'oyster bar restaurant','angler fish restaurant'],\n",
    "    \"Barbecue\": ['barbecue restaurant'],\n",
    "    \"Vegetarian\": ['vegan restaurant', 'vegetarian restaurant', 'raw food restaurant'],\n",
    "    \"Fast Food\": ['fast food restaurant', 'hamburger restaurant', 'hot dog restaurant',\n",
    "                  'takeout restaurant','delivery restaurant','cheesesteak restaurant', \n",
    "                  'hoagie restaurant', 'po’ boys restaurant','self service restaurant'],\n",
    "    \"Pizza\": ['pizza restaurant'],\n",
    "    \"Ramen\": ['ramen restaurant'],\n",
    "    \"Noodles\": ['chinese noodle restaurant', 'udon noodle restaurant'],\n",
    "    \"Desserts\": ['dessert restaurant','sundae restaurant'],\n",
    "    \"Health and Diet\": ['health food restaurant', 'organic restaurant', 'gluten-free restaurant', 'macrobiotic restaurant'],\n",
    "    \"Breakfast\": ['breakfast restaurant','brunch restaurant', 'pancake restaurant'],\n",
    "    \"Fine Dining\": ['fine dining restaurant','modern izakaya restaurants', 'contemporary louisiana restaurant'],\n",
    "    \"Buffet\": ['buffet restaurant']\n",
    "}"
   ]
  },
  {
   "cell_type": "code",
   "execution_count": 27,
   "id": "73070d77-ad81-4c1b-9514-6cfbacf5bf47",
   "metadata": {
    "execution": {
     "iopub.execute_input": "2023-05-27T16:30:11.228987Z",
     "iopub.status.busy": "2023-05-27T16:30:11.228796Z",
     "iopub.status.idle": "2023-05-27T16:30:36.496160Z",
     "shell.execute_reply": "2023-05-27T16:30:36.495297Z",
     "shell.execute_reply.started": "2023-05-27T16:30:11.228969Z"
    },
    "tags": []
   },
   "outputs": [],
   "source": [
    "# Define function for mapping categories\n",
    "\n",
    "def get_category(restaurant):\n",
    "    for category, values in restaurant_buckets.items():\n",
    "        if restaurant in values:\n",
    "            return category\n",
    "    return 'Other'\n",
    "\n",
    "# Map categories\n",
    "df['category_bucket'] = df['category'].apply(get_category)\n"
   ]
  },
  {
   "cell_type": "code",
   "execution_count": 28,
   "id": "ccf9215b-9985-4ec5-aaab-021b7777f576",
   "metadata": {
    "execution": {
     "iopub.execute_input": "2023-05-27T16:30:36.497619Z",
     "iopub.status.busy": "2023-05-27T16:30:36.497385Z",
     "iopub.status.idle": "2023-05-27T16:30:36.973996Z",
     "shell.execute_reply": "2023-05-27T16:30:36.973294Z",
     "shell.execute_reply.started": "2023-05-27T16:30:36.497598Z"
    },
    "tags": []
   },
   "outputs": [
    {
     "data": {
      "text/plain": [
       "category_bucket\n",
       "Fast Food          2768686\n",
       "Latin American     2371814\n",
       "East Asian         1730529\n",
       "Other              1452414\n",
       "American           1303320\n",
       "European            811994\n",
       "Pizza               759740\n",
       "Seafood             522899\n",
       "Chicken             349956\n",
       "Breakfast           227076\n",
       "South Asian         222663\n",
       "Barbecue            205963\n",
       "Buffet              126905\n",
       "Middle Eastern       86185\n",
       "Vegetarian           74050\n",
       "Ramen                66166\n",
       "Health and Diet      41555\n",
       "Fine Dining          33026\n",
       "African              15886\n",
       "Desserts             15310\n",
       "Name: count, dtype: int64"
      ]
     },
     "execution_count": 28,
     "metadata": {},
     "output_type": "execute_result"
    }
   ],
   "source": [
    "df['category_bucket'].value_counts()"
   ]
  },
  {
   "cell_type": "code",
   "execution_count": 29,
   "id": "05d74889-cacb-4255-9f63-885eebe169c1",
   "metadata": {
    "execution": {
     "iopub.execute_input": "2023-05-27T16:30:36.975106Z",
     "iopub.status.busy": "2023-05-27T16:30:36.974895Z",
     "iopub.status.idle": "2023-05-27T16:30:38.036883Z",
     "shell.execute_reply": "2023-05-27T16:30:38.036139Z",
     "shell.execute_reply.started": "2023-05-27T16:30:36.975086Z"
    },
    "tags": []
   },
   "outputs": [
    {
     "data": {
      "image/png": "[encoded data removed]",
      "text/plain": [
       "<Figure size 1000x600 with 1 Axes>"
      ]
     },
     "metadata": {},
     "output_type": "display_data"
    }
   ],
   "source": [
    "# Set the style of the plot\n",
    "sns.set(style=\"darkgrid\")\n",
    "\n",
    "# Calculate count distribution\n",
    "count_distribution = df['category_bucket'].value_counts().sort_values(ascending=False)\n",
    "\n",
    "# Create the count distribution plot with inverted axes\n",
    "plt.figure(figsize=(10, 6))\n",
    "ax = sns.barplot(y=count_distribution.index, x=count_distribution.values)\n",
    "\n",
    "# Set labels and title\n",
    "plt.xlabel('Count')\n",
    "plt.ylabel('Category Bucket')\n",
    "plt.title('Count Distribution of Category Bucket')\n",
    "\n",
    "# Customize the appearance\n",
    "ax.spines['top'].set_visible(False)\n",
    "ax.spines['right'].set_visible(False)\n",
    "\n",
    "# Display the plot\n",
    "plt.tight_layout()\n",
    "plt.savefig('./data/plots/category_bucket.png')\n",
    "plt.show()\n"
   ]
  },
  {
   "cell_type": "markdown",
   "id": "8db723a3-30e6-4309-96cb-e937fc076210",
   "metadata": {},
   "source": [
    "### Text Cleaning"
   ]
  },
  {
   "cell_type": "code",
   "execution_count": 30,
   "id": "4002ca38-ff61-4408-a338-7010ff9d8a01",
   "metadata": {
    "execution": {
     "iopub.execute_input": "2023-05-27T16:30:38.038002Z",
     "iopub.status.busy": "2023-05-27T16:30:38.037787Z",
     "iopub.status.idle": "2023-05-27T16:30:38.043401Z",
     "shell.execute_reply": "2023-05-27T16:30:38.042722Z",
     "shell.execute_reply.started": "2023-05-27T16:30:38.037982Z"
    },
    "tags": []
   },
   "outputs": [
    {
     "data": {
      "text/plain": [
       "Index(['user_id', 'time', 'rating', 'text', 'gmap_id', 'name', 'latitude',\n",
       "       'longitude', 'category', 'avg_rating', 'num_of_reviews', 'price',\n",
       "       'category_bucket'],\n",
       "      dtype='object')"
      ]
     },
     "execution_count": 30,
     "metadata": {},
     "output_type": "execute_result"
    }
   ],
   "source": [
    "df.columns"
   ]
  },
  {
   "cell_type": "code",
   "execution_count": 31,
   "id": "ff6d2e3f-f200-4645-a8ee-c86d3886408f",
   "metadata": {
    "execution": {
     "iopub.execute_input": "2023-05-27T16:30:38.044401Z",
     "iopub.status.busy": "2023-05-27T16:30:38.044204Z",
     "iopub.status.idle": "2023-05-27T16:30:38.073910Z",
     "shell.execute_reply": "2023-05-27T16:30:38.072937Z",
     "shell.execute_reply.started": "2023-05-27T16:30:38.044382Z"
    },
    "tags": []
   },
   "outputs": [],
   "source": [
    "def clean_translation(sentence):\n",
    "    translation_marker = \"(Translated by Google)\"\n",
    "    original_marker = \"(Original)\"\n",
    "    \n",
    "    # Remove \"(Translated by Google)\"\n",
    "    sentence = sentence.replace(translation_marker, \"\").strip()\n",
    "    \n",
    "    # Check if \"\\(Original\\)\" exists in the sentence\n",
    "    original_index = sentence.find(original_marker)\n",
    "    if original_index != -1:\n",
    "        # Keep the text before \"\\(Original\\)\"\n",
    "        sentence = sentence[:original_index].strip()\n",
    "    \n",
    "    return sentence\n",
    "\n",
    "def preprocess(pandasseries):\n",
    "    \n",
    "    # Fix Translations\n",
    "    sentences = [clean_translation(sent).lower() for sent in pandasseries]\n",
    "    \n",
    "    # Spelling correction - EXTREMELY SLOW\n",
    "    # sentences = [TextBlob(sent).correct() for sent in pandasseries]\n",
    "    \n",
    "    # Remove newline char\n",
    "    sentences = [sent.replace('\\n', '') for sent in sentences]\n",
    "\n",
    "    # Replace non-alphanumeric characters with empty string\n",
    "    # sentences = [re.sub(r\"[^a-zA-Z0-9_ ]\", \"\", sent) for sent in sentences]\n",
    "\n",
    "    # Remove emojis\n",
    "    sentences = [emoji.demojize(sent) for sent in sentences]\n",
    "    sentences = [re.sub(r\":[^:\\s]+:\", \"\", sent) for sent in sentences]\n",
    "    sentences = [re.sub(r\":[^:\\s]+\", \"\", sent) for sent in sentences]\n",
    "\n",
    "    return sentences"
   ]
  },
  {
   "cell_type": "code",
   "execution_count": 32,
   "id": "7ddde3ae-aa25-413d-9c96-d2dd5e09fee1",
   "metadata": {
    "execution": {
     "iopub.execute_input": "2023-05-27T16:30:38.076245Z",
     "iopub.status.busy": "2023-05-27T16:30:38.075471Z",
     "iopub.status.idle": "2023-05-27T16:35:51.545077Z",
     "shell.execute_reply": "2023-05-27T16:35:51.543525Z",
     "shell.execute_reply.started": "2023-05-27T16:30:38.076211Z"
    },
    "tags": []
   },
   "outputs": [
    {
     "data": {
      "application/vnd.jupyter.widget-view+json": {
       "model_id": "48842c4094aa445eb89e06ff1f489446",
       "version_major": 2,
       "version_minor": 0
      },
      "text/plain": [
       "  0%|          | 0/2638 [00:00<?, ?it/s]"
      ]
     },
     "metadata": {},
     "output_type": "display_data"
    }
   ],
   "source": [
    "# Define the chunk size\n",
    "chunk_size = 5000\n",
    "\n",
    "# Get the total number of rows in the DataFrame\n",
    "total_rows = len(df)\n",
    "\n",
    "# Initialize an empty list to store the processed chunks\n",
    "processed_chunks = []\n",
    "\n",
    "# Iterate over the DataFrame using a range-based loop with tqdm_notebook\n",
    "for i in tqdm(range(0, total_rows, chunk_size), total=total_rows//chunk_size+1):\n",
    "    # Get the start and end indices for the current chunk\n",
    "    start = i\n",
    "    end = min(i + chunk_size, total_rows)\n",
    "    \n",
    "    # Get the chunk of the DataFrame\n",
    "    chunk = df[start:end]\n",
    "    \n",
    "    # Apply the preprocessing function to the 'text' column of the chunk\n",
    "    processed_chunk = preprocess(chunk['text'])\n",
    "    for c in processed_chunk:\n",
    "        processed_chunks.append(c)\n",
    "\n",
    "# Assign the processed column back to the original DataFrame\n",
    "df.loc[:,'clean_text'] = processed_chunks\n",
    "df.to_pickle('./data/data.pkl')"
   ]
  },
  {
   "cell_type": "markdown",
   "id": "2edee796",
   "metadata": {},
   "source": [
    "## Aspect Extraction using TF-IDF"
   ]
  },
  {
   "cell_type": "markdown",
   "id": "efc73b25",
   "metadata": {},
   "source": [
    "### Data Load"
   ]
  },
  {
   "cell_type": "code",
   "execution_count": null,
   "id": "9ad2b858",
   "metadata": {},
   "outputs": [],
   "source": [
    "dat= pd.read_pickle('data/data/data_preprocessed_reduced.pkl')"
   ]
  },
  {
   "cell_type": "markdown",
   "id": "1747a0c1",
   "metadata": {},
   "source": [
    "### Bigram TF-IDF"
   ]
  },
  {
   "cell_type": "code",
   "execution_count": null,
   "id": "07e2d759",
   "metadata": {},
   "outputs": [],
   "source": [
    "import pandas as pd\n",
    "from sklearn.feature_extraction.text import TfidfVectorizer\n",
    "from tqdm import tqdm\n",
    "\n",
    "# Create TF-IDF vectorizer\n",
    "vectorizer = TfidfVectorizer(ngram_range=(2, 2))\n",
    "\n",
    "# Fit and transform with tqdm progress bar\n",
    "tfidf_matrix = vectorizer.fit_transform(tqdm(dat[\"cleaned_text\"], total=dat[\"cleaned_text\"].shape[0]))\n",
    "\n",
    "# Retrieve feature names from vocabulary\n",
    "feature_names = vectorizer.get_feature_names_out()\n",
    "\n",
    "# Convert TF-IDF sparse matrix to DataFrame\n",
    "df = pd.DataFrame.sparse.from_spmatrix(tfidf_matrix, columns=feature_names)\n",
    "\n",
    "# Sort the features by their TF-IDF scores in descending order\n",
    "sorted_features = df.mean().sort_values(ascending=False)\n",
    "\n",
    "\n",
    "# Print the top N features with their corresponding TF-IDF scores\n",
    "top_n = 1000  # Specify the number of top features to display\n",
    "results = []\n",
    "for feature, score in (sorted_features.head(top_n).items()):\n",
    "    new_row = {'Feature': feature, 'TF-IDF Score': f\"{score:.4f}\"}\n",
    "    results.append(new_row)\n",
    "    print(f\"Feature: {feature}, TF-IDF Score: {score:.4f}\")\n",
    "\n",
    "results_df = pd.DataFrame(results)\n",
    "print(results_df)\n"
   ]
  },
  {
   "cell_type": "code",
   "execution_count": null,
   "id": "29cf49e2",
   "metadata": {},
   "outputs": [],
   "source": [
    "results_df.to_pickle('results_TFIDF_bigram.pkl')"
   ]
  },
  {
   "cell_type": "code",
   "execution_count": 4,
   "id": "47d70ad0-4e51-41b5-897f-e0e754dc3c87",
   "metadata": {
    "execution": {
     "iopub.execute_input": "2023-05-24T17:41:58.257420Z",
     "iopub.status.busy": "2023-05-24T17:41:58.257076Z",
     "iopub.status.idle": "2023-05-24T17:41:58.283464Z",
     "shell.execute_reply": "2023-05-24T17:41:58.282643Z",
     "shell.execute_reply.started": "2023-05-24T17:41:58.257394Z"
    },
    "tags": []
   },
   "outputs": [
    {
     "data": {
      "text/html": [
       "<div>\n",
       "<style scoped>\n",
       "    .dataframe tbody tr th:only-of-type {\n",
       "        vertical-align: middle;\n",
       "    }\n",
       "\n",
       "    .dataframe tbody tr th {\n",
       "        vertical-align: top;\n",
       "    }\n",
       "\n",
       "    .dataframe thead th {\n",
       "        text-align: right;\n",
       "    }\n",
       "</style>\n",
       "<table border=\"1\" class=\"dataframe\">\n",
       "  <thead>\n",
       "    <tr style=\"text-align: right;\">\n",
       "      <th></th>\n",
       "      <th>Feature</th>\n",
       "      <th>TF-IDF Score</th>\n",
       "    </tr>\n",
       "  </thead>\n",
       "  <tbody>\n",
       "    <tr>\n",
       "      <th>0</th>\n",
       "      <td>good food</td>\n",
       "      <td>0.0200</td>\n",
       "    </tr>\n",
       "    <tr>\n",
       "      <th>1</th>\n",
       "      <td>great food</td>\n",
       "      <td>0.0182</td>\n",
       "    </tr>\n",
       "    <tr>\n",
       "      <th>2</th>\n",
       "      <td>great service</td>\n",
       "      <td>0.0094</td>\n",
       "    </tr>\n",
       "    <tr>\n",
       "      <th>3</th>\n",
       "      <td>food good</td>\n",
       "      <td>0.0085</td>\n",
       "    </tr>\n",
       "    <tr>\n",
       "      <th>4</th>\n",
       "      <td>food great</td>\n",
       "      <td>0.0080</td>\n",
       "    </tr>\n",
       "    <tr>\n",
       "      <th>...</th>\n",
       "      <td>...</td>\n",
       "      <td>...</td>\n",
       "    </tr>\n",
       "    <tr>\n",
       "      <th>995</th>\n",
       "      <td>perfect place</td>\n",
       "      <td>0.0002</td>\n",
       "    </tr>\n",
       "    <tr>\n",
       "      <th>996</th>\n",
       "      <td>ve coming</td>\n",
       "      <td>0.0002</td>\n",
       "    </tr>\n",
       "    <tr>\n",
       "      <th>997</th>\n",
       "      <td>family atmosphere</td>\n",
       "      <td>0.0002</td>\n",
       "    </tr>\n",
       "    <tr>\n",
       "      <th>998</th>\n",
       "      <td>clean service</td>\n",
       "      <td>0.0002</td>\n",
       "    </tr>\n",
       "    <tr>\n",
       "      <th>999</th>\n",
       "      <td>cold beer</td>\n",
       "      <td>0.0002</td>\n",
       "    </tr>\n",
       "  </tbody>\n",
       "</table>\n",
       "<p>1000 rows × 2 columns</p>\n",
       "</div>"
      ],
      "text/plain": [
       "               Feature TF-IDF Score\n",
       "0            good food       0.0200\n",
       "1           great food       0.0182\n",
       "2        great service       0.0094\n",
       "3            food good       0.0085\n",
       "4           food great       0.0080\n",
       "..                 ...          ...\n",
       "995      perfect place       0.0002\n",
       "996          ve coming       0.0002\n",
       "997  family atmosphere       0.0002\n",
       "998      clean service       0.0002\n",
       "999          cold beer       0.0002\n",
       "\n",
       "[1000 rows x 2 columns]"
      ]
     },
     "execution_count": 4,
     "metadata": {},
     "output_type": "execute_result"
    }
   ],
   "source": [
    "results_df"
   ]
  },
  {
   "cell_type": "code",
   "execution_count": null,
   "id": "b25d123c",
   "metadata": {},
   "outputs": [],
   "source": [
    "top_n = 1000  # Specify the number of top features to display\n",
    "top_features = sorted_features.head(top_n)\n",
    "for feature, score in top_features.items():\n",
    "    print(f\"Feature: {feature}, TF-IDF Score: {score:.4f}\")"
   ]
  },
  {
   "cell_type": "markdown",
   "id": "60a82304",
   "metadata": {},
   "source": [
    "### Nouns TF-IDF"
   ]
  },
  {
   "cell_type": "code",
   "execution_count": null,
   "id": "de89ec12",
   "metadata": {},
   "outputs": [],
   "source": [
    "import pandas as pd\n",
    "from sklearn.feature_extraction.text import TfidfVectorizer\n",
    "from tqdm import tqdm\n",
    "\n",
    "# Create TF-IDF vectorizer\n",
    "vectorizer = TfidfVectorizer()\n",
    "\n",
    "# Fit and transform with tqdm progress bar\n",
    "tfidf_matrix = vectorizer.fit_transform(tqdm(dat[\"cleaned_text\"], total=dat[\"cleaned_text\"].shape[0]))\n",
    "\n",
    "# Retrieve feature names from vocabulary\n",
    "feature_names = vectorizer.get_feature_names_out()\n",
    "\n",
    "# Convert TF-IDF sparse matrix to DataFrame\n",
    "df = pd.DataFrame.sparse.from_spmatrix((tfidf_matrix), columns=feature_names)\n",
    "\n",
    "# Sort the features by their TF-IDF scores in descending order\n",
    "sorted_features = df.mean().sort_values(ascending=False)\n",
    "\n",
    "# Print the top N features with their corresponding TF-IDF scores\n",
    "top_n = 1000  # Specify the number of top features to display\n",
    "results = []\n",
    "for feature, score in (sorted_features.head(top_n).items()):\n",
    "    new_row = {'Feature': feature, 'TF-IDF Score': f\"{score:.4f}\"}\n",
    "    results.append(new_row)\n",
    "    print(f\"Feature: {feature}, TF-IDF Score: {score:.4f}\")\n",
    "\n",
    "results_df = pd.DataFrame(results)\n",
    "print(results_df)\n"
   ]
  },
  {
   "cell_type": "code",
   "execution_count": null,
   "id": "75e8eae8",
   "metadata": {},
   "outputs": [],
   "source": [
    "# Function to filter for nouns using POS tagging\n",
    "def filter_nouns(text):\n",
    "    tagged_tokens = nltk.pos_tag(nltk.word_tokenize(text))\n",
    "    nouns = [word for word, pos in tagged_tokens if pos.startswith('N')]\n",
    "    return ' '.join(nouns)\n",
    "\n",
    "# Apply the noun filtering function to the 'Feature' column\n",
    "filtered_corpus = results_df['Feature'].apply(filter_nouns)\n",
    "\n",
    "# Create a new column in the 'results' DataFrame with the filtered text\n",
    "#result['Filtered_Feature'] = filtered_corpus\n",
    "\n",
    "# Print the updated 'results' DataFrame\n",
    "#print(result)\n"
   ]
  },
  {
   "cell_type": "code",
   "execution_count": null,
   "id": "59f230f7",
   "metadata": {},
   "outputs": [],
   "source": [
    "final = results_df.drop(results_df[filtered_corpus.eq('')].index)\n",
    "final"
   ]
  },
  {
   "cell_type": "code",
   "execution_count": null,
   "id": "be0801d6",
   "metadata": {},
   "outputs": [],
   "source": [
    "final.to_pickle('results_TFIDF_nouns.pkl')"
   ]
  },
  {
   "cell_type": "code",
   "execution_count": null,
   "id": "d3fa636d",
   "metadata": {},
   "outputs": [],
   "source": [
    "final.head(50)"
   ]
  },
  {
   "cell_type": "markdown",
   "id": "651e4842",
   "metadata": {},
   "source": [
    "### TF-IDF Bigram results"
   ]
  },
  {
   "cell_type": "code",
   "execution_count": null,
   "id": "cd6931ad",
   "metadata": {},
   "outputs": [],
   "source": [
    "dat = pd.read_pickle(\"C:/Users/r/Downloads/results_TFIDF_bigram.pkl\")"
   ]
  },
  {
   "cell_type": "code",
   "execution_count": null,
   "id": "d628e407",
   "metadata": {},
   "outputs": [],
   "source": [
    "def assign_categories(df, aspects_categories):\n",
    "    category_assignments = {}\n",
    "\n",
    "    for _, row in df.iterrows():\n",
    "        feature = row['Feature']\n",
    "        categories = []\n",
    "\n",
    "        words = feature.split()\n",
    "        for word in words:\n",
    "            for category, keywords in aspects_categories.items():\n",
    "                if word in keywords:\n",
    "                    categories.append(category)\n",
    "\n",
    "        category_assignments[feature] = categories\n",
    "\n",
    "    return category_assignments\n",
    "\n",
    "\n",
    "aspects_categories = {\n",
    "    'food_quality': ['food','taste', 'dish','seasoning','taste', 'flavor', 'ingredients', 'meal'],\n",
    "    'dishes': ['burger', 'burgers', 'sushi', 'ceviche', 'crunchwrap', 'seafood', 'fish', 'rolls', 'pizza', 'tacos', \n",
    "               'salad', 'sauces', 'seasoning', 'chicken', 'bbq', 'steak', 'fries', 'onion rings', 'wings', 'pho', \n",
    "               'ramen', 'sausages', 'pasta', 'hamburgers', 'potato', 'noodles', 'dumplings', 'sushi rolls'],\n",
    "    'service': ['staff', 'service', 'waitress', 'server', 'chef', 'person', 'workers', 'customer service', \n",
    "                'waiters', 'employees', 'crew', 'hostess', 'cashiers', 'waitstaff', 'cooks','team'],\n",
    "    'price': ['price', 'prices', 'deal', 'value', 'dollars', 'cost', 'affordability', 'budget','expenses','charge','fee'],\n",
    "    'atmosphere': ['venue', 'scene', 'place','setting', 'surroundings','place', 'atmosphere', 'vibe', 'music', \n",
    "                   'building', 'spot', 'community', 'seats', 'decor', 'ambience', 'environment', 'patio', 'bar', \n",
    "                   'lighting', 'layout', 'view', 'beach front', 'seating','lighting', 'art', 'plants','architecture',\n",
    "                   'location', 'decor', 'music', 'ambience',  'seating arrangement', 'space', 'architecture'],\n",
    "    'hygiene': ['clean','dirty','hygiene','cleanliness', 'bathroom', 'restrooms'],\n",
    "    'menu_variety': ['menu', 'choices', 'items', 'sampler', 'specials', 'option', 'variety', 'selection', 'dishes', \n",
    "                     'options', 'meal', 'meals', 'topping options', 'menu items'],\n",
    "    'portion_size': ['portions', 'portion size', 'amount', 'serving', 'servings', 'size'],\n",
    "    'speed': ['wait', 'minutes', 'hour', 'time','preparation time', 'cooking time', 'serving time', \n",
    "              'waiting time', 'delivery time', 'reservation', 'turnaround', 'queue', 'line', 'rush', 'peak time'],\n",
    "    'experience': ['results', 'experience', 'pleasure', 'opportunity', 'visit', 'feel', 'feeling', 'impression',\n",
    "                   'visit', 'happy hour', 'event', 'date', 'night out', 'family meal', 'picnic', 'get-together'],\n",
    "    'availability': ['pickup', 'curbside', 'orders', 'availability', 'open', 'opening', 'hours', 'location', \n",
    "                     'locations', 'delivery','open hours', 'closing hours', 'weekdays', 'weekends', 'holidays', \n",
    "                     'delivery', 'pickup', 'location', 'parking', 'accessibility', 'proximity']\n",
    "}\n",
    "\n",
    "\n",
    "category_assignments = assign_categories(dat, aspects_categories)\n",
    "\n",
    "for feature, categories in category_assignments.items():\n",
    "    print(f\"Feature: {feature}\")\n",
    "    print(f\"Categories: {categories}\")\n",
    "    print()\n"
   ]
  },
  {
   "cell_type": "code",
   "execution_count": null,
   "id": "5056a633",
   "metadata": {},
   "outputs": [],
   "source": [
    "def generate_word_pair_overview(category_assignments):\n",
    "    category_overview = {}\n",
    "\n",
    "    for feature, categories in category_assignments.items():\n",
    "        words = feature.split()\n",
    "        pairs = [(words[i], words[i+1]) for i in range(len(words)-1)]\n",
    "\n",
    "        for category in categories:\n",
    "            if category not in category_overview:\n",
    "                category_overview[category] = []\n",
    "\n",
    "            category_overview[category].extend(pairs)\n",
    "\n",
    "    return category_overview\n",
    "\n",
    "word_pair_overview = generate_word_pair_overview(category_assignments)\n",
    "\n",
    "for category, word_pairs in word_pair_overview.items():\n",
    "    print(f\"Category: {category}\")\n",
    "    print(f\"Word Pairs: {word_pairs}\")\n",
    "    print()\n"
   ]
  },
  {
   "cell_type": "code",
   "execution_count": null,
   "id": "1f8dcf85",
   "metadata": {},
   "outputs": [],
   "source": [
    "results_bigrams =  {'food_quality': 0, 'dishes': 0, 'service': 0, 'price': 0, 'atmosphere': 0, 'hygiene': 0, 'menu_variety': 0, 'portion_size': 0, 'speed': 0, 'experience': 0, 'availability': 0}\n",
    "\n",
    "for i in word_pair_overview.keys():\n",
    "    \n",
    "    for j, z in zip(dat[\"TF-IDF Score\"], dat[\"Feature\"]):  # Corrected variable name from 'zip(dat[\"Feature\"])' to 'dat[\"Feature\"]'\n",
    "        x = ''.join(z)  # Removed redundant assignment 'x=' and fixed variable name\n",
    "        for y in word_pair_overview[i]:\n",
    "            if ' '.join(y) == x:\n",
    "                results_bigrams[i] += float(j)  # Corrected dictionary name from 'results_nouns' to 'results_bigrams'\n",
    "                \n",
    "    \n",
    "\n",
    "\n"
   ]
  },
  {
   "cell_type": "code",
   "execution_count": null,
   "id": "4fdca4b1",
   "metadata": {},
   "outputs": [],
   "source": [
    "# Create a new dictionary with values wrapped in lists\n",
    "modified_results_bigrams = {key: [value] for key, value in results_bigrams.items()}\n",
    "\n",
    "# Convert the modified dictionary to a DataFrame\n",
    "df = pd.DataFrame.from_dict(modified_results_bigrams)\n",
    "df"
   ]
  },
  {
   "cell_type": "markdown",
   "id": "a2f4b289",
   "metadata": {},
   "source": [
    "### TF-IDF Nouns results"
   ]
  },
  {
   "cell_type": "code",
   "execution_count": null,
   "id": "060d8ae0",
   "metadata": {},
   "outputs": [],
   "source": [
    "data = pd.read_pickle(\"C:/Users/r/Downloads/results_TFIDF_nouns.pkl\")"
   ]
  },
  {
   "cell_type": "code",
   "execution_count": null,
   "id": "e70574bd",
   "metadata": {},
   "outputs": [],
   "source": [
    "\n",
    "aspects_categories = {\n",
    "    'food_quality': ['food','taste', 'dish','seasoning','taste', 'flavor', 'ingredients', 'meal'],\n",
    "    'dishes': ['burger', 'burgers', 'sushi', 'ceviche', 'crunchwrap', 'seafood', 'fish', 'rolls', 'pizza', 'tacos', \n",
    "               'salad', 'sauces', 'seasoning', 'chicken', 'bbq', 'steak', 'fries', 'onion rings', 'wings', 'pho', \n",
    "               'ramen', 'sausages', 'pasta', 'hamburgers', 'potato', 'noodles', 'dumplings', 'sushi rolls'],\n",
    "    'service': ['staff', 'service', 'waitress', 'server', 'chef', 'person', 'workers', 'customer service', \n",
    "                'waiters', 'employees', 'crew', 'hostess', 'cashiers', 'waitstaff', 'cooks','team'],\n",
    "    'price': ['price', 'prices', 'deal', 'value', 'dollars', 'cost', 'affordability', 'budget','expenses','charge','fee'],\n",
    "    'atmosphere': ['venue', 'scene', 'place','setting', 'surroundings','place', 'atmosphere', 'vibe', 'music', \n",
    "                   'building', 'spot', 'community', 'seats', 'decor', 'ambience', 'environment', 'patio', 'bar', \n",
    "                   'lighting', 'layout', 'view', 'beach front', 'seating','lighting', 'art', 'plants','architecture',\n",
    "                   'location', 'decor', 'music', 'ambience',  'seating arrangement', 'space', 'architecture'],\n",
    "    'hygiene': ['clean','dirty','hygiene','cleanliness', 'bathroom', 'restrooms'],\n",
    "    'menu_variety': ['menu', 'choices', 'items', 'sampler', 'specials', 'option', 'variety', 'selection', 'dishes', \n",
    "                     'options', 'meal', 'meals', 'topping options', 'menu items'],\n",
    "    'portion_size': ['portions', 'portion size', 'amount', 'serving', 'servings', 'size'],\n",
    "    'speed': ['wait', 'minutes', 'hour', 'time','preparation time', 'cooking time', 'serving time', \n",
    "              'waiting time', 'delivery time', 'reservation', 'turnaround', 'queue', 'line', 'rush', 'peak time'],\n",
    "    'experience': ['results', 'experience', 'pleasure', 'opportunity', 'visit', 'feel', 'feeling', 'impression',\n",
    "                   'visit', 'happy hour', 'event', 'date', 'night out', 'family meal', 'picnic', 'get-together'],\n",
    "    'availability': ['pickup', 'curbside', 'orders', 'availability', 'open', 'opening', 'hours', 'location', \n",
    "                     'locations', 'delivery','open hours', 'closing hours', 'weekdays', 'weekends', 'holidays', \n",
    "                     'delivery', 'pickup', 'location', 'parking', 'accessibility', 'proximity']\n",
    "}\n",
    "def categorize_aspects(value, aspects_categories):\n",
    "    categories = []\n",
    "\n",
    "    for aspect, keywords in aspects_categories.items():\n",
    "        for keyword in keywords:\n",
    "            pattern = r'\\b{}\\b'.format(re.escape(keyword))\n",
    "            if re.search(pattern, value, flags=re.IGNORECASE):\n",
    "                categories.append(aspect)\n",
    "                break\n",
    "\n",
    "    return categories\n",
    "\n",
    "\n",
    "categories = data['Feature'].apply(categorize_aspects, aspects_categories=aspects_categories)\n",
    "\n",
    "data['Categories'] = categories"
   ]
  },
  {
   "cell_type": "code",
   "execution_count": null,
   "id": "fe80f731",
   "metadata": {},
   "outputs": [],
   "source": [
    "results_nouns = {'food_quality': 0, 'dishes': 0, 'service': 0, 'price': 0, 'atmosphere': 0, 'hygiene': 0, 'menu_variety': 0, 'portion_size': 0, 'speed': 0, 'experience': 0, 'availability': 0}\n",
    "\n",
    "for i in aspects_categories.keys():\n",
    "    for j, y in zip(data[\"TF-IDF Score\"], data[\"Categories\"]):\n",
    "        z = ' '.join(y)\n",
    "        if z == i:\n",
    "            results_nouns[i] += float(j)  # Convert j to a numeric type (e.g., float)\n",
    "\n",
    "print(results_nouns)\n"
   ]
  },
  {
   "cell_type": "code",
   "execution_count": null,
   "id": "e1626790",
   "metadata": {},
   "outputs": [],
   "source": [
    "# Create a new dictionary with values wrapped in lists\n",
    "modified_results_nouns = {key: [value] for key, value in results_nouns.items()}\n",
    "\n",
    "# Convert the modified dictionary to a DataFrame\n",
    "df = pd.DataFrame.from_dict(modified_results_nouns)\n",
    "df"
   ]
  },
  {
   "cell_type": "markdown",
   "id": "189c79a3-aa21-4f19-98de-01ba7fcb1a3f",
   "metadata": {
    "tags": []
   },
   "source": [
    "## Aspect Extraction using spaCy"
   ]
  },
  {
   "cell_type": "code",
   "execution_count": 33,
   "id": "93c5fa8c-e113-47e5-94bf-3e8fc1e0797d",
   "metadata": {
    "execution": {
     "iopub.execute_input": "2023-05-27T16:35:51.547110Z",
     "iopub.status.busy": "2023-05-27T16:35:51.546843Z",
     "iopub.status.idle": "2023-05-27T16:36:04.686454Z",
     "shell.execute_reply": "2023-05-27T16:36:04.684793Z",
     "shell.execute_reply.started": "2023-05-27T16:35:51.547086Z"
    },
    "tags": []
   },
   "outputs": [],
   "source": [
    "df = pd.read_pickle('./data/data.pkl')"
   ]
  },
  {
   "cell_type": "code",
   "execution_count": 34,
   "id": "766adbdf-fb43-47ad-8354-128b5de42e33",
   "metadata": {
    "execution": {
     "iopub.execute_input": "2023-05-27T16:36:04.688222Z",
     "iopub.status.busy": "2023-05-27T16:36:04.687973Z",
     "iopub.status.idle": "2023-05-27T16:36:06.183522Z",
     "shell.execute_reply": "2023-05-27T16:36:06.182188Z",
     "shell.execute_reply.started": "2023-05-27T16:36:04.688199Z"
    },
    "tags": []
   },
   "outputs": [],
   "source": [
    "nlp = spacy.load(\"en_core_web_lg\")"
   ]
  },
  {
   "cell_type": "code",
   "execution_count": 35,
   "id": "2f4a830f-f204-4999-b219-38b72f21c35b",
   "metadata": {
    "execution": {
     "iopub.execute_input": "2023-05-27T16:36:06.185268Z",
     "iopub.status.busy": "2023-05-27T16:36:06.184856Z",
     "iopub.status.idle": "2023-05-27T16:36:06.196869Z",
     "shell.execute_reply": "2023-05-27T16:36:06.196141Z",
     "shell.execute_reply.started": "2023-05-27T16:36:06.185242Z"
    },
    "tags": []
   },
   "outputs": [],
   "source": [
    "def find_pairs(sentence):\n",
    "    pairs = []\n",
    "    doc = nlp(sentence)\n",
    "    processed_nouns = []\n",
    "    processed_adjectives = []\n",
    "    \n",
    "    # Generate compound nouns and their adjectives first\n",
    "    for token in doc:\n",
    "        if token.dep_ == 'compound':\n",
    "            compound = token.text + \" \" + token.head.text\n",
    "            processed_nouns.append(compound)\n",
    "            processed_nouns.append(token.text)\n",
    "            processed_nouns.append(token.head.text)\n",
    "            \n",
    "            # Look for adjectives related to the compound noun\n",
    "            if token.i != 0:  # Make sure it's not the first token\n",
    "                prev_token = token.nbor(-1)\n",
    "                if prev_token.pos_ == 'ADJ':\n",
    "                    sentiment = prev_token.text\n",
    "                    polarity = TextBlob(sentiment).sentiment.polarity\n",
    "                    pairs.append({'aspect': compound, 'sentiment': sentiment, 'polarity': polarity})\n",
    "                    processed_adjectives.append(sentiment)\n",
    "            continue\n",
    "    \n",
    "    # Handle regular nouns\n",
    "        if token.pos_ == 'NOUN' and token.text not in processed_nouns:\n",
    "            adj_siblings = [sibling for sibling in token.lefts if sibling.pos_ in ['ADJ']]\n",
    "            if adj_siblings:\n",
    "                adj = adj_siblings[-1]\n",
    "                sentiment = adj.text\n",
    "\n",
    "                # Check for adverbs modifying the adjective\n",
    "                adv_modifiers = [child for child in adj.children if child.pos_ == 'ADV']\n",
    "                if adv_modifiers:\n",
    "                    sentiment = adv_modifiers[0].text + ' ' + sentiment\n",
    "\n",
    "                polarity = TextBlob(sentiment).sentiment.polarity\n",
    "                pairs.append({'aspect': token.text, 'sentiment': sentiment, 'polarity': polarity})\n",
    "\n",
    "\n",
    "            # Check for adjective after noun\n",
    "            for child in token.head.children:\n",
    "                if child.dep_ == 'acomp':  # adjectival complement\n",
    "                    sentiment = child.text\n",
    "                    \n",
    "                    polarity = TextBlob(sentiment).sentiment.polarity\n",
    "                    pairs.append({'aspect': token.text, 'sentiment': sentiment, 'polarity': polarity})\n",
    "                    processed_adjectives.append(sentiment)\n",
    "            continue\n",
    "\n",
    "    # Handle standalone adjectives\n",
    "    for token in doc:\n",
    "        try:\n",
    "            if token.pos_ == 'ADJ' and token.nbor(-1).pos_ == 'PUNCT' and token.nbor(1).pos_ == 'PUNCT' and token.text not in processed_adjectives:\n",
    "                sentiment = token.text\n",
    "                polarity = TextBlob(sentiment).sentiment.polarity\n",
    "                pairs.append({'aspect': 'sole_adjective', 'sentiment': sentiment, 'polarity': polarity})\n",
    "        except IndexError:\n",
    "            pass  # Ignore if there's no neighbor in the direction specified\n",
    "    \n",
    "    return pairs"
   ]
  },
  {
   "cell_type": "code",
   "execution_count": 36,
   "id": "b7bddede-bab8-4ec7-b378-ecfc01dc4270",
   "metadata": {
    "execution": {
     "iopub.execute_input": "2023-05-27T16:36:06.198074Z",
     "iopub.status.busy": "2023-05-27T16:36:06.197886Z",
     "iopub.status.idle": "2023-05-27T19:45:29.231294Z",
     "shell.execute_reply": "2023-05-27T19:45:29.228414Z",
     "shell.execute_reply.started": "2023-05-27T16:36:06.198056Z"
    },
    "tags": []
   },
   "outputs": [
    {
     "data": {
      "application/vnd.jupyter.widget-view+json": {
       "model_id": "0d9139efc306497f867923c9bd1dc6d3",
       "version_major": 2,
       "version_minor": 0
      },
      "text/plain": [
       "  0%|          | 0/13186137 [00:00<?, ?it/s]"
      ]
     },
     "metadata": {},
     "output_type": "display_data"
    }
   ],
   "source": [
    "def find_pairs_wrapper(text):\n",
    "    return list(find_pairs(text))\n",
    "\n",
    "n_processes = 14\n",
    "length = len(df['clean_text'])\n",
    "\n",
    "pool = Pool(n_processes)\n",
    "pairs = list(tqdm(pool.imap(find_pairs_wrapper, df['clean_text']), total=length, mininterval=10))\n",
    "pool.close()\n",
    "pool.join()\n",
    "\n",
    "df['pairs'] = pairs\n",
    "df.to_pickle('./data/data_pairs.pkl')"
   ]
  },
  {
   "cell_type": "code",
   "execution_count": 37,
   "id": "6e186c1d-0a34-4237-b97e-56292f8afb34",
   "metadata": {
    "execution": {
     "iopub.execute_input": "2023-05-27T20:56:35.378694Z",
     "iopub.status.busy": "2023-05-27T20:56:35.378438Z",
     "iopub.status.idle": "2023-05-27T20:56:35.399200Z",
     "shell.execute_reply": "2023-05-27T20:56:35.398554Z",
     "shell.execute_reply.started": "2023-05-27T20:56:35.378670Z"
    }
   },
   "outputs": [
    {
     "data": {
      "text/html": [
       "<div>\n",
       "<style scoped>\n",
       "    .dataframe tbody tr th:only-of-type {\n",
       "        vertical-align: middle;\n",
       "    }\n",
       "\n",
       "    .dataframe tbody tr th {\n",
       "        vertical-align: top;\n",
       "    }\n",
       "\n",
       "    .dataframe thead th {\n",
       "        text-align: right;\n",
       "    }\n",
       "</style>\n",
       "<table border=\"1\" class=\"dataframe\">\n",
       "  <thead>\n",
       "    <tr style=\"text-align: right;\">\n",
       "      <th></th>\n",
       "      <th>user_id</th>\n",
       "      <th>time</th>\n",
       "      <th>rating</th>\n",
       "      <th>text</th>\n",
       "      <th>gmap_id</th>\n",
       "      <th>name</th>\n",
       "      <th>latitude</th>\n",
       "      <th>longitude</th>\n",
       "      <th>category</th>\n",
       "      <th>avg_rating</th>\n",
       "      <th>num_of_reviews</th>\n",
       "      <th>price</th>\n",
       "      <th>category_bucket</th>\n",
       "      <th>clean_text</th>\n",
       "      <th>pairs</th>\n",
       "    </tr>\n",
       "  </thead>\n",
       "  <tbody>\n",
       "    <tr>\n",
       "      <th>0</th>\n",
       "      <td>1.078898e+20</td>\n",
       "      <td>2021-06-12 22:15:26.668</td>\n",
       "      <td>5.0</td>\n",
       "      <td>One of the best Korean rice cake places in town</td>\n",
       "      <td>0x80c2c778e3b73d33:0xbdc58662a4a97d49</td>\n",
       "      <td>San Soo Dang</td>\n",
       "      <td>34.058092</td>\n",
       "      <td>-118.29213</td>\n",
       "      <td>korean restaurant</td>\n",
       "      <td>4.4</td>\n",
       "      <td>18</td>\n",
       "      <td>None</td>\n",
       "      <td>East Asian</td>\n",
       "      <td>one of the best korean rice cake places in town</td>\n",
       "      <td>[{'aspect': 'rice cake', 'sentiment': 'korean'...</td>\n",
       "    </tr>\n",
       "    <tr>\n",
       "      <th>1</th>\n",
       "      <td>1.089912e+20</td>\n",
       "      <td>2021-01-06 05:12:07.056</td>\n",
       "      <td>5.0</td>\n",
       "      <td>Love there korean rice cake.</td>\n",
       "      <td>0x80c2c778e3b73d33:0xbdc58662a4a97d49</td>\n",
       "      <td>San Soo Dang</td>\n",
       "      <td>34.058092</td>\n",
       "      <td>-118.29213</td>\n",
       "      <td>korean restaurant</td>\n",
       "      <td>4.4</td>\n",
       "      <td>18</td>\n",
       "      <td>None</td>\n",
       "      <td>East Asian</td>\n",
       "      <td>love there korean rice cake.</td>\n",
       "      <td>[{'aspect': 'rice cake', 'sentiment': 'korean'...</td>\n",
       "    </tr>\n",
       "    <tr>\n",
       "      <th>2</th>\n",
       "      <td>1.112903e+20</td>\n",
       "      <td>2021-02-09 05:47:28.663</td>\n",
       "      <td>5.0</td>\n",
       "      <td>Good very good</td>\n",
       "      <td>0x80c2c778e3b73d33:0xbdc58662a4a97d49</td>\n",
       "      <td>San Soo Dang</td>\n",
       "      <td>34.058092</td>\n",
       "      <td>-118.29213</td>\n",
       "      <td>korean restaurant</td>\n",
       "      <td>4.4</td>\n",
       "      <td>18</td>\n",
       "      <td>None</td>\n",
       "      <td>East Asian</td>\n",
       "      <td>good very good</td>\n",
       "      <td>[]</td>\n",
       "    </tr>\n",
       "    <tr>\n",
       "      <th>3</th>\n",
       "      <td>1.126404e+20</td>\n",
       "      <td>2020-03-08 05:04:42.296</td>\n",
       "      <td>4.0</td>\n",
       "      <td>They make Korean traditional food very properly.</td>\n",
       "      <td>0x80c2c778e3b73d33:0xbdc58662a4a97d49</td>\n",
       "      <td>San Soo Dang</td>\n",
       "      <td>34.058092</td>\n",
       "      <td>-118.29213</td>\n",
       "      <td>korean restaurant</td>\n",
       "      <td>4.4</td>\n",
       "      <td>18</td>\n",
       "      <td>None</td>\n",
       "      <td>East Asian</td>\n",
       "      <td>they make korean traditional food very properly.</td>\n",
       "      <td>[{'aspect': 'food', 'sentiment': 'traditional'...</td>\n",
       "    </tr>\n",
       "    <tr>\n",
       "      <th>4</th>\n",
       "      <td>1.174403e+20</td>\n",
       "      <td>2019-03-07 05:56:56.355</td>\n",
       "      <td>5.0</td>\n",
       "      <td>Short ribs are very delicious.</td>\n",
       "      <td>0x80c2c778e3b73d33:0xbdc58662a4a97d49</td>\n",
       "      <td>San Soo Dang</td>\n",
       "      <td>34.058092</td>\n",
       "      <td>-118.29213</td>\n",
       "      <td>korean restaurant</td>\n",
       "      <td>4.4</td>\n",
       "      <td>18</td>\n",
       "      <td>None</td>\n",
       "      <td>East Asian</td>\n",
       "      <td>short ribs are very delicious.</td>\n",
       "      <td>[{'aspect': 'ribs', 'sentiment': 'short', 'pol...</td>\n",
       "    </tr>\n",
       "  </tbody>\n",
       "</table>\n",
       "</div>"
      ],
      "text/plain": [
       "        user_id                    time  rating   \n",
       "0  1.078898e+20 2021-06-12 22:15:26.668     5.0  \\\n",
       "1  1.089912e+20 2021-01-06 05:12:07.056     5.0   \n",
       "2  1.112903e+20 2021-02-09 05:47:28.663     5.0   \n",
       "3  1.126404e+20 2020-03-08 05:04:42.296     4.0   \n",
       "4  1.174403e+20 2019-03-07 05:56:56.355     5.0   \n",
       "\n",
       "                                               text   \n",
       "0   One of the best Korean rice cake places in town  \\\n",
       "1                      Love there korean rice cake.   \n",
       "2                                    Good very good   \n",
       "3  They make Korean traditional food very properly.   \n",
       "4                    Short ribs are very delicious.   \n",
       "\n",
       "                                 gmap_id          name   latitude  longitude   \n",
       "0  0x80c2c778e3b73d33:0xbdc58662a4a97d49  San Soo Dang  34.058092 -118.29213  \\\n",
       "1  0x80c2c778e3b73d33:0xbdc58662a4a97d49  San Soo Dang  34.058092 -118.29213   \n",
       "2  0x80c2c778e3b73d33:0xbdc58662a4a97d49  San Soo Dang  34.058092 -118.29213   \n",
       "3  0x80c2c778e3b73d33:0xbdc58662a4a97d49  San Soo Dang  34.058092 -118.29213   \n",
       "4  0x80c2c778e3b73d33:0xbdc58662a4a97d49  San Soo Dang  34.058092 -118.29213   \n",
       "\n",
       "            category  avg_rating  num_of_reviews price category_bucket   \n",
       "0  korean restaurant         4.4              18  None      East Asian  \\\n",
       "1  korean restaurant         4.4              18  None      East Asian   \n",
       "2  korean restaurant         4.4              18  None      East Asian   \n",
       "3  korean restaurant         4.4              18  None      East Asian   \n",
       "4  korean restaurant         4.4              18  None      East Asian   \n",
       "\n",
       "                                         clean_text   \n",
       "0   one of the best korean rice cake places in town  \\\n",
       "1                      love there korean rice cake.   \n",
       "2                                    good very good   \n",
       "3  they make korean traditional food very properly.   \n",
       "4                    short ribs are very delicious.   \n",
       "\n",
       "                                               pairs  \n",
       "0  [{'aspect': 'rice cake', 'sentiment': 'korean'...  \n",
       "1  [{'aspect': 'rice cake', 'sentiment': 'korean'...  \n",
       "2                                                 []  \n",
       "3  [{'aspect': 'food', 'sentiment': 'traditional'...  \n",
       "4  [{'aspect': 'ribs', 'sentiment': 'short', 'pol...  "
      ]
     },
     "execution_count": 37,
     "metadata": {},
     "output_type": "execute_result"
    }
   ],
   "source": [
    "df.head()"
   ]
  },
  {
   "cell_type": "markdown",
   "id": "0622be25-19eb-4574-88b2-2aaf69b86324",
   "metadata": {},
   "source": [
    "## Aspect Ranking with Naive Bayes"
   ]
  },
  {
   "cell_type": "code",
   "execution_count": 3,
   "id": "856f6c1a-8f3d-4f72-b9aa-9cb323fb95bb",
   "metadata": {
    "execution": {
     "iopub.execute_input": "2023-05-28T14:13:33.074369Z",
     "iopub.status.busy": "2023-05-28T14:13:33.073594Z",
     "iopub.status.idle": "2023-05-28T14:15:24.088123Z",
     "shell.execute_reply": "2023-05-28T14:15:24.086765Z",
     "shell.execute_reply.started": "2023-05-28T14:13:33.074315Z"
    },
    "tags": []
   },
   "outputs": [],
   "source": [
    "df = pd.read_pickle('./data/data_pairs.pkl')"
   ]
  },
  {
   "cell_type": "code",
   "execution_count": 7,
   "id": "b7ed58dd-85ba-463d-90ef-f828450deeb0",
   "metadata": {
    "execution": {
     "iopub.execute_input": "2023-05-28T11:50:49.907005Z",
     "iopub.status.busy": "2023-05-28T11:50:49.906198Z",
     "iopub.status.idle": "2023-05-28T11:50:49.915015Z",
     "shell.execute_reply": "2023-05-28T11:50:49.913520Z",
     "shell.execute_reply.started": "2023-05-28T11:50:49.906949Z"
    },
    "tags": []
   },
   "outputs": [],
   "source": [
    "# extract nouns from review texts\n",
    "def extract_nouns(text):\n",
    "    blob = TextBlob(text)\n",
    "    nouns = [word for word, pos in blob.tags if pos.startswith('NN')]\n",
    "    return ' '.join(nouns)"
   ]
  },
  {
   "cell_type": "code",
   "execution_count": null,
   "id": "f67841f4-80d3-428b-8e69-95dea42a819a",
   "metadata": {
    "tags": []
   },
   "outputs": [],
   "source": [
    "from tqdm.auto import tqdm\n",
    "tqdm.pandas()\n",
    "df['nouns'] = df['clean_text'].progress_apply(extract_nouns)"
   ]
  },
  {
   "cell_type": "code",
   "execution_count": null,
   "id": "f0f4dec6-6938-45d8-8d60-1051548643ca",
   "metadata": {
    "tags": []
   },
   "outputs": [],
   "source": [
    "# transform aspect-sentiment pairs for fitting NB classifer\n",
    "df['pairs_list'] = df['pairs'].apply(lambda x: [f\"{d['aspect']} {d['sentiment']}\" for d in x])"
   ]
  },
  {
   "cell_type": "code",
   "execution_count": null,
   "id": "0bf1187e-a795-43d2-a7a3-737dd22590f8",
   "metadata": {
    "tags": []
   },
   "outputs": [],
   "source": [
    "df.head()"
   ]
  },
  {
   "cell_type": "code",
   "execution_count": null,
   "id": "6bd76aed-5fa6-400a-a589-48e97648aac9",
   "metadata": {
    "tags": []
   },
   "outputs": [],
   "source": [
    "# Filter rows based on non-English letters in pairs_list column\n",
    "pattern = re.compile(r'[^\\x00-\\x7F]+')\n",
    "df = df[~df['pairs_list'].astype(str).str.contains(pattern)]"
   ]
  },
  {
   "cell_type": "code",
   "execution_count": null,
   "id": "401337fa-fbe7-4e4d-b902-baf12e5a10d7",
   "metadata": {
    "tags": []
   },
   "outputs": [],
   "source": [
    "df.to_pickle('./data/nouns_pairs_rating.pkl')"
   ]
  },
  {
   "cell_type": "code",
   "execution_count": 5,
   "id": "da3d1ab8-e2a3-4a41-b56c-f194a9bc1469",
   "metadata": {
    "execution": {
     "iopub.execute_input": "2023-05-28T20:17:14.571364Z",
     "iopub.status.busy": "2023-05-28T20:17:14.570587Z",
     "iopub.status.idle": "2023-05-28T20:19:53.526873Z",
     "shell.execute_reply": "2023-05-28T20:19:53.525072Z",
     "shell.execute_reply.started": "2023-05-28T20:17:14.571307Z"
    },
    "tags": []
   },
   "outputs": [],
   "source": [
    "df = pd.read_pickle('./data/nouns_pairs_rating.pkl')"
   ]
  },
  {
   "cell_type": "markdown",
   "id": "115d60d7-ce8a-47ae-abe8-ac144d7fb9e6",
   "metadata": {},
   "source": [
    "### Naive Bayes"
   ]
  },
  {
   "cell_type": "code",
   "execution_count": 6,
   "id": "579af259-0bfe-4d07-a78b-57104ce24177",
   "metadata": {
    "execution": {
     "iopub.execute_input": "2023-05-28T20:19:53.541038Z",
     "iopub.status.busy": "2023-05-28T20:19:53.540861Z",
     "iopub.status.idle": "2023-05-28T20:19:53.548941Z",
     "shell.execute_reply": "2023-05-28T20:19:53.547564Z",
     "shell.execute_reply.started": "2023-05-28T20:19:53.541022Z"
    },
    "tags": []
   },
   "outputs": [],
   "source": [
    "def fit_NB(column_name):\n",
    "    \n",
    "    # Prepare the training data\n",
    "    reviews = df[column_name].tolist()\n",
    "    # print(reviews)\n",
    "    y = df['rating'].tolist() # more number of tokens than ratings -> see if it works, otherwise create new df with 1 pair + rating per record\n",
    "    \n",
    "    if column_name == 'pairs_list':\n",
    "        \n",
    "        # create custom tokens from aspect-sentiment pairs\n",
    "        data_flat = sorted({item for sublist in reviews for item in sublist})\n",
    "        \n",
    "        custom_tokens = {token: idx for idx, token in enumerate(data_flat)}\n",
    "      \n",
    "        # calculate number of words of token with the most words \n",
    "        max_words = max(len(element.split()) for element in data_flat)\n",
    "        \n",
    "        # Concatenate sublist strings\n",
    "        data_concatenated = [' '.join(sublist) for sublist in reviews]\n",
    "\n",
    "        # Create a CountVectorizer with the custom tokens\n",
    "        vectorizer = CountVectorizer(vocabulary=custom_tokens, ngram_range=(2,max_words))\n",
    "\n",
    "        # Transform the data into a matrix of token counts\n",
    "        X = vectorizer.fit_transform(data_concatenated)\n",
    "        \n",
    "    else:\n",
    "        vectorizer = CountVectorizer()\n",
    "        # Convert the reviews to a matrix of token counts (Bag-of-Words representation)\n",
    "        X = vectorizer.fit_transform(reviews)\n",
    "\n",
    "    # Train the Naive Bayes classifier\n",
    "    classifier = MultinomialNB()\n",
    "    classifier.fit(X, y)\n",
    "    \n",
    "    return classifier, vectorizer"
   ]
  },
  {
   "cell_type": "code",
   "execution_count": 7,
   "id": "9fb84f39-0bd9-4109-9736-b5629635dd6a",
   "metadata": {
    "execution": {
     "iopub.execute_input": "2023-05-28T20:19:53.551029Z",
     "iopub.status.busy": "2023-05-28T20:19:53.550840Z",
     "iopub.status.idle": "2023-05-28T20:19:53.655363Z",
     "shell.execute_reply": "2023-05-28T20:19:53.653819Z",
     "shell.execute_reply.started": "2023-05-28T20:19:53.551014Z"
    },
    "tags": []
   },
   "outputs": [],
   "source": [
    "# rank most important aspects associated with a specific star rating\n",
    "\n",
    "def rank_aspects(n_rating_stars, classifier, vectorizer):\n",
    "\n",
    "    # Get the index corresponding to the 5-star rating class\n",
    "    star_index = list(classifier.classes_).index(n_rating_stars)\n",
    "\n",
    "    # Retrieve the weights (log probabilities) for the 5-star rating class\n",
    "    weights = classifier.feature_log_prob_[star_index]\n",
    "\n",
    "    # Sort the weights in descending order and get the corresponding indices\n",
    "    sorted_indices = weights.argsort()[::-1]\n",
    "\n",
    "    # Get the feature names (words) corresponding to the sorted indices\n",
    "    feature_names = {v: k for k, v in vectorizer.vocabulary_.items()}\n",
    "\n",
    "    # Extract the most important words associated with a 5-star rating and their probabilities\n",
    "    top_words = [(feature_names[i], weights[i]) for i in sorted_indices]  # Replace '50' with the desired number of words\n",
    "    \n",
    "    aspects_list = []\n",
    "    # Append aspects and probabilities to the list\n",
    "    for aspect, probability in top_words:\n",
    "        if aspect != '':\n",
    "            aspects_list.append({'Aspect': aspect, 'Probability': np.exp(probability)})\n",
    "\n",
    "    # Create a DataFrame from the list of aspects and probabilities\n",
    "    df = pd.DataFrame(aspects_list)\n",
    "\n",
    "    return df"
   ]
  },
  {
   "cell_type": "markdown",
   "id": "51e94419-52ae-4e85-bc0e-1195a189f9fe",
   "metadata": {},
   "source": [
    "### Summarize Aspect Categories"
   ]
  },
  {
   "cell_type": "code",
   "execution_count": 16,
   "id": "c4a471d3-5a54-453a-98f8-d154995c995c",
   "metadata": {
    "execution": {
     "iopub.execute_input": "2023-05-28T20:23:19.266506Z",
     "iopub.status.busy": "2023-05-28T20:23:19.266279Z",
     "iopub.status.idle": "2023-05-28T20:23:19.275090Z",
     "shell.execute_reply": "2023-05-28T20:23:19.274436Z",
     "shell.execute_reply.started": "2023-05-28T20:23:19.266488Z"
    },
    "tags": []
   },
   "outputs": [],
   "source": [
    "aspects_categories = {\n",
    "    'food_quality': ['food','taste', 'dish','seasoning','taste', 'flavor', 'ingredients', 'meal'],\n",
    "    'dishes': ['burger', 'burgers', 'sushi', 'ceviche', 'crunchwrap', 'seafood', 'fish', 'rolls', 'pizza', 'tacos', \n",
    "               'salad', 'sauces', 'seasoning', 'chicken', 'bbq', 'steak', 'fries', 'onion rings', 'wings', 'pho', \n",
    "               'ramen', 'sausages', 'pasta', 'hamburgers', 'potato', 'noodles', 'dumplings', 'sushi rolls'],\n",
    "    'service': ['staff', 'service', 'waitress', 'server', 'chef', 'person', 'workers', 'customer service', \n",
    "                'waiters', 'employees', 'crew', 'hostess', 'cashiers', 'waitstaff', 'cooks','team'],\n",
    "    'price': ['price', 'prices', 'deal', 'value', 'dollars', 'cost', 'affordability', 'budget','expenses','charge','fee'],\n",
    "    'atmosphere': ['venue', 'scene', 'place','setting', 'surroundings','place', 'atmosphere', 'vibe', 'music', \n",
    "                   'building', 'spot', 'community', 'seats', 'decor', 'ambience', 'environment', 'patio', 'bar', \n",
    "                   'lighting', 'layout', 'view', 'beach front', 'seating','lighting', 'art', 'plants','architecture',\n",
    "                   'location', 'decor', 'music', 'ambience',  'seating arrangement', 'space', 'architecture'],\n",
    "    'hygiene': ['clean','dirty','hygiene','cleanliness', 'bathroom', 'restrooms'],\n",
    "    'menu_variety': ['menu', 'choices', 'items', 'sampler', 'specials', 'option', 'variety', 'selection', 'dishes', \n",
    "                     'options', 'meal', 'meals', 'topping options', 'menu items'],\n",
    "    'portion_size': ['portions', 'portion size', 'amount', 'serving', 'servings', 'size'],\n",
    "    'speed': ['wait', 'minutes', 'hour', 'time','preparation time', 'cooking time', 'serving time', \n",
    "              'waiting time', 'delivery time', 'reservation', 'turnaround', 'queue', 'line', 'rush', 'peak time'],\n",
    "    'experience': ['results', 'experience', 'pleasure', 'opportunity', 'visit', 'feel', 'feeling', 'impression',\n",
    "                   'visit', 'happy hour', 'event', 'date', 'night out', 'family meal', 'picnic', 'get-together'],\n",
    "    'availability': ['pickup', 'curbside', 'orders', 'availability', 'open', 'opening', 'hours', 'location', \n",
    "                     'locations', 'delivery','open hours', 'closing hours', 'weekdays', 'weekends', 'holidays', \n",
    "                     'delivery', 'pickup', 'location', 'parking', 'accessibility', 'proximity']\n",
    "}"
   ]
  },
  {
   "cell_type": "code",
   "execution_count": 17,
   "id": "0d0a11e8-a137-4972-a6a9-2cd708e196e9",
   "metadata": {
    "execution": {
     "iopub.execute_input": "2023-05-28T20:23:19.276022Z",
     "iopub.status.busy": "2023-05-28T20:23:19.275852Z",
     "iopub.status.idle": "2023-05-28T20:23:19.306735Z",
     "shell.execute_reply": "2023-05-28T20:23:19.305844Z",
     "shell.execute_reply.started": "2023-05-28T20:23:19.276006Z"
    },
    "tags": []
   },
   "outputs": [],
   "source": [
    "def assign_aspect_category(aspect):\n",
    "    for category, keywords in aspects_categories.items():\n",
    "        if any(keyword in aspect for keyword in keywords):\n",
    "            return category\n",
    "    return 'other'"
   ]
  },
  {
   "cell_type": "markdown",
   "id": "6a856665-fce3-499e-b9fc-f6ecc143eff7",
   "metadata": {},
   "source": [
    "### Naive Bayes with noun aspects"
   ]
  },
  {
   "cell_type": "code",
   "execution_count": 26,
   "id": "41ddfc71-e377-4d82-9156-1c0a8f41fa8b",
   "metadata": {
    "execution": {
     "iopub.execute_input": "2023-05-28T21:20:34.958648Z",
     "iopub.status.busy": "2023-05-28T21:20:34.958423Z",
     "iopub.status.idle": "2023-05-28T21:21:52.136571Z",
     "shell.execute_reply": "2023-05-28T21:21:52.135356Z",
     "shell.execute_reply.started": "2023-05-28T21:20:34.958630Z"
    },
    "tags": []
   },
   "outputs": [],
   "source": [
    "classifier, vectorizer = fit_NB('nouns')"
   ]
  },
  {
   "cell_type": "code",
   "execution_count": 27,
   "id": "c702cfff-fda8-40a5-85a8-3cf0395ebc7a",
   "metadata": {
    "execution": {
     "iopub.execute_input": "2023-05-28T21:21:52.138152Z",
     "iopub.status.busy": "2023-05-28T21:21:52.137938Z",
     "iopub.status.idle": "2023-05-28T21:21:53.666839Z",
     "shell.execute_reply": "2023-05-28T21:21:53.666024Z",
     "shell.execute_reply.started": "2023-05-28T21:21:52.138134Z"
    },
    "tags": []
   },
   "outputs": [],
   "source": [
    "nouns_5star = rank_aspects(5, classifier, vectorizer)"
   ]
  },
  {
   "cell_type": "code",
   "execution_count": 33,
   "id": "8df60eb7-ad72-468f-964e-3610558a6a90",
   "metadata": {
    "execution": {
     "iopub.execute_input": "2023-05-28T21:33:15.142214Z",
     "iopub.status.busy": "2023-05-28T21:33:15.141575Z",
     "iopub.status.idle": "2023-05-28T21:33:20.134872Z",
     "shell.execute_reply": "2023-05-28T21:33:20.134029Z",
     "shell.execute_reply.started": "2023-05-28T21:33:15.142159Z"
    },
    "tags": []
   },
   "outputs": [],
   "source": [
    "nouns_5star['aspect_category'] = nouns_5star['Aspect'].apply(assign_aspect_category)"
   ]
  },
  {
   "cell_type": "code",
   "execution_count": 34,
   "id": "edd6248c-cd14-497a-8919-8968ba2fdaa1",
   "metadata": {
    "execution": {
     "iopub.execute_input": "2023-05-28T21:33:20.147791Z",
     "iopub.status.busy": "2023-05-28T21:33:20.147604Z",
     "iopub.status.idle": "2023-05-28T21:33:20.155960Z",
     "shell.execute_reply": "2023-05-28T21:33:20.155335Z",
     "shell.execute_reply.started": "2023-05-28T21:33:20.147773Z"
    },
    "tags": []
   },
   "outputs": [
    {
     "data": {
      "text/html": [
       "<div>\n",
       "<style scoped>\n",
       "    .dataframe tbody tr th:only-of-type {\n",
       "        vertical-align: middle;\n",
       "    }\n",
       "\n",
       "    .dataframe tbody tr th {\n",
       "        vertical-align: top;\n",
       "    }\n",
       "\n",
       "    .dataframe thead th {\n",
       "        text-align: right;\n",
       "    }\n",
       "</style>\n",
       "<table border=\"1\" class=\"dataframe\">\n",
       "  <thead>\n",
       "    <tr style=\"text-align: right;\">\n",
       "      <th></th>\n",
       "      <th>Aspect</th>\n",
       "      <th>Probability</th>\n",
       "      <th>aspect_category</th>\n",
       "    </tr>\n",
       "  </thead>\n",
       "  <tbody>\n",
       "    <tr>\n",
       "      <th>0</th>\n",
       "      <td>food</td>\n",
       "      <td>0.091276</td>\n",
       "      <td>food_quality</td>\n",
       "    </tr>\n",
       "    <tr>\n",
       "      <th>1</th>\n",
       "      <td>service</td>\n",
       "      <td>0.046074</td>\n",
       "      <td>service</td>\n",
       "    </tr>\n",
       "    <tr>\n",
       "      <th>2</th>\n",
       "      <td>place</td>\n",
       "      <td>0.039244</td>\n",
       "      <td>atmosphere</td>\n",
       "    </tr>\n",
       "    <tr>\n",
       "      <th>3</th>\n",
       "      <td>staff</td>\n",
       "      <td>0.015474</td>\n",
       "      <td>service</td>\n",
       "    </tr>\n",
       "    <tr>\n",
       "      <th>4</th>\n",
       "      <td>time</td>\n",
       "      <td>0.011648</td>\n",
       "      <td>speed</td>\n",
       "    </tr>\n",
       "    <tr>\n",
       "      <th>5</th>\n",
       "      <td>restaurant</td>\n",
       "      <td>0.010662</td>\n",
       "      <td>other</td>\n",
       "    </tr>\n",
       "    <tr>\n",
       "      <th>6</th>\n",
       "      <td>pizza</td>\n",
       "      <td>0.009673</td>\n",
       "      <td>dishes</td>\n",
       "    </tr>\n",
       "    <tr>\n",
       "      <th>7</th>\n",
       "      <td>chicken</td>\n",
       "      <td>0.008202</td>\n",
       "      <td>dishes</td>\n",
       "    </tr>\n",
       "    <tr>\n",
       "      <th>8</th>\n",
       "      <td>prices</td>\n",
       "      <td>0.006724</td>\n",
       "      <td>price</td>\n",
       "    </tr>\n",
       "    <tr>\n",
       "      <th>9</th>\n",
       "      <td>tacos</td>\n",
       "      <td>0.006179</td>\n",
       "      <td>dishes</td>\n",
       "    </tr>\n",
       "  </tbody>\n",
       "</table>\n",
       "</div>"
      ],
      "text/plain": [
       "       Aspect  Probability aspect_category\n",
       "0        food     0.091276    food_quality\n",
       "1     service     0.046074         service\n",
       "2       place     0.039244      atmosphere\n",
       "3       staff     0.015474         service\n",
       "4        time     0.011648           speed\n",
       "5  restaurant     0.010662           other\n",
       "6       pizza     0.009673          dishes\n",
       "7     chicken     0.008202          dishes\n",
       "8      prices     0.006724           price\n",
       "9       tacos     0.006179          dishes"
      ]
     },
     "execution_count": 34,
     "metadata": {},
     "output_type": "execute_result"
    }
   ],
   "source": [
    "nouns_5star.head(10)"
   ]
  },
  {
   "cell_type": "code",
   "execution_count": 35,
   "id": "e93dcde4-541e-4b60-bcf1-84fee254900c",
   "metadata": {
    "execution": {
     "iopub.execute_input": "2023-05-28T21:33:22.899937Z",
     "iopub.status.busy": "2023-05-28T21:33:22.899281Z",
     "iopub.status.idle": "2023-05-28T21:33:22.931680Z",
     "shell.execute_reply": "2023-05-28T21:33:22.930737Z",
     "shell.execute_reply.started": "2023-05-28T21:33:22.899880Z"
    },
    "tags": []
   },
   "outputs": [],
   "source": [
    "categories_ranking = nouns_5star.groupby('aspect_category')['Probability'].sum().reset_index()\n",
    "categories_ranking = categories_ranking.sort_values(by='Probability', ascending=False)"
   ]
  },
  {
   "cell_type": "code",
   "execution_count": 36,
   "id": "abb3dd73-237c-43aa-ad35-4fd67ae04045",
   "metadata": {
    "execution": {
     "iopub.execute_input": "2023-05-28T21:33:23.860690Z",
     "iopub.status.busy": "2023-05-28T21:33:23.860176Z",
     "iopub.status.idle": "2023-05-28T21:33:23.871077Z",
     "shell.execute_reply": "2023-05-28T21:33:23.870098Z",
     "shell.execute_reply.started": "2023-05-28T21:33:23.860645Z"
    },
    "tags": []
   },
   "outputs": [
    {
     "name": "stdout",
     "output_type": "stream",
     "text": [
      "   aspect_category  Probability\n",
      "7            other     0.590789\n",
      "4     food_quality     0.111760\n",
      "0       atmosphere     0.076866\n",
      "10         service     0.073863\n",
      "2           dishes     0.065226\n",
      "11           speed     0.025704\n",
      "9            price     0.018908\n",
      "6     menu_variety     0.016690\n",
      "3       experience     0.008633\n",
      "8     portion_size     0.006067\n",
      "1     availability     0.003706\n",
      "5          hygiene     0.001787\n"
     ]
    }
   ],
   "source": [
    "print(categories_ranking)"
   ]
  },
  {
   "cell_type": "code",
   "execution_count": 29,
   "id": "5577e59a-31c1-43a2-8272-0ab33655a9da",
   "metadata": {
    "execution": {
     "iopub.execute_input": "2023-05-28T21:21:53.776021Z",
     "iopub.status.busy": "2023-05-28T21:21:53.775770Z",
     "iopub.status.idle": "2023-05-28T21:21:54.859577Z",
     "shell.execute_reply": "2023-05-28T21:21:54.858522Z",
     "shell.execute_reply.started": "2023-05-28T21:21:53.776000Z"
    },
    "tags": []
   },
   "outputs": [],
   "source": [
    "nouns_1star = rank_aspects(1, classifier, vectorizer)"
   ]
  },
  {
   "cell_type": "code",
   "execution_count": 37,
   "id": "7b2f25cf-4a8f-404f-9543-d7e3b19e2c09",
   "metadata": {
    "execution": {
     "iopub.execute_input": "2023-05-28T21:33:29.499657Z",
     "iopub.status.busy": "2023-05-28T21:33:29.498991Z",
     "iopub.status.idle": "2023-05-28T21:33:34.481821Z",
     "shell.execute_reply": "2023-05-28T21:33:34.480257Z",
     "shell.execute_reply.started": "2023-05-28T21:33:29.499601Z"
    },
    "tags": []
   },
   "outputs": [],
   "source": [
    "nouns_1star['aspect_category'] = nouns_1star['Aspect'].apply(assign_aspect_category)"
   ]
  },
  {
   "cell_type": "code",
   "execution_count": 38,
   "id": "885d2dc4-a7da-4427-bfc3-b37fc8ffc175",
   "metadata": {
    "execution": {
     "iopub.execute_input": "2023-05-28T21:33:34.497086Z",
     "iopub.status.busy": "2023-05-28T21:33:34.496899Z",
     "iopub.status.idle": "2023-05-28T21:33:34.505820Z",
     "shell.execute_reply": "2023-05-28T21:33:34.505165Z",
     "shell.execute_reply.started": "2023-05-28T21:33:34.497069Z"
    },
    "tags": []
   },
   "outputs": [
    {
     "data": {
      "text/html": [
       "<div>\n",
       "<style scoped>\n",
       "    .dataframe tbody tr th:only-of-type {\n",
       "        vertical-align: middle;\n",
       "    }\n",
       "\n",
       "    .dataframe tbody tr th {\n",
       "        vertical-align: top;\n",
       "    }\n",
       "\n",
       "    .dataframe thead th {\n",
       "        text-align: right;\n",
       "    }\n",
       "</style>\n",
       "<table border=\"1\" class=\"dataframe\">\n",
       "  <thead>\n",
       "    <tr style=\"text-align: right;\">\n",
       "      <th></th>\n",
       "      <th>Aspect</th>\n",
       "      <th>Probability</th>\n",
       "      <th>aspect_category</th>\n",
       "    </tr>\n",
       "  </thead>\n",
       "  <tbody>\n",
       "    <tr>\n",
       "      <th>0</th>\n",
       "      <td>food</td>\n",
       "      <td>0.050012</td>\n",
       "      <td>food_quality</td>\n",
       "    </tr>\n",
       "    <tr>\n",
       "      <th>1</th>\n",
       "      <td>service</td>\n",
       "      <td>0.029157</td>\n",
       "      <td>service</td>\n",
       "    </tr>\n",
       "    <tr>\n",
       "      <th>2</th>\n",
       "      <td>order</td>\n",
       "      <td>0.027331</td>\n",
       "      <td>other</td>\n",
       "    </tr>\n",
       "    <tr>\n",
       "      <th>3</th>\n",
       "      <td>place</td>\n",
       "      <td>0.020056</td>\n",
       "      <td>atmosphere</td>\n",
       "    </tr>\n",
       "    <tr>\n",
       "      <th>4</th>\n",
       "      <td>time</td>\n",
       "      <td>0.017576</td>\n",
       "      <td>speed</td>\n",
       "    </tr>\n",
       "    <tr>\n",
       "      <th>5</th>\n",
       "      <td>minutes</td>\n",
       "      <td>0.011197</td>\n",
       "      <td>speed</td>\n",
       "    </tr>\n",
       "    <tr>\n",
       "      <th>6</th>\n",
       "      <td>customer</td>\n",
       "      <td>0.009628</td>\n",
       "      <td>other</td>\n",
       "    </tr>\n",
       "    <tr>\n",
       "      <th>7</th>\n",
       "      <td>restaurant</td>\n",
       "      <td>0.008699</td>\n",
       "      <td>other</td>\n",
       "    </tr>\n",
       "    <tr>\n",
       "      <th>8</th>\n",
       "      <td>people</td>\n",
       "      <td>0.008259</td>\n",
       "      <td>other</td>\n",
       "    </tr>\n",
       "    <tr>\n",
       "      <th>9</th>\n",
       "      <td>chicken</td>\n",
       "      <td>0.007841</td>\n",
       "      <td>dishes</td>\n",
       "    </tr>\n",
       "  </tbody>\n",
       "</table>\n",
       "</div>"
      ],
      "text/plain": [
       "       Aspect  Probability aspect_category\n",
       "0        food     0.050012    food_quality\n",
       "1     service     0.029157         service\n",
       "2       order     0.027331           other\n",
       "3       place     0.020056      atmosphere\n",
       "4        time     0.017576           speed\n",
       "5     minutes     0.011197           speed\n",
       "6    customer     0.009628           other\n",
       "7  restaurant     0.008699           other\n",
       "8      people     0.008259           other\n",
       "9     chicken     0.007841          dishes"
      ]
     },
     "execution_count": 38,
     "metadata": {},
     "output_type": "execute_result"
    }
   ],
   "source": [
    "nouns_1star.head(10)"
   ]
  },
  {
   "cell_type": "code",
   "execution_count": 39,
   "id": "f5385971-76a1-48ff-b9f7-f5b5fef64f84",
   "metadata": {
    "execution": {
     "iopub.execute_input": "2023-05-28T21:33:34.507269Z",
     "iopub.status.busy": "2023-05-28T21:33:34.507064Z",
     "iopub.status.idle": "2023-05-28T21:33:34.692943Z",
     "shell.execute_reply": "2023-05-28T21:33:34.692143Z",
     "shell.execute_reply.started": "2023-05-28T21:33:34.507250Z"
    },
    "tags": []
   },
   "outputs": [],
   "source": [
    "categories_ranking = nouns_1star.groupby('aspect_category')['Probability'].sum().reset_index()\n",
    "categories_ranking = categories_ranking.sort_values(by='Probability', ascending=False)"
   ]
  },
  {
   "cell_type": "code",
   "execution_count": 40,
   "id": "f0a56985-e3c0-4c75-a4c0-6b9a4d8338d4",
   "metadata": {
    "execution": {
     "iopub.execute_input": "2023-05-28T21:33:34.694035Z",
     "iopub.status.busy": "2023-05-28T21:33:34.693796Z",
     "iopub.status.idle": "2023-05-28T21:33:34.703491Z",
     "shell.execute_reply": "2023-05-28T21:33:34.702785Z",
     "shell.execute_reply.started": "2023-05-28T21:33:34.694014Z"
    },
    "tags": []
   },
   "outputs": [
    {
     "name": "stdout",
     "output_type": "stream",
     "text": [
      "   aspect_category  Probability\n",
      "7            other     0.699960\n",
      "4     food_quality     0.065821\n",
      "10         service     0.054868\n",
      "11           speed     0.052473\n",
      "2           dishes     0.045619\n",
      "0       atmosphere     0.041185\n",
      "9            price     0.011363\n",
      "3       experience     0.008291\n",
      "6     menu_variety     0.007071\n",
      "1     availability     0.006559\n",
      "5          hygiene     0.003855\n",
      "8     portion_size     0.002934\n"
     ]
    }
   ],
   "source": [
    "print(categories_ranking)"
   ]
  },
  {
   "cell_type": "markdown",
   "id": "6f038bed-1816-4c08-8a2e-d0b6f4eaa73b",
   "metadata": {},
   "source": [
    "### Naive Bayes with aspect-sentiment pairs"
   ]
  },
  {
   "cell_type": "code",
   "execution_count": 13,
   "id": "4a2f288f-f277-462b-a85f-21722347fee1",
   "metadata": {
    "execution": {
     "iopub.execute_input": "2023-05-28T20:21:10.078964Z",
     "iopub.status.busy": "2023-05-28T20:21:10.078775Z",
     "iopub.status.idle": "2023-05-28T20:23:05.496235Z",
     "shell.execute_reply": "2023-05-28T20:23:05.494388Z",
     "shell.execute_reply.started": "2023-05-28T20:21:10.078948Z"
    },
    "tags": []
   },
   "outputs": [],
   "source": [
    "classifier, vectorizer = fit_NB('pairs_list')"
   ]
  },
  {
   "cell_type": "code",
   "execution_count": 14,
   "id": "c1e395da-d73c-4ee8-949e-fc45805d2fbc",
   "metadata": {
    "execution": {
     "iopub.execute_input": "2023-05-28T20:23:05.497896Z",
     "iopub.status.busy": "2023-05-28T20:23:05.497672Z",
     "iopub.status.idle": "2023-05-28T20:23:12.752089Z",
     "shell.execute_reply": "2023-05-28T20:23:12.751236Z",
     "shell.execute_reply.started": "2023-05-28T20:23:05.497879Z"
    },
    "tags": []
   },
   "outputs": [],
   "source": [
    "aspects_5star = rank_aspects(5, classifier, vectorizer)"
   ]
  },
  {
   "cell_type": "code",
   "execution_count": 15,
   "id": "0bfd3e7d-0857-404f-8aaf-4e52753f3e53",
   "metadata": {
    "execution": {
     "iopub.execute_input": "2023-05-28T20:23:12.753240Z",
     "iopub.status.busy": "2023-05-28T20:23:12.753039Z",
     "iopub.status.idle": "2023-05-28T20:23:19.264844Z",
     "shell.execute_reply": "2023-05-28T20:23:19.263635Z",
     "shell.execute_reply.started": "2023-05-28T20:23:12.753223Z"
    },
    "tags": []
   },
   "outputs": [],
   "source": [
    "aspects_1star = rank_aspects(1, classifier, vectorizer)"
   ]
  },
  {
   "cell_type": "markdown",
   "id": "63af9d6f-17d0-4c90-83cd-96a17053d132",
   "metadata": {
    "tags": []
   },
   "source": [
    "### Most important aspect categories, given 5-star rating"
   ]
  },
  {
   "cell_type": "code",
   "execution_count": 18,
   "id": "7d2bef49-c914-4bd4-9b5e-2871443bab95",
   "metadata": {
    "execution": {
     "iopub.execute_input": "2023-05-28T20:23:19.308487Z",
     "iopub.status.busy": "2023-05-28T20:23:19.308172Z",
     "iopub.status.idle": "2023-05-28T20:23:44.540926Z",
     "shell.execute_reply": "2023-05-28T20:23:44.539113Z",
     "shell.execute_reply.started": "2023-05-28T20:23:19.308458Z"
    },
    "tags": []
   },
   "outputs": [],
   "source": [
    "aspects_5star['aspect_category'] = aspects_5star['Aspect'].apply(assign_aspect_category)"
   ]
  },
  {
   "cell_type": "code",
   "execution_count": 19,
   "id": "91770d90-5391-4303-af59-40df17361df2",
   "metadata": {
    "execution": {
     "iopub.execute_input": "2023-05-28T20:23:44.543092Z",
     "iopub.status.busy": "2023-05-28T20:23:44.542755Z",
     "iopub.status.idle": "2023-05-28T20:23:44.555546Z",
     "shell.execute_reply": "2023-05-28T20:23:44.554936Z",
     "shell.execute_reply.started": "2023-05-28T20:23:44.543062Z"
    },
    "tags": []
   },
   "outputs": [
    {
     "data": {
      "text/html": [
       "<div>\n",
       "<style scoped>\n",
       "    .dataframe tbody tr th:only-of-type {\n",
       "        vertical-align: middle;\n",
       "    }\n",
       "\n",
       "    .dataframe tbody tr th {\n",
       "        vertical-align: top;\n",
       "    }\n",
       "\n",
       "    .dataframe thead th {\n",
       "        text-align: right;\n",
       "    }\n",
       "</style>\n",
       "<table border=\"1\" class=\"dataframe\">\n",
       "  <thead>\n",
       "    <tr style=\"text-align: right;\">\n",
       "      <th></th>\n",
       "      <th>Aspect</th>\n",
       "      <th>Probability</th>\n",
       "      <th>aspect_category</th>\n",
       "    </tr>\n",
       "  </thead>\n",
       "  <tbody>\n",
       "    <tr>\n",
       "      <th>0</th>\n",
       "      <td>food great</td>\n",
       "      <td>0.037646</td>\n",
       "      <td>food_quality</td>\n",
       "    </tr>\n",
       "    <tr>\n",
       "      <th>1</th>\n",
       "      <td>food good</td>\n",
       "      <td>0.025338</td>\n",
       "      <td>food_quality</td>\n",
       "    </tr>\n",
       "    <tr>\n",
       "      <th>2</th>\n",
       "      <td>service great</td>\n",
       "      <td>0.023865</td>\n",
       "      <td>service</td>\n",
       "    </tr>\n",
       "    <tr>\n",
       "      <th>3</th>\n",
       "      <td>place great</td>\n",
       "      <td>0.010205</td>\n",
       "      <td>atmosphere</td>\n",
       "    </tr>\n",
       "    <tr>\n",
       "      <th>4</th>\n",
       "      <td>service good</td>\n",
       "      <td>0.010091</td>\n",
       "      <td>service</td>\n",
       "    </tr>\n",
       "    <tr>\n",
       "      <th>5</th>\n",
       "      <td>staff friendly</td>\n",
       "      <td>0.009930</td>\n",
       "      <td>service</td>\n",
       "    </tr>\n",
       "    <tr>\n",
       "      <th>6</th>\n",
       "      <td>food delicious</td>\n",
       "      <td>0.009053</td>\n",
       "      <td>food_quality</td>\n",
       "    </tr>\n",
       "    <tr>\n",
       "      <th>7</th>\n",
       "      <td>food excellent</td>\n",
       "      <td>0.007496</td>\n",
       "      <td>food_quality</td>\n",
       "    </tr>\n",
       "    <tr>\n",
       "      <th>8</th>\n",
       "      <td>food amazing</td>\n",
       "      <td>0.007447</td>\n",
       "      <td>food_quality</td>\n",
       "    </tr>\n",
       "    <tr>\n",
       "      <th>9</th>\n",
       "      <td>service excellent</td>\n",
       "      <td>0.007320</td>\n",
       "      <td>service</td>\n",
       "    </tr>\n",
       "  </tbody>\n",
       "</table>\n",
       "</div>"
      ],
      "text/plain": [
       "              Aspect  Probability aspect_category\n",
       "0         food great     0.037646    food_quality\n",
       "1          food good     0.025338    food_quality\n",
       "2      service great     0.023865         service\n",
       "3        place great     0.010205      atmosphere\n",
       "4       service good     0.010091         service\n",
       "5     staff friendly     0.009930         service\n",
       "6     food delicious     0.009053    food_quality\n",
       "7     food excellent     0.007496    food_quality\n",
       "8       food amazing     0.007447    food_quality\n",
       "9  service excellent     0.007320         service"
      ]
     },
     "execution_count": 19,
     "metadata": {},
     "output_type": "execute_result"
    }
   ],
   "source": [
    "aspects_5star.head(10)"
   ]
  },
  {
   "cell_type": "code",
   "execution_count": 20,
   "id": "39992781-dca8-4051-bb36-2aa98f4f4ce5",
   "metadata": {
    "execution": {
     "iopub.execute_input": "2023-05-28T20:32:10.774362Z",
     "iopub.status.busy": "2023-05-28T20:32:10.774164Z",
     "iopub.status.idle": "2023-05-28T20:32:10.873664Z",
     "shell.execute_reply": "2023-05-28T20:32:10.872613Z",
     "shell.execute_reply.started": "2023-05-28T20:32:10.774346Z"
    },
    "tags": []
   },
   "outputs": [],
   "source": [
    "categories_ranking = aspects_5star.groupby('aspect_category')['Probability'].sum().reset_index()\n",
    "categories_ranking = categories_ranking.sort_values(by='Probability', ascending=False)"
   ]
  },
  {
   "cell_type": "code",
   "execution_count": 21,
   "id": "ffb9c6d2-eb89-4c55-926d-e1078f08c8a1",
   "metadata": {
    "execution": {
     "iopub.execute_input": "2023-05-28T20:32:10.874753Z",
     "iopub.status.busy": "2023-05-28T20:32:10.874535Z",
     "iopub.status.idle": "2023-05-28T20:32:10.939309Z",
     "shell.execute_reply": "2023-05-28T20:32:10.938536Z",
     "shell.execute_reply.started": "2023-05-28T20:32:10.874735Z"
    },
    "tags": []
   },
   "outputs": [
    {
     "name": "stdout",
     "output_type": "stream",
     "text": [
      "   aspect_category  Probability\n",
      "7            other     0.357104\n",
      "4     food_quality     0.189291\n",
      "10         service     0.138918\n",
      "0       atmosphere     0.110788\n",
      "2           dishes     0.084195\n",
      "9            price     0.031852\n",
      "11           speed     0.028548\n",
      "6     menu_variety     0.025022\n",
      "3       experience     0.013057\n",
      "8     portion_size     0.011957\n",
      "5          hygiene     0.005240\n",
      "1     availability     0.004028\n"
     ]
    }
   ],
   "source": [
    "# Most important aspect categories, given 5-star rating\n",
    "print(categories_ranking)"
   ]
  },
  {
   "cell_type": "markdown",
   "id": "ad5026e8-b308-4cfe-ab65-d74e8e3d3471",
   "metadata": {},
   "source": [
    "### Most important aspect categories, given 1-star rating"
   ]
  },
  {
   "cell_type": "code",
   "execution_count": 22,
   "id": "8234c3c5-288c-42e5-956f-29a6aebf28c5",
   "metadata": {
    "execution": {
     "iopub.execute_input": "2023-05-28T20:32:10.940477Z",
     "iopub.status.busy": "2023-05-28T20:32:10.940161Z",
     "iopub.status.idle": "2023-05-28T20:32:34.937733Z",
     "shell.execute_reply": "2023-05-28T20:32:34.936305Z",
     "shell.execute_reply.started": "2023-05-28T20:32:10.940455Z"
    },
    "tags": []
   },
   "outputs": [],
   "source": [
    "aspects_1star['aspect_category'] = aspects_1star['Aspect'].apply(assign_aspect_category)"
   ]
  },
  {
   "cell_type": "code",
   "execution_count": 23,
   "id": "b267ff8f-921a-4f5c-8335-f63f9139f650",
   "metadata": {
    "execution": {
     "iopub.execute_input": "2023-05-28T20:32:34.939273Z",
     "iopub.status.busy": "2023-05-28T20:32:34.939027Z",
     "iopub.status.idle": "2023-05-28T20:32:34.951435Z",
     "shell.execute_reply": "2023-05-28T20:32:34.950127Z",
     "shell.execute_reply.started": "2023-05-28T20:32:34.939254Z"
    },
    "tags": []
   },
   "outputs": [
    {
     "data": {
      "text/html": [
       "<div>\n",
       "<style scoped>\n",
       "    .dataframe tbody tr th:only-of-type {\n",
       "        vertical-align: middle;\n",
       "    }\n",
       "\n",
       "    .dataframe tbody tr th {\n",
       "        vertical-align: top;\n",
       "    }\n",
       "\n",
       "    .dataframe thead th {\n",
       "        text-align: right;\n",
       "    }\n",
       "</style>\n",
       "<table border=\"1\" class=\"dataframe\">\n",
       "  <thead>\n",
       "    <tr style=\"text-align: right;\">\n",
       "      <th></th>\n",
       "      <th>Aspect</th>\n",
       "      <th>Probability</th>\n",
       "      <th>aspect_category</th>\n",
       "    </tr>\n",
       "  </thead>\n",
       "  <tbody>\n",
       "    <tr>\n",
       "      <th>0</th>\n",
       "      <td>service bad</td>\n",
       "      <td>0.008211</td>\n",
       "      <td>service</td>\n",
       "    </tr>\n",
       "    <tr>\n",
       "      <th>1</th>\n",
       "      <td>food good</td>\n",
       "      <td>0.006480</td>\n",
       "      <td>food_quality</td>\n",
       "    </tr>\n",
       "    <tr>\n",
       "      <th>2</th>\n",
       "      <td>service horrible</td>\n",
       "      <td>0.006367</td>\n",
       "      <td>service</td>\n",
       "    </tr>\n",
       "    <tr>\n",
       "      <th>3</th>\n",
       "      <td>service terrible</td>\n",
       "      <td>0.004937</td>\n",
       "      <td>service</td>\n",
       "    </tr>\n",
       "    <tr>\n",
       "      <th>4</th>\n",
       "      <td>time first</td>\n",
       "      <td>0.004902</td>\n",
       "      <td>speed</td>\n",
       "    </tr>\n",
       "    <tr>\n",
       "      <th>5</th>\n",
       "      <td>food cold</td>\n",
       "      <td>0.003889</td>\n",
       "      <td>food_quality</td>\n",
       "    </tr>\n",
       "    <tr>\n",
       "      <th>6</th>\n",
       "      <td>service poor</td>\n",
       "      <td>0.003829</td>\n",
       "      <td>service</td>\n",
       "    </tr>\n",
       "    <tr>\n",
       "      <th>7</th>\n",
       "      <td>service worst</td>\n",
       "      <td>0.003677</td>\n",
       "      <td>service</td>\n",
       "    </tr>\n",
       "    <tr>\n",
       "      <th>8</th>\n",
       "      <td>time last</td>\n",
       "      <td>0.003052</td>\n",
       "      <td>speed</td>\n",
       "    </tr>\n",
       "    <tr>\n",
       "      <th>9</th>\n",
       "      <td>service slow</td>\n",
       "      <td>0.002915</td>\n",
       "      <td>service</td>\n",
       "    </tr>\n",
       "  </tbody>\n",
       "</table>\n",
       "</div>"
      ],
      "text/plain": [
       "             Aspect  Probability aspect_category\n",
       "0       service bad     0.008211         service\n",
       "1         food good     0.006480    food_quality\n",
       "2  service horrible     0.006367         service\n",
       "3  service terrible     0.004937         service\n",
       "4        time first     0.004902           speed\n",
       "5         food cold     0.003889    food_quality\n",
       "6      service poor     0.003829         service\n",
       "7     service worst     0.003677         service\n",
       "8         time last     0.003052           speed\n",
       "9      service slow     0.002915         service"
      ]
     },
     "execution_count": 23,
     "metadata": {},
     "output_type": "execute_result"
    }
   ],
   "source": [
    "aspects_1star.head(10)"
   ]
  },
  {
   "cell_type": "code",
   "execution_count": 24,
   "id": "9f6e6424-31ec-4cce-8d4c-084a4c8f6dcd",
   "metadata": {
    "execution": {
     "iopub.execute_input": "2023-05-28T20:32:34.954212Z",
     "iopub.status.busy": "2023-05-28T20:32:34.953518Z",
     "iopub.status.idle": "2023-05-28T20:32:35.083379Z",
     "shell.execute_reply": "2023-05-28T20:32:35.082210Z",
     "shell.execute_reply.started": "2023-05-28T20:32:34.954161Z"
    },
    "tags": []
   },
   "outputs": [],
   "source": [
    "categories_ranking = aspects_1star.groupby('aspect_category')['Probability'].sum().reset_index()\n",
    "categories_ranking = categories_ranking.sort_values(by='Probability', ascending=False)"
   ]
  },
  {
   "cell_type": "code",
   "execution_count": 25,
   "id": "5dcd338d-69fe-44d1-b9a5-a7ad14f092bd",
   "metadata": {
    "execution": {
     "iopub.execute_input": "2023-05-28T20:32:35.084522Z",
     "iopub.status.busy": "2023-05-28T20:32:35.084313Z",
     "iopub.status.idle": "2023-05-28T20:32:35.090745Z",
     "shell.execute_reply": "2023-05-28T20:32:35.090097Z",
     "shell.execute_reply.started": "2023-05-28T20:32:35.084504Z"
    },
    "tags": []
   },
   "outputs": [
    {
     "name": "stdout",
     "output_type": "stream",
     "text": [
      "   aspect_category  Probability\n",
      "7            other     0.548416\n",
      "10         service     0.102267\n",
      "4     food_quality     0.097738\n",
      "2           dishes     0.069540\n",
      "0       atmosphere     0.062152\n",
      "11           speed     0.045553\n",
      "3       experience     0.020002\n",
      "9            price     0.016919\n",
      "6     menu_variety     0.013996\n",
      "5          hygiene     0.009553\n",
      "8     portion_size     0.007488\n",
      "1     availability     0.006376\n"
     ]
    }
   ],
   "source": [
    "# Most important aspect categories, given 1-star rating\n",
    "print(categories_ranking)"
   ]
  },
  {
   "cell_type": "markdown",
   "id": "56a74070-5c57-48ca-b59a-c11fe07b065c",
   "metadata": {
    "tags": []
   },
   "source": [
    "## Insights and Report Generator\n",
    "First, read the pickle file generated by the find_pairs function"
   ]
  },
  {
   "cell_type": "code",
   "execution_count": 9,
   "id": "e8ee3540-28c5-4067-9d67-6da5e1b42c7d",
   "metadata": {
    "execution": {
     "iopub.execute_input": "2023-05-29T19:56:30.395280Z",
     "iopub.status.busy": "2023-05-29T19:56:30.394471Z",
     "iopub.status.idle": "2023-05-29T19:58:50.334630Z",
     "shell.execute_reply": "2023-05-29T19:58:50.333392Z",
     "shell.execute_reply.started": "2023-05-29T19:56:30.395223Z"
    },
    "tags": []
   },
   "outputs": [],
   "source": [
    "df = pd.read_pickle('data_pairs.pkl')"
   ]
  },
  {
   "cell_type": "code",
   "execution_count": 10,
   "id": "0a0fe8eb-c42b-4b48-a5a8-4e20d11758ae",
   "metadata": {
    "execution": {
     "iopub.execute_input": "2023-05-29T19:58:50.346877Z",
     "iopub.status.busy": "2023-05-29T19:58:50.346665Z",
     "iopub.status.idle": "2023-05-29T20:01:26.852945Z",
     "shell.execute_reply": "2023-05-29T20:01:26.851412Z",
     "shell.execute_reply.started": "2023-05-29T19:58:50.346856Z"
    },
    "tags": []
   },
   "outputs": [
    {
     "name": "stdout",
     "output_type": "stream",
     "text": [
      "CPU times: user 2min 30s, sys: 6.16 s, total: 2min 36s\n",
      "Wall time: 2min 36s\n"
     ]
    }
   ],
   "source": [
    "%%time\n",
    "absa = [\n",
    "    {**d, 'category_bucket': df['category_bucket'].iloc[i]}\n",
    "    for i, l in enumerate(df['pairs'])\n",
    "    for d in l\n",
    "    if len(l) != 0 and d['polarity'] != 0\n",
    "]"
   ]
  },
  {
   "cell_type": "code",
   "execution_count": 11,
   "id": "fe127b18-c1fb-453d-9a6e-96127986b0e1",
   "metadata": {
    "execution": {
     "iopub.execute_input": "2023-05-29T20:01:26.857906Z",
     "iopub.status.busy": "2023-05-29T20:01:26.857388Z",
     "iopub.status.idle": "2023-05-29T20:01:50.615744Z",
     "shell.execute_reply": "2023-05-29T20:01:50.614988Z",
     "shell.execute_reply.started": "2023-05-29T20:01:26.857868Z"
    },
    "tags": []
   },
   "outputs": [],
   "source": [
    "absa = pd.DataFrame.from_records(absa)"
   ]
  },
  {
   "cell_type": "code",
   "execution_count": 12,
   "id": "e4013d0a-21a8-4a06-8a8a-4e107939d6fa",
   "metadata": {
    "execution": {
     "iopub.execute_input": "2023-05-29T20:01:50.617619Z",
     "iopub.status.busy": "2023-05-29T20:01:50.617142Z",
     "iopub.status.idle": "2023-05-29T20:01:50.673681Z",
     "shell.execute_reply": "2023-05-29T20:01:50.672749Z",
     "shell.execute_reply.started": "2023-05-29T20:01:50.617588Z"
    },
    "tags": []
   },
   "outputs": [
    {
     "data": {
      "text/html": [
       "<div>\n",
       "<style scoped>\n",
       "    .dataframe tbody tr th:only-of-type {\n",
       "        vertical-align: middle;\n",
       "    }\n",
       "\n",
       "    .dataframe tbody tr th {\n",
       "        vertical-align: top;\n",
       "    }\n",
       "\n",
       "    .dataframe thead th {\n",
       "        text-align: right;\n",
       "    }\n",
       "</style>\n",
       "<table border=\"1\" class=\"dataframe\">\n",
       "  <thead>\n",
       "    <tr style=\"text-align: right;\">\n",
       "      <th></th>\n",
       "      <th>aspect</th>\n",
       "      <th>sentiment</th>\n",
       "      <th>polarity</th>\n",
       "      <th>category_bucket</th>\n",
       "    </tr>\n",
       "  </thead>\n",
       "  <tbody>\n",
       "    <tr>\n",
       "      <th>0</th>\n",
       "      <td>ribs</td>\n",
       "      <td>delicious</td>\n",
       "      <td>1.000000</td>\n",
       "      <td>East Asian</td>\n",
       "    </tr>\n",
       "    <tr>\n",
       "      <th>1</th>\n",
       "      <td>food</td>\n",
       "      <td>great</td>\n",
       "      <td>0.800000</td>\n",
       "      <td>East Asian</td>\n",
       "    </tr>\n",
       "    <tr>\n",
       "      <th>2</th>\n",
       "      <td>food</td>\n",
       "      <td>large</td>\n",
       "      <td>0.214286</td>\n",
       "      <td>East Asian</td>\n",
       "    </tr>\n",
       "  </tbody>\n",
       "</table>\n",
       "</div>"
      ],
      "text/plain": [
       "  aspect  sentiment  polarity category_bucket\n",
       "0   ribs  delicious  1.000000      East Asian\n",
       "1   food      great  0.800000      East Asian\n",
       "2   food      large  0.214286      East Asian"
      ]
     },
     "execution_count": 12,
     "metadata": {},
     "output_type": "execute_result"
    }
   ],
   "source": [
    "absa.head(3)"
   ]
  },
  {
   "cell_type": "code",
   "execution_count": 13,
   "id": "1b97ea8c-844b-4aea-baaf-0a510d53407d",
   "metadata": {
    "execution": {
     "iopub.execute_input": "2023-05-29T20:01:50.675885Z",
     "iopub.status.busy": "2023-05-29T20:01:50.675422Z",
     "iopub.status.idle": "2023-05-29T20:01:50.680774Z",
     "shell.execute_reply": "2023-05-29T20:01:50.679656Z",
     "shell.execute_reply.started": "2023-05-29T20:01:50.675853Z"
    },
    "tags": []
   },
   "outputs": [],
   "source": [
    "# For running functions on the full dataset, run the below\n",
    "test = absa"
   ]
  },
  {
   "cell_type": "code",
   "execution_count": null,
   "id": "f92de693",
   "metadata": {},
   "outputs": [],
   "source": [
    "# For running functions on a sample dataset, run the below\n",
    "test = absa.sample(50000)"
   ]
  },
  {
   "cell_type": "markdown",
   "id": "8b06738a-6259-49b8-a93a-cd9bf568b2c1",
   "metadata": {
    "tags": []
   },
   "source": [
    "### Define Aspect Categories"
   ]
  },
  {
   "cell_type": "code",
   "execution_count": 14,
   "id": "8806ee8f-ef49-449d-ac9b-d76bc0ee5d9b",
   "metadata": {
    "execution": {
     "iopub.execute_input": "2023-05-29T20:01:50.683058Z",
     "iopub.status.busy": "2023-05-29T20:01:50.682594Z",
     "iopub.status.idle": "2023-05-29T20:01:50.755068Z",
     "shell.execute_reply": "2023-05-29T20:01:50.753929Z",
     "shell.execute_reply.started": "2023-05-29T20:01:50.683015Z"
    },
    "tags": []
   },
   "outputs": [],
   "source": [
    "aspects_categories = {\n",
    "    'food_quality': ['food','taste', 'dish','seasoning','taste', 'flavor', 'ingredients', 'meal'],\n",
    "    'dishes': ['burger', 'burgers', 'sushi', 'ceviche', 'crunchwrap', 'seafood', 'fish', 'rolls', 'pizza', 'tacos', \n",
    "               'salad', 'sauces', 'seasoning', 'chicken', 'bbq', 'steak', 'fries', 'onion rings', 'wings', 'pho', \n",
    "               'ramen', 'sausages', 'pasta', 'hamburgers', 'potato', 'noodles', 'dumplings', 'sushi rolls'],\n",
    "    'service': ['staff', 'service', 'waitress', 'server', 'chef', 'person', 'workers', 'customer service', \n",
    "                'waiters', 'employees', 'crew', 'hostess', 'cashiers', 'waitstaff', 'cooks','team'],\n",
    "    'price': ['price', 'prices', 'deal', 'value', 'dollars', 'cost', 'affordability', 'budget','expenses','charge','fee'],\n",
    "    'atmosphere': ['venue', 'scene', 'place','setting', 'surroundings','place', 'atmosphere', 'vibe', 'music', \n",
    "                   'building', 'spot', 'community', 'seats', 'decor', 'ambience', 'environment', 'patio', 'bar', \n",
    "                   'lighting', 'layout', 'view', 'beach front', 'seating','lighting', 'art', 'plants','architecture',\n",
    "                   'location', 'decor', 'music', 'ambience',  'seating arrangement', 'space', 'architecture'],\n",
    "    'hygiene': ['clean','dirty','hygiene','cleanliness', 'bathroom', 'restrooms'],\n",
    "    'menu_variety': ['menu', 'choices', 'items', 'sampler', 'specials', 'option', 'variety', 'selection', 'dishes', \n",
    "                     'options', 'meal', 'meals', 'topping options', 'menu items'],\n",
    "    'portion_size': ['portions', 'portion size', 'amount', 'serving', 'servings', 'size'],\n",
    "    'speed': ['wait', 'minutes', 'hour', 'time','preparation time', 'cooking time', 'serving time', \n",
    "              'waiting time', 'delivery time', 'reservation', 'turnaround', 'queue', 'line', 'rush', 'peak time'],\n",
    "    'experience': ['results', 'experience', 'pleasure', 'opportunity', 'visit', 'feel', 'feeling', 'impression',\n",
    "                   'visit', 'happy hour', 'event', 'date', 'night out', 'family meal', 'picnic', 'get-together'],\n",
    "    'availability': ['pickup', 'curbside', 'orders', 'availability', 'open', 'opening', 'hours', 'location', \n",
    "                     'locations', 'delivery','open hours', 'closing hours', 'weekdays', 'weekends', 'holidays', \n",
    "                     'delivery', 'pickup', 'location', 'parking', 'accessibility', 'proximity']\n",
    "}\n",
    "\n",
    "# Filter out these words from aspects \n",
    "less_informative_words = ['other','ok','okay','very','good', 'great',\n",
    "                          'fine', 'best', 'right', 'nice']\n",
    "\n",
    "# Alternative categories\n",
    "different_categories = {\n",
    "    'taste_sensation': ['taste', 'flavor', 'spices', 'seasoning', 'salty', 'sweet', 'bitter', 'umami', 'spicy', 'savory', 'sour'],\n",
    "    'culinary_adventure': ['menu', 'variety', 'dishes', 'unique', 'rare', 'specialty', 'exotic', 'new', 'creative', 'innovative', 'unusual', 'cuisine', 'culinary'],\n",
    "    'emotional_response': ['pleasure', 'satisfaction', 'joy', 'surprise', 'disappointment', 'delight', 'contentment', 'comfort'],\n",
    "    'visual_appeal': ['presentation', 'decor', 'layout', 'design', 'style', 'aesthetic', 'view', 'look', 'appealing', 'attractive'],\n",
    "    'sociability': ['community', 'family', 'friends', 'date', 'meeting', 'party', 'gathering', 'celebration', 'event', 'social', 'networking'],\n",
    "    'ambiance_narrative': ['atmosphere', 'theme', 'history', 'story', 'heritage', 'tradition', 'vibe', 'mood', 'narrative', 'culture', 'folklore'],\n",
    "    'sustainability_initiatives': ['sustainable', 'green', 'eco-friendly', 'organic', 'recycling', 'composting', 'energy efficient', 'locally sourced', 'vegan', 'vegetarian', 'biodegradable'],\n",
    "    'innovative_service': ['online ordering', 'mobile app', 'self-service', 'delivery', 'pickup', 'AI waiter', 'robot chef', 'virtual reality', 'augmented reality', 'technology'],\n",
    "    'health_orientation': ['healthy', 'low fat', 'calorie count', 'nutritional value', 'diet', 'organic', 'vegan', 'vegetarian', 'gluten free', 'allergy friendly', 'keto', 'paleo'],\n",
    "    'interactive_experiences': ['cooking classes', 'tasting events', 'wine pairing', 'mixology', 'interactive dining', 'live cooking', 'food challenges', 'chefs table']\n",
    "}\n"
   ]
  },
  {
   "cell_type": "markdown",
   "id": "c7e55983-7b0a-4bc5-9a0e-25b2edd1accd",
   "metadata": {},
   "source": [
    "### Generating Insights"
   ]
  },
  {
   "cell_type": "code",
   "execution_count": 15,
   "id": "f24608bc-ca00-4873-9915-d3a7c373a317",
   "metadata": {
    "execution": {
     "iopub.execute_input": "2023-05-29T20:01:50.757605Z",
     "iopub.status.busy": "2023-05-29T20:01:50.757068Z",
     "iopub.status.idle": "2023-05-29T20:01:50.802720Z",
     "shell.execute_reply": "2023-05-29T20:01:50.801105Z",
     "shell.execute_reply.started": "2023-05-29T20:01:50.757570Z"
    },
    "tags": []
   },
   "outputs": [],
   "source": [
    "def generate_insights(row, aspects_categories): \n",
    "    insights = {\n",
    "        'like': defaultdict(lambda: {'count': 0, 'total_polarity': 0.0, 'aspects': defaultdict(lambda: {'count': 0, 'total_polarity': 0.0, 'sentiments': []})}),\n",
    "        'dislike': defaultdict(lambda: {'count': 0, 'total_polarity': 0.0, 'aspects': defaultdict(lambda: {'count': 0, 'total_polarity': 0.0, 'sentiments': []})})\n",
    "    }\n",
    "    \n",
    "    for category, aspects in aspects_categories.items():\n",
    "        if row['aspect'] in aspects:\n",
    "            like_dislike = 'like' if row['polarity'] > 0 else 'dislike'\n",
    "            insights[like_dislike][category]['count'] += 1\n",
    "            insights[like_dislike][category]['total_polarity'] += row['polarity']\n",
    "            insights[like_dislike][category]['aspects'][row['aspect']]['count'] += 1\n",
    "            insights[like_dislike][category]['aspects'][row['aspect']]['total_polarity'] += row['polarity']\n",
    "            insights[like_dislike][category]['aspects'][row['aspect']]['sentiments'].append(row['sentiment'])\n",
    "            \n",
    "            \n",
    "            # Compute average polarity\n",
    "            if insights[like_dislike][category]['count'] > 0:\n",
    "                insights[like_dislike][category]['avg_polarity'] = insights[like_dislike][category]['total_polarity'] / insights[like_dislike][category]['count']\n",
    "\n",
    "\n",
    "    return insights\n"
   ]
  },
  {
   "cell_type": "markdown",
   "id": "746ec363-d3be-4ec5-9663-3876d44ef523",
   "metadata": {},
   "source": [
    "### Aggregating Insights"
   ]
  },
  {
   "cell_type": "code",
   "execution_count": 16,
   "id": "c5f1384c-3de0-4145-bad7-d6848b1c6e45",
   "metadata": {
    "execution": {
     "iopub.execute_input": "2023-05-29T20:01:50.805599Z",
     "iopub.status.busy": "2023-05-29T20:01:50.804974Z",
     "iopub.status.idle": "2023-05-29T20:01:50.816294Z",
     "shell.execute_reply": "2023-05-29T20:01:50.815623Z",
     "shell.execute_reply.started": "2023-05-29T20:01:50.805558Z"
    },
    "tags": []
   },
   "outputs": [],
   "source": [
    "def aggregate_insights(insights_df, top_n=5):\n",
    "    aggregated_insights = {\n",
    "        'like': defaultdict(lambda: {'count': 0, 'total_polarity': 0.0, 'avg_polarity': None, 'aspects': defaultdict(lambda: {'count': 0, 'total_polarity': 0.0, 'sentiments': []})}),\n",
    "        'dislike': defaultdict(lambda: {'count': 0, 'total_polarity': 0.0, 'avg_polarity': None, 'aspects': defaultdict(lambda: {'count': 0, 'total_polarity': 0.0, 'sentiments': []})})\n",
    "    }\n",
    "\n",
    "    for idx, row in insights_df.iterrows():\n",
    "        insights = row['insights']\n",
    "        for like_dislike in ['like', 'dislike']:\n",
    "            for category, rows in insights[like_dislike].items():\n",
    "                aggregated_insights[like_dislike][category]['count'] += rows['count']\n",
    "                aggregated_insights[like_dislike][category]['total_polarity'] += rows['total_polarity']\n",
    "                aggregated_insights[like_dislike][category]['avg_polarity'] = aggregated_insights[like_dislike][category]['total_polarity'] / aggregated_insights[like_dislike][category]['count'] if aggregated_insights[like_dislike][category]['count'] != 0 else None\n",
    "                for aspect, aspect_data in rows['aspects'].items():\n",
    "                    aggregated_insights[like_dislike][category]['aspects'][aspect]['count'] += aspect_data['count']\n",
    "                    aggregated_insights[like_dislike][category]['aspects'][aspect]['total_polarity'] += aspect_data['total_polarity']\n",
    "                    aggregated_insights[like_dislike][category]['aspects'][aspect]['sentiments'].extend(aspect_data['sentiments'])\n",
    "                    \n",
    "\n",
    "    return aggregated_insights\n",
    "\n"
   ]
  },
  {
   "cell_type": "markdown",
   "id": "143bbef7-03b5-4fb2-b645-c4eec75ad814",
   "metadata": {},
   "source": [
    "### Generating Final Insights\n",
    "5mil rows: 10-20 mins for load, application of functions and generation of report"
   ]
  },
  {
   "cell_type": "code",
   "execution_count": 17,
   "id": "970d65b5-ad0a-4f37-af41-0a0dc2683f3a",
   "metadata": {
    "execution": {
     "iopub.execute_input": "2023-05-29T20:01:50.819445Z",
     "iopub.status.busy": "2023-05-29T20:01:50.819065Z",
     "iopub.status.idle": "2023-05-29T20:01:50.883918Z",
     "shell.execute_reply": "2023-05-29T20:01:50.882978Z",
     "shell.execute_reply.started": "2023-05-29T20:01:50.819418Z"
    },
    "tags": []
   },
   "outputs": [],
   "source": [
    "def generate_report(df, aspects_categories = aspects_categories, less_informative_words = less_informative_words, \n",
    "                    number_aspects = 3, number_sentiments = 3):\n",
    "    \n",
    "    # Apply the generate_insights function on each row of the DataFrame, store in new column \"insights\".\n",
    "    df[\"insights\"] = df.apply(lambda row: generate_insights(row, aspects_categories), axis=1)\n",
    "\n",
    "    # Organize generated insights for presentation into a dict\n",
    "    insights = aggregate_insights(df)\n",
    "\n",
    "    # Iterate over 'like' and 'dislike' (positive and negative sentiment analysis) parts of the insights dict\n",
    "    for like_dislike in ['like', 'dislike']:\n",
    "        if like_dislike == 'like':\n",
    "            insights[like_dislike] = sorted(insights[like_dislike].items(), key=lambda x: x[1]['avg_polarity'], reverse=True)\n",
    "            print(f\"\\nCustomers commonly expressed positive sentiments towards these aspects of the restaurants:\\n\")\n",
    "        else:\n",
    "            insights[like_dislike] = sorted(insights[like_dislike].items(), key=lambda x: x[1]['avg_polarity'])\n",
    "            print(f\"\\nOn the other hand, customers seemed less content with these aspects:\\n\")\n",
    "\n",
    "        # Iterate over categories and corresponding rows in the sorted insights\n",
    "        for category, rows in insights[like_dislike]:\n",
    "            # Print the category name, number of reviews mentioning it, and the average sentiment\n",
    "            print('\\n',f\"{category.upper()} was mentioned in {rows['count']} reviews with an average sentiment of {rows['avg_polarity']:.2f}.\")\n",
    "            # Sort the aspects in each category by total polarity, get the top 'number_aspects' aspects\n",
    "            top_aspects = sorted(rows['aspects'].items(), key=lambda x: x[1]['total_polarity'], reverse=True)[:number_aspects]\n",
    "\n",
    "            # Iterate over aspects and corresponding data in the top X aspects\n",
    "            for aspect, aspect_data in top_aspects:\n",
    "                # Create a list of sentiments for the aspect, filtering out less informative words\n",
    "                sentiments = []\n",
    "                for s in aspect_data['sentiments']:\n",
    "                    if not any(less_info_word in s.lower() for less_info_word in less_informative_words):\n",
    "                        sentiments.append(s)\n",
    "\n",
    "                # If there are no sentiments remaining after filtering, print this fact and continue to the next aspect\n",
    "                if not sentiments:  \n",
    "                    print(f\"  - '{aspect.upper()}' has no informative sentiments after filtering.\")\n",
    "                    continue\n",
    "                \n",
    "                # Perform TF-IDF vectorization on the sentiments\n",
    "                vectorizer = TfidfVectorizer()\n",
    "                tfidf_matrix = vectorizer.fit_transform(sentiments)\n",
    "\n",
    "                # Perform Latent Dirichlet Allocation (LDA) on the TF-IDF matrix to identify topics in the sentiments\n",
    "                lda = LatentDirichletAllocation(n_components=1, random_state=42)  \n",
    "                lda.fit(tfidf_matrix)\n",
    "\n",
    "                # Iterate over topics (there should be only one due to n_components=1 in the LDA)\n",
    "                for i, topic in enumerate(lda.components_):\n",
    "                    # Get the indices of the top X features (words) in the topic\n",
    "                    top_features_ind = topic.argsort()[:-number_sentiments - 1:-1]  \n",
    "                    # Get the corresponding feature names\n",
    "                    top_features = [vectorizer.get_feature_names_out()[i] for i in top_features_ind]\n",
    "                    # Convert the list of top features to a string\n",
    "                    top_features_str = ', '.join(top_features).upper()\n",
    "                    print(f\"  - '{aspect.upper()}' was frequently mentioned, often associated with sentiments \\n \\t '{top_features_str}'.\")\n"
   ]
  },
  {
   "cell_type": "markdown",
   "id": "2627781a-a5eb-4229-b77a-e42db0248a97",
   "metadata": {},
   "source": [
    "Parameters for generate_report can be changed, such as number of aspects/sentiments, aspect categories and non-informative words:\n",
    "generate_report(df, aspects_categories = DICT, less_informative_words = LIST, number_aspects = 5, number_sentiments = 5)"
   ]
  },
  {
   "cell_type": "code",
   "execution_count": 18,
   "id": "0e370ccb-f97d-4be2-9268-264ed67e8c87",
   "metadata": {
    "execution": {
     "iopub.execute_input": "2023-05-29T20:01:50.886441Z",
     "iopub.status.busy": "2023-05-29T20:01:50.885847Z",
     "iopub.status.idle": "2023-05-29T20:54:56.047262Z",
     "shell.execute_reply": "2023-05-29T20:54:56.046042Z",
     "shell.execute_reply.started": "2023-05-29T20:01:50.886397Z"
    },
    "tags": []
   },
   "outputs": [
    {
     "name": "stdout",
     "output_type": "stream",
     "text": [
      "\n",
      "Customers commonly expressed positive sentiments towards these aspects of the restaurants:\n",
      "\n",
      "\n",
      " DISHES was mentioned in 998377 reviews with an average sentiment of 0.72.\n",
      "  - 'PIZZA' was frequently mentioned, often associated with sentiments \n",
      " \t 'DELICIOUS, AMAZING, EXCELLENT'.\n",
      "  - 'BURGERS' was frequently mentioned, often associated with sentiments \n",
      " \t 'DELICIOUS, AMAZING, AWESOME'.\n",
      "  - 'TACOS' was frequently mentioned, often associated with sentiments \n",
      " \t 'DELICIOUS, AMAZING, SOFT'.\n",
      "\n",
      " FOOD_QUALITY was mentioned in 3339929 reviews with an average sentiment of 0.70.\n",
      "  - 'FOOD' was frequently mentioned, often associated with sentiments \n",
      " \t 'DELICIOUS, EXCELLENT, AMAZING'.\n",
      "  - 'MEAL' was frequently mentioned, often associated with sentiments \n",
      " \t 'QUICK, DELICIOUS, EXCELLENT'.\n",
      "  - 'TASTE' was frequently mentioned, often associated with sentiments \n",
      " \t 'AUTHENTIC, EXCELLENT, AMAZING'.\n",
      "\n",
      " ATMOSPHERE was mentioned in 1559592 reviews with an average sentiment of 0.64.\n",
      "  - 'PLACE' was frequently mentioned, often associated with sentiments \n",
      " \t 'CLEAN, FAVORITE, AWESOME'.\n",
      "  - 'ATMOSPHERE' was frequently mentioned, often associated with sentiments \n",
      " \t 'FRIENDLY, AWESOME, COOL'.\n",
      "  - 'LOCATION' was frequently mentioned, often associated with sentiments \n",
      " \t 'NEW, CLEAN, PARTICULAR'.\n",
      "\n",
      " EXPERIENCE was mentioned in 182994 reviews with an average sentiment of 0.64.\n",
      "  - 'EXPERIENCE' was frequently mentioned, often associated with sentiments \n",
      " \t 'WONDERFUL, AMAZING, FIRST'.\n",
      "  - 'VISIT' was frequently mentioned, often associated with sentiments \n",
      " \t 'FIRST, MOST, RECENT'.\n",
      "  - 'FEEL' was frequently mentioned, often associated with sentiments \n",
      " \t 'AWESOME, COOL, AUTHENTIC'.\n",
      "\n",
      " SERVICE was mentioned in 2505691 reviews with an average sentiment of 0.62.\n",
      "  - 'SERVICE' was frequently mentioned, often associated with sentiments \n",
      " \t 'FAST, EXCELLENT, FRIENDLY'.\n",
      "  - 'STAFF' was frequently mentioned, often associated with sentiments \n",
      " \t 'FRIENDLY, ATTENTIVE, AMAZING'.\n",
      "  - 'CUSTOMER SERVICE' was frequently mentioned, often associated with sentiments \n",
      " \t 'EXCELLENT, AWESOME, AMAZING'.\n",
      "\n",
      " MENU_VARIETY was mentioned in 419358 reviews with an average sentiment of 0.61.\n",
      "  - 'MEAL' was frequently mentioned, often associated with sentiments \n",
      " \t 'QUICK, DELICIOUS, EXCELLENT'.\n",
      "  - 'SELECTION' was frequently mentioned, often associated with sentiments \n",
      " \t 'LARGE, HUGE, EXCELLENT'.\n",
      "  - 'MENU' was frequently mentioned, often associated with sentiments \n",
      " \t 'LARGE, HUGE, NEW'.\n",
      "\n",
      " AVAILABILITY was mentioned in 139221 reviews with an average sentiment of 0.55.\n",
      "  - 'LOCATION' was frequently mentioned, often associated with sentiments \n",
      " \t 'NEW, CLEAN, PARTICULAR'.\n",
      "  - 'PARKING' was frequently mentioned, often associated with sentiments \n",
      " \t 'EASY, FREE, AVAILABLE'.\n",
      "  - 'HOURS' was frequently mentioned, often associated with sentiments \n",
      " \t 'HAPPY, BUSY, CERTAIN'.\n",
      "\n",
      " PRICE was mentioned in 530090 reviews with an average sentiment of 0.53.\n",
      "  - 'PRICES' was frequently mentioned, often associated with sentiments \n",
      " \t 'REASONABLE, FAIR, HIGH'.\n",
      "  - 'PRICE' was frequently mentioned, often associated with sentiments \n",
      " \t 'REASONABLE, FAIR, DECENT'.\n",
      "  - 'VALUE' was frequently mentioned, often associated with sentiments \n",
      " \t 'EXCELLENT, BETTER, AMAZING'.\n",
      "\n",
      " SPEED was mentioned in 339494 reviews with an average sentiment of 0.47.\n",
      "  - 'TIME' was frequently mentioned, often associated with sentiments \n",
      " \t 'FIRST, WHOLE, MORE'.\n",
      "  - 'HOUR' was frequently mentioned, often associated with sentiments \n",
      " \t 'HAPPY, WHOLE, AWESOME'.\n",
      "  - 'MINUTES' was frequently mentioned, often associated with sentiments \n",
      " \t 'MORE, FIRST, FULL'.\n",
      "\n",
      " PORTION_SIZE was mentioned in 157662 reviews with an average sentiment of 0.46.\n",
      "  - 'PORTIONS' was frequently mentioned, often associated with sentiments \n",
      " \t 'LARGE, HUGE, DECENT'.\n",
      "  - 'AMOUNT' was frequently mentioned, often associated with sentiments \n",
      " \t 'PERFECT, DECENT, LARGE'.\n",
      "  - 'SIZE' was frequently mentioned, often associated with sentiments \n",
      " \t 'PERFECT, LARGE, DECENT'.\n",
      "\n",
      " HYGIENE was mentioned in 11603 reviews with an average sentiment of 0.43.\n",
      "  - 'RESTROOMS' was frequently mentioned, often associated with sentiments \n",
      " \t 'CLEAN, AVAILABLE, DECENT'.\n",
      "  - 'BATHROOM' was frequently mentioned, often associated with sentiments \n",
      " \t 'CLEAN, ACCESSIBLE, AVAILABLE'.\n",
      "  - 'CLEANLINESS' was frequently mentioned, often associated with sentiments \n",
      " \t 'BETTER, MORE, EXCELLENT'.\n",
      "\n",
      "On the other hand, customers seemed less content with these aspects:\n",
      "\n",
      "\n",
      " EXPERIENCE was mentioned in 57280 reviews with an average sentiment of -0.73.\n",
      "  - 'NIGHT OUT' was frequently mentioned, often associated with sentiments \n",
      " \t 'LATE'.\n",
      "  - 'OPPORTUNITY' was frequently mentioned, often associated with sentiments \n",
      " \t 'LITTLE, SINGLE, LONG'.\n",
      "  - 'PICNIC' was frequently mentioned, often associated with sentiments \n",
      " \t 'LITTLE, SMALL, LONG'.\n",
      "\n",
      " HYGIENE was mentioned in 8067 reviews with an average sentiment of -0.62.\n",
      "  - 'CLEAN' was frequently mentioned, often associated with sentiments \n",
      " \t 'SMALL, COZY, EXTREME'.\n",
      "  - 'HYGIENE' was frequently mentioned, often associated with sentiments \n",
      " \t 'POOR, BAD, QUESTIONABLE'.\n",
      "  - 'CLEANLINESS' was frequently mentioned, often associated with sentiments \n",
      " \t 'QUESTIONABLE, POOR, AVERAGE'.\n",
      "\n",
      " SERVICE was mentioned in 367392 reviews with an average sentiment of -0.58.\n",
      "  - 'TEAM' was frequently mentioned, often associated with sentiments \n",
      " \t 'SMALL, RUDE, SLOW'.\n",
      "  - 'WAITSTAFF' was frequently mentioned, often associated with sentiments \n",
      " \t 'RUDE, SLOW, FORGETFUL'.\n",
      "  - 'CREW' was frequently mentioned, often associated with sentiments \n",
      " \t 'RUDE, SLOW, SMALL'.\n",
      "\n",
      " FOOD_QUALITY was mentioned in 220393 reviews with an average sentiment of -0.53.\n",
      "  - 'SEASONING' was frequently mentioned, often associated with sentiments \n",
      " \t 'LITTLE, BLAND, DRY'.\n",
      "  - 'INGREDIENTS' was frequently mentioned, often associated with sentiments \n",
      " \t 'WRONG, FEW, RAW'.\n",
      "  - 'DISH' was frequently mentioned, often associated with sentiments \n",
      " \t 'SINGLE, BAD, WRONG'.\n",
      "\n",
      " PRICE was mentioned in 25401 reviews with an average sentiment of -0.44.\n",
      "  - 'AFFORDABILITY' was frequently mentioned, often associated with sentiments \n",
      " \t 'INSANE, UNBELIEVABLE, ALMOST'.\n",
      "  - 'EXPENSES' was frequently mentioned, often associated with sentiments \n",
      " \t 'LITTLE, RANDOM, MINIMAL'.\n",
      "  - 'FEE' was frequently mentioned, often associated with sentiments \n",
      " \t 'SMALL, FLAT, HIDDEN'.\n",
      "\n",
      " DISHES was mentioned in 116884 reviews with an average sentiment of -0.42.\n",
      "  - 'CRUNCHWRAP' was frequently mentioned, often associated with sentiments \n",
      " \t 'PLAIN, WORST, THIN'.\n",
      "  - 'SAUSAGES' was frequently mentioned, often associated with sentiments \n",
      " \t 'DRY, SMALL, COLD'.\n",
      "  - 'SUSHI ROLLS' was frequently mentioned, often associated with sentiments \n",
      " \t 'FEW, SMALL, TYPICAL'.\n",
      "\n",
      " ATMOSPHERE was mentioned in 175746 reviews with an average sentiment of -0.38.\n",
      "  - 'BEACH FRONT' was frequently mentioned, often associated with sentiments \n",
      " \t 'TYPICAL, LITTLE, EXPENSIVE'.\n",
      "  - 'ARCHITECTURE' was frequently mentioned, often associated with sentiments \n",
      " \t 'WEIRD, PLAIN, MESSY'.\n",
      "  - 'SEATING ARRANGEMENT' was frequently mentioned, often associated with sentiments \n",
      " \t 'TIGHT, AWKWARD, WEIRD'.\n",
      "\n",
      " AVAILABILITY was mentioned in 48667 reviews with an average sentiment of -0.34.\n",
      "  - 'OPEN' was frequently mentioned, often associated with sentiments \n",
      " \t 'LATE, WIDE, RUDE'.\n",
      "  - 'PROXIMITY' was frequently mentioned, often associated with sentiments \n",
      " \t 'UNCOMFORTABLE, TIGHT, WORSE'.\n",
      "  - 'CLOSING HOURS' was frequently mentioned, often associated with sentiments \n",
      " \t 'PAST, LATE, SHAKY'.\n",
      "\n",
      " PORTION_SIZE was mentioned in 30132 reviews with an average sentiment of -0.29.\n",
      "  - 'PORTION SIZE' was frequently mentioned, often associated with sentiments \n",
      " \t 'SMALL, AVERAGE, POOR'.\n",
      "  - 'SERVING' was frequently mentioned, often associated with sentiments \n",
      " \t 'SMALL, SINGLE, SLOW'.\n",
      "  - 'SERVINGS' was frequently mentioned, often associated with sentiments \n",
      " \t 'SMALL, SINGLE, LITTLE'.\n",
      "\n",
      " MENU_VARIETY was mentioned in 88199 reviews with an average sentiment of -0.26.\n",
      "  - 'TOPPING OPTIONS' was frequently mentioned, often associated with sentiments \n",
      " \t 'FEW'.\n",
      "  - 'SAMPLER' was frequently mentioned, often associated with sentiments \n",
      " \t 'SMALL, LITTLE, COLD'.\n",
      "  - 'SPECIALS' was frequently mentioned, often associated with sentiments \n",
      " \t 'FEW, RANDOM, EXPENSIVE'.\n",
      "\n",
      " SPEED was mentioned in 166321 reviews with an average sentiment of -0.15.\n",
      "  - 'PEAK TIME' has no informative sentiments after filtering.\n",
      "  - 'PREPARATION TIME' was frequently mentioned, often associated with sentiments \n",
      " \t 'LONG, USUAL, LATE'.\n",
      "  - 'COOKING TIME' was frequently mentioned, often associated with sentiments \n",
      " \t 'LONG, LESS, SLOW'.\n"
     ]
    }
   ],
   "source": [
    "generate_report(test, number_aspects = 3, number_sentiments = 3)"
   ]
  },
  {
   "cell_type": "code",
   "execution_count": 43,
   "id": "8af8a21c-7d33-4e5c-928e-9b2b2e84a2d7",
   "metadata": {
    "execution": {
     "iopub.execute_input": "2023-05-28T14:32:54.680863Z",
     "iopub.status.busy": "2023-05-28T14:32:54.680148Z",
     "iopub.status.idle": "2023-05-28T14:32:55.245846Z",
     "shell.execute_reply": "2023-05-28T14:32:55.245104Z",
     "shell.execute_reply.started": "2023-05-28T14:32:54.680778Z"
    },
    "scrolled": true,
    "tags": []
   },
   "outputs": [
    {
     "name": "stdout",
     "output_type": "stream",
     "text": [
      "\n",
      "Customers commonly expressed positive sentiments towards these aspects of the restaurants:\n",
      "\n",
      "\n",
      " VISUAL_APPEAL was mentioned in 28 reviews with an average sentiment of 0.71.\n",
      "  - 'VIEW' was frequently mentioned, often associated with sentiments \n",
      " \t 'INCREDIBLE, EXCELLENT, CLEAR'.\n",
      "  - 'DECOR' was frequently mentioned, often associated with sentiments \n",
      " \t 'LOVELY'.\n",
      "  - 'PRESENTATION' was frequently mentioned, often associated with sentiments \n",
      " \t 'OUTSTANDING'.\n",
      "\n",
      " AMBIANCE_NARRATIVE was mentioned in 66 reviews with an average sentiment of 0.66.\n",
      "  - 'ATMOSPHERE' was frequently mentioned, often associated with sentiments \n",
      " \t 'FRIENDLY, AWESOME, WONDERFUL'.\n",
      "  - 'VIBE' was frequently mentioned, often associated with sentiments \n",
      " \t 'EASY, COOL'.\n",
      "  - 'HISTORY' has no informative sentiments after filtering.\n",
      "\n",
      " EMOTIONAL_RESPONSE was mentioned in 6 reviews with an average sentiment of 0.64.\n",
      "  - 'PLEASURE' was frequently mentioned, often associated with sentiments \n",
      " \t 'DELICIOUS, ABSOLUTE'.\n",
      "  - 'SURPRISE' was frequently mentioned, often associated with sentiments \n",
      " \t 'PLEASANT'.\n",
      "  - 'DISAPPOINTMENT' was frequently mentioned, often associated with sentiments \n",
      " \t 'HUGE'.\n",
      "\n",
      " TASTE_SENSATION was mentioned in 39 reviews with an average sentiment of 0.63.\n",
      "  - 'TASTE' was frequently mentioned, often associated with sentiments \n",
      " \t 'AMAZING, REAL, ORIGINAL'.\n",
      "  - 'FLAVOR' was frequently mentioned, often associated with sentiments \n",
      " \t 'AMAZING, SWEET, REAL'.\n",
      "  - 'SEASONING' was frequently mentioned, often associated with sentiments \n",
      " \t 'OWN'.\n",
      "\n",
      " CULINARY_ADVENTURE was mentioned in 45 reviews with an average sentiment of 0.54.\n",
      "  - 'MENU' was frequently mentioned, often associated with sentiments \n",
      " \t 'LARGE, FULL, SPECIAL'.\n",
      "  - 'DISHES' was frequently mentioned, often associated with sentiments \n",
      " \t 'MOST, FRESH, FANTASTIC'.\n",
      "  - 'VARIETY' was frequently mentioned, often associated with sentiments \n",
      " \t 'MORE, INCREDIBLE, FANTASTIC'.\n",
      "\n",
      " SOCIABILITY was mentioned in 9 reviews with an average sentiment of 0.28.\n",
      "  - 'FAMILY' was frequently mentioned, often associated with sentiments \n",
      " \t 'WHOLE'.\n",
      "  - 'DATE' was frequently mentioned, often associated with sentiments \n",
      " \t 'BETTER'.\n",
      "  - 'PARTY' was frequently mentioned, often associated with sentiments \n",
      " \t 'LARGE'.\n",
      "\n",
      " INNOVATIVE_SERVICE was mentioned in 3 reviews with an average sentiment of 0.17.\n",
      "  - 'PICKUP' was frequently mentioned, often associated with sentiments \n",
      " \t 'FAST, BUSY'.\n",
      "  - 'DELIVERY' was frequently mentioned, often associated with sentiments \n",
      " \t 'FAST'.\n",
      "\n",
      "On the other hand, customers seemed less content with these aspects:\n",
      "\n",
      "\n",
      " TASTE_SENSATION was mentioned in 6 reviews with an average sentiment of -0.64.\n",
      "  - 'SEASONING' was frequently mentioned, often associated with sentiments \n",
      " \t 'MESSY'.\n",
      "  - 'TASTE' was frequently mentioned, often associated with sentiments \n",
      " \t 'BAD'.\n",
      "  - 'FLAVOR' was frequently mentioned, often associated with sentiments \n",
      " \t 'WRONG, DISGUSTING, DISAPPOINTED'.\n",
      "\n",
      " SOCIABILITY was mentioned in 4 reviews with an average sentiment of -0.44.\n",
      "  - 'FAMILY' was frequently mentioned, often associated with sentiments \n",
      " \t 'LITTLE'.\n",
      "  - 'FRIENDS' was frequently mentioned, often associated with sentiments \n",
      " \t 'FEW, DUMB'.\n",
      "  - 'EVENT' was frequently mentioned, often associated with sentiments \n",
      " \t 'TERRIBLE'.\n",
      "\n",
      " CULINARY_ADVENTURE was mentioned in 7 reviews with an average sentiment of -0.34.\n",
      "  - 'MENU' was frequently mentioned, often associated with sentiments \n",
      " \t 'SMALL, LIMITED'.\n",
      "  - 'DISHES' was frequently mentioned, often associated with sentiments \n",
      " \t 'SMALL, DIRTY, COLD'.\n",
      "\n",
      " INNOVATIVE_SERVICE was mentioned in 1 reviews with an average sentiment of -0.30.\n",
      "  - 'DELIVERY' was frequently mentioned, often associated with sentiments \n",
      " \t 'LATE'.\n",
      "\n",
      " VISUAL_APPEAL was mentioned in 2 reviews with an average sentiment of -0.21.\n",
      "  - 'DECOR' was frequently mentioned, often associated with sentiments \n",
      " \t 'FORCED'.\n",
      "\n",
      " AMBIANCE_NARRATIVE was mentioned in 3 reviews with an average sentiment of -0.15.\n",
      "  - 'STORY' was frequently mentioned, often associated with sentiments \n",
      " \t 'LONG'.\n",
      "  - 'ATMOSPHERE' was frequently mentioned, often associated with sentiments \n",
      " \t 'COZY'.\n"
     ]
    }
   ],
   "source": [
    "# Below is an example of a different set of aspect categories\n",
    "generate_report(test, aspects_categories = different_categories, number_aspects = 3, number_sentiments = 3)"
   ]
  },
  {
   "cell_type": "markdown",
   "id": "fe9263c7-7c72-4bb8-9829-d1eb4d0a435d",
   "metadata": {},
   "source": [
    "### Generate report for a specific restaurant category"
   ]
  },
  {
   "cell_type": "code",
   "execution_count": 19,
   "id": "87e55b12-d381-43c9-a26d-310a74798747",
   "metadata": {
    "execution": {
     "iopub.execute_input": "2023-05-29T20:54:56.049053Z",
     "iopub.status.busy": "2023-05-29T20:54:56.048805Z",
     "iopub.status.idle": "2023-05-29T20:54:56.059340Z",
     "shell.execute_reply": "2023-05-29T20:54:56.058782Z",
     "shell.execute_reply.started": "2023-05-29T20:54:56.049023Z"
    },
    "tags": []
   },
   "outputs": [],
   "source": [
    "def calculate_metrics(df, aspects_categories=aspects_categories):\n",
    "    metrics = {}\n",
    "\n",
    "    df[\"insights\"] = df.apply(lambda row: generate_insights(row, aspects_categories), axis=1)\n",
    "    metrics['all'] = aggregate_insights(df)\n",
    "\n",
    "    # calculate total number of positive and negative sentiments\n",
    "    total_positive = sum(bool(insight.get('like')) for insight in df['insights'])\n",
    "    total_negative = sum(bool(insight.get('dislike')) for insight in df['insights'])\n",
    "\n",
    "    metrics['all']['total_positive_reviews'] = total_positive\n",
    "    metrics['all']['total_negative_reviews'] = total_negative\n",
    "\n",
    "    # initialize aspect mention count\n",
    "    metrics['all']['aspect_mentions'] = {'like': {}, 'dislike': {}}\n",
    "\n",
    "    # count aspect mentions in positive and negative sentiments\n",
    "    for aspect in aspects_categories:\n",
    "        positive_mentions = sum(aspect in insight.get('like', {}) for insight in df['insights'])\n",
    "        negative_mentions = sum(aspect in insight.get('dislike', {}) for insight in df['insights'])\n",
    "\n",
    "        metrics['all']['aspect_mentions']['like'][aspect] = positive_mentions / total_positive if total_positive != 0 else 0\n",
    "        metrics['all']['aspect_mentions']['dislike'][aspect] = negative_mentions / total_negative if total_negative != 0 else 0\n",
    "\n",
    "    for category in df['category_bucket'].unique():\n",
    "        specific_df = df[df['category_bucket'] == category].copy()\n",
    "        if not specific_df.empty:\n",
    "            specific_df[\"insights\"] = specific_df.apply(lambda row: generate_insights(row, aspects_categories), axis=1)\n",
    "            metrics[category] = aggregate_insights(specific_df)\n",
    "\n",
    "            # calculate total number of positive and negative sentiments for the specific category\n",
    "            total_positive = sum(bool(insight.get('like')) for insight in specific_df['insights'])\n",
    "            total_negative = sum(bool(insight.get('dislike')) for insight in specific_df['insights'])\n",
    "\n",
    "            metrics[category]['total_positive_reviews'] = total_positive\n",
    "            metrics[category]['total_negative_reviews'] = total_negative\n",
    "\n",
    "            # initialize aspect mention count for the specific category\n",
    "            metrics[category]['aspect_mentions'] = {'like': {}, 'dislike': {}}\n",
    "\n",
    "            # count aspect mentions in positive and negative sentiments for the specific category\n",
    "            for aspect in aspects_categories:\n",
    "                positive_mentions = sum(aspect in insight.get('like', {}) for insight in specific_df['insights'])\n",
    "                negative_mentions = sum(aspect in insight.get('dislike', {}) for insight in specific_df['insights'])\n",
    "\n",
    "                metrics[category]['aspect_mentions']['like'][aspect] = positive_mentions / total_positive if total_positive != 0 else 0\n",
    "                metrics[category]['aspect_mentions']['dislike'][aspect] = negative_mentions / total_negative if total_negative != 0 else 0\n",
    "\n",
    "    return metrics\n"
   ]
  },
  {
   "cell_type": "markdown",
   "id": "8b2e36ef-3df4-4871-a8b0-1eebf2e5ae64",
   "metadata": {},
   "source": [
    "#### Calculate metrics only once each time a df is loaded"
   ]
  },
  {
   "cell_type": "code",
   "execution_count": 20,
   "id": "ba66e0fa-8369-4a52-a51c-90b7aa1a19cb",
   "metadata": {
    "execution": {
     "iopub.execute_input": "2023-05-29T20:54:56.060318Z",
     "iopub.status.busy": "2023-05-29T20:54:56.060133Z",
     "iopub.status.idle": "2023-05-29T22:01:59.651623Z",
     "shell.execute_reply": "2023-05-29T22:01:59.649934Z",
     "shell.execute_reply.started": "2023-05-29T20:54:56.060301Z"
    },
    "tags": []
   },
   "outputs": [],
   "source": [
    "metrics = calculate_metrics(test, aspects_categories)"
   ]
  },
  {
   "cell_type": "code",
   "execution_count": 21,
   "id": "e04fe108-aa65-4c80-b19c-e00310872644",
   "metadata": {
    "execution": {
     "iopub.execute_input": "2023-05-29T22:01:59.653542Z",
     "iopub.status.busy": "2023-05-29T22:01:59.653167Z",
     "iopub.status.idle": "2023-05-29T22:01:59.663143Z",
     "shell.execute_reply": "2023-05-29T22:01:59.662403Z",
     "shell.execute_reply.started": "2023-05-29T22:01:59.653516Z"
    },
    "tags": []
   },
   "outputs": [],
   "source": [
    "def generate_report_specific(df,metrics=metrics, aspects_categories=aspects_categories, less_informative_words=less_informative_words, \n",
    "                             number_aspects=3, number_sentiments=3):\n",
    "\n",
    "\n",
    "    specific_category = input(\"\\n Please enter the category for which you want to generate a report: \\t\")\n",
    "\n",
    "    if specific_category not in df['category_bucket'].unique():\n",
    "        print(f\"\\n{specific_category} is not a valid category.\\n\")\n",
    "        print(\"Here are some existing categories:\\n\")\n",
    "        for _ in range(3):\n",
    "            print(\"-\",random.choice(df['category_bucket'].unique()))\n",
    "        return\n",
    "\n",
    "    specific_df = df[df['category_bucket'] == specific_category].copy()\n",
    "\n",
    "    if specific_df.empty:\n",
    "        print(f\"There is no data available for the category {specific_category}.\")\n",
    "        return\n",
    "    \n",
    "    print(f\"\\n Report for {specific_category}:\\n\")\n",
    "    present_comparison(specific_category, metrics)\n",
    "    generate_report(specific_df, aspects_categories, less_informative_words, number_aspects, number_sentiments)\n",
    "\n",
    "    "
   ]
  },
  {
   "cell_type": "code",
   "execution_count": 22,
   "id": "18405fe0-d257-4556-810f-030fcba00e58",
   "metadata": {
    "execution": {
     "iopub.execute_input": "2023-05-29T22:01:59.664589Z",
     "iopub.status.busy": "2023-05-29T22:01:59.664220Z",
     "iopub.status.idle": "2023-05-29T22:01:59.742613Z",
     "shell.execute_reply": "2023-05-29T22:01:59.741354Z",
     "shell.execute_reply.started": "2023-05-29T22:01:59.664567Z"
    },
    "tags": []
   },
   "outputs": [],
   "source": [
    "def present_comparison(specific_category, metrics=metrics, top_x=3):\n",
    "    # Extract the specific metrics for the category and the overall metrics\n",
    "    specific_metrics = metrics[specific_category]\n",
    "    all_metrics = metrics['all']\n",
    "    \n",
    "    # Define phrase dictionaries to generate variable print statements later\n",
    "    sentiment_phrases = {\n",
    "        'like': {\n",
    "            'higher': [\"customers are happier with\", \"customers express more satisfaction towards\", \"customers particularly appreciate\"],\n",
    "            'lower': [\"customers express less satisfaction towards\", \"customers appreciate less\"]},\n",
    "        'dislike': {\n",
    "            'higher': [\"customers express more dissatisfaction towards\", \"customers tend to criticize more\"],\n",
    "            'lower': [\"customers are less displeased with\", \"customers express less dissatisfaction towards\", \"customers criticize less\"]}}\n",
    "\n",
    "    # Iterate over both 'like' (positive) and 'dislike' (negative) categories\n",
    "    for like_dislike in ['like', 'dislike']:\n",
    "        # Initialize list to store changes in sentiment (to extract aspects with biggest differences vs all types)\n",
    "        sentiment_changes = [] \n",
    "\n",
    "        # Define whether we're analyzing positive or negative sentiments\n",
    "        sentiment_word = \"positive\" if like_dislike == \"like\" else \"negative\"\n",
    "        \n",
    "        # For each aspect category, calculate sentiment changes relative to overall\n",
    "        for category, _ in list(specific_metrics[like_dislike].items()):\n",
    "            specific_count = specific_metrics[like_dislike][category]['count']\n",
    "            specific_avg_polarity = specific_metrics[like_dislike][category]['avg_polarity']\n",
    "\n",
    "            all_count = all_metrics[like_dislike][category]['count']\n",
    "            all_avg_polarity = all_metrics[like_dislike][category]['avg_polarity']\n",
    "            \n",
    "            # If both specific and overall polarity exist, calculate difference and append to list\n",
    "            if specific_avg_polarity is not None and all_avg_polarity is not None:\n",
    "                diff_avg_polarity = specific_avg_polarity - all_avg_polarity\n",
    "                sentiment_changes.append((category, diff_avg_polarity, specific_avg_polarity, all_avg_polarity, like_dislike))\n",
    "\n",
    "        # Sort sentiment changes by absolute value, in descending order\n",
    "        sentiment_changes.sort(key=lambda x: abs(x[1]), reverse=True)\n",
    " \n",
    "        # For each category in the top 'top_x' sentiment changes, generate report\n",
    "        for i, (category, diff_avg_polarity, specific_avg_polarity, all_avg_polarity, like_dislike) in enumerate(sentiment_changes[:top_x]):\n",
    "            sentiment_word = \"positive\" if like_dislike == \"like\" else \"negative\"\n",
    "            # Determine whether the specific category has higher or lower sentiment than overall\n",
    "            higher_lower = \"higher\" if diff_avg_polarity > 0 else \"lower\"\n",
    "\n",
    "            # Calculate percent mentions for each category in specific and overall metrics\n",
    "            all_positive_mentions = metrics['all']['aspect_mentions']['like'].get(category, 0) * 100\n",
    "            all_negative_mentions = metrics['all']['aspect_mentions']['dislike'].get(category, 0) * 100\n",
    "            specific_positive_mentions = metrics[specific_category]['aspect_mentions']['like'].get(category, 0) * 100\n",
    "            specific_negative_mentions = metrics[specific_category]['aspect_mentions']['dislike'].get(category, 0) * 100\n",
    "\n",
    "            diff_positive = ((specific_positive_mentions - all_positive_mentions) / all_positive_mentions) * 100 if all_positive_mentions != 0 else 0\n",
    "            diff_negative = ((specific_negative_mentions - all_negative_mentions) / all_negative_mentions) * 100 if all_negative_mentions != 0 else 0        \n",
    "            \n",
    "            # Print report for both 'like' (positive sentiment) and dislike (negative) categories\n",
    "            if like_dislike == 'like':\n",
    "                if specific_positive_mentions > all_positive_mentions:\n",
    "                    more_less = \"more\"\n",
    "                else:\n",
    "                    more_less = \"less\"\n",
    "                    \n",
    "                sentiment_phrase = sentiment_phrases[like_dislike][higher_lower][i%2]\n",
    "                print(f\"{category.upper()}: Notably {higher_lower} {sentiment_word} sentiment for {specific_category} restaurants\\n\")\n",
    "                print(f\"For {sentiment_word} reviews, {sentiment_phrase} {category} at {specific_category} restaurants, noting an average sentiment of {specific_avg_polarity:.2f} compared to {all_avg_polarity:.2f} for all types of restaurants.\")\n",
    "                print(f\"{category.capitalize()} is {more_less} likely to be praised in {specific_category} restaurant reviews, as it is positively mentioned in {specific_positive_mentions:.0f}% of {specific_category} restaurant reviews compared to {all_positive_mentions:.0f}% for all, indicating a {abs(diff_positive):.0f}% difference.\\n\")\n",
    "            else:\n",
    "                if specific_negative_mentions > all_negative_mentions:\n",
    "                    more_less = \"more\"\n",
    "                else:\n",
    "                    more_less = \"less\"\n",
    "                    \n",
    "                if higher_lower == \"higher\":\n",
    "                    higher_lower = \"lower\"\n",
    "                elif higher_lower == \"lower\":\n",
    "                    higher_lower = \"higher\"\n",
    "                    \n",
    "                sentiment_phrase = sentiment_phrases[like_dislike][higher_lower][i%2]\n",
    "                print(f\"{category.upper()}: Notably {higher_lower} {sentiment_word} sentiment for {specific_category} restaurants\\n\")\n",
    "                print(f\"For {sentiment_word} reviews, {sentiment_phrase} {category} at {specific_category} restaurants, noting an average sentiment of {specific_avg_polarity:.2f} compared to {all_avg_polarity:.2f} for all types of restaurants.\")\n",
    "                print(f\"Further, {category.capitalize()} is {more_less} likely to be criticized in {specific_category} restaurant reviews, as it appears in {specific_negative_mentions:.0f}% of negative {specific_category} restaurant reviews compared to {all_negative_mentions:.0f}% for all, implying a {abs(diff_negative):.0f}% difference.\\n\")\n",
    "                "
   ]
  },
  {
   "cell_type": "markdown",
   "id": "42ed274a-acb5-47bc-bb34-6ee11abb4a19",
   "metadata": {},
   "source": [
    "#### Restaurant Categories for reference\n",
    "['Fast Food', 'Other', 'American', 'Chicken', 'Pizza', 'East Asian',\n",
    "       'European', 'Ramen', 'Latin American', 'Barbecue', 'Seafood',\n",
    "       'Middle Eastern', 'Breakfast', 'South Asian', 'Buffet',\n",
    "       'Fine Dining', 'Health and Diet', 'African', 'Vegetarian',\n",
    "       'Desserts']"
   ]
  },
  {
   "cell_type": "markdown",
   "id": "49982df8-9e2a-49d6-af28-b62c723660e8",
   "metadata": {},
   "source": [
    "### Give it a try!"
   ]
  },
  {
   "cell_type": "code",
   "execution_count": 23,
   "id": "5a99951f-9bc0-4740-b91d-a208d37b5258",
   "metadata": {
    "execution": {
     "iopub.execute_input": "2023-05-29T22:01:59.745350Z",
     "iopub.status.busy": "2023-05-29T22:01:59.744724Z",
     "iopub.status.idle": "2023-05-29T22:09:18.535692Z",
     "shell.execute_reply": "2023-05-29T22:09:18.534695Z",
     "shell.execute_reply.started": "2023-05-29T22:01:59.745303Z"
    },
    "tags": []
   },
   "outputs": [
    {
     "name": "stdin",
     "output_type": "stream",
     "text": [
      "\n",
      " Please enter the category for which you want to generate a report: \t Pizza\n"
     ]
    },
    {
     "name": "stdout",
     "output_type": "stream",
     "text": [
      "\n",
      " Report for Pizza:\n",
      "\n",
      "PRICE: Notably higher positive sentiment for Pizza restaurants\n",
      "\n",
      "For positive reviews, customers are happier with price at Pizza restaurants, noting an average sentiment of 0.58 compared to 0.53 for all types of restaurants.\n",
      "Price is more likely to be praised in Pizza restaurant reviews, as it is positively mentioned in 5% of Pizza restaurant reviews compared to 5% for all, indicating a 2% difference.\n",
      "\n",
      "AVAILABILITY: Notably lower positive sentiment for Pizza restaurants\n",
      "\n",
      "For positive reviews, customers appreciate less availability at Pizza restaurants, noting an average sentiment of 0.51 compared to 0.55 for all types of restaurants.\n",
      "Availability is more likely to be praised in Pizza restaurant reviews, as it is positively mentioned in 1% of Pizza restaurant reviews compared to 1% for all, indicating a 2% difference.\n",
      "\n",
      "SPEED: Notably lower positive sentiment for Pizza restaurants\n",
      "\n",
      "For positive reviews, customers express less satisfaction towards speed at Pizza restaurants, noting an average sentiment of 0.44 compared to 0.47 for all types of restaurants.\n",
      "Speed is less likely to be praised in Pizza restaurant reviews, as it is positively mentioned in 3% of Pizza restaurant reviews compared to 3% for all, indicating a 9% difference.\n",
      "\n",
      "DISHES: Notably higher negative sentiment for Pizza restaurants\n",
      "\n",
      "For negative reviews, customers express more dissatisfaction towards dishes at Pizza restaurants, noting an average sentiment of -0.49 compared to -0.42 for all types of restaurants.\n",
      "Further, Dishes is more likely to be criticized in Pizza restaurant reviews, as it appears in 21% of negative Pizza restaurant reviews compared to 9% for all, implying a 133% difference.\n",
      "\n",
      "MENU_VARIETY: Notably lower negative sentiment for Pizza restaurants\n",
      "\n",
      "For negative reviews, customers express less dissatisfaction towards menu_variety at Pizza restaurants, noting an average sentiment of -0.22 compared to -0.26 for all types of restaurants.\n",
      "Further, Menu_variety is less likely to be criticized in Pizza restaurant reviews, as it appears in 5% of negative Pizza restaurant reviews compared to 7% for all, implying a 29% difference.\n",
      "\n",
      "SERVICE: Notably higher negative sentiment for Pizza restaurants\n",
      "\n",
      "For negative reviews, customers express more dissatisfaction towards service at Pizza restaurants, noting an average sentiment of -0.61 compared to -0.58 for all types of restaurants.\n",
      "Further, Service is less likely to be criticized in Pizza restaurant reviews, as it appears in 28% of negative Pizza restaurant reviews compared to 29% for all, implying a 4% difference.\n",
      "\n",
      "\n",
      "Customers commonly expressed positive sentiments towards these aspects of the restaurants:\n",
      "\n",
      "\n",
      " DISHES was mentioned in 212578 reviews with an average sentiment of 0.75.\n",
      "  - 'PIZZA' was frequently mentioned, often associated with sentiments \n",
      " \t 'DELICIOUS, AMAZING, EXCELLENT, AWESOME'.\n",
      "  - 'WINGS' was frequently mentioned, often associated with sentiments \n",
      " \t 'HOT, DELICIOUS, AMAZING, AWESOME'.\n",
      "  - 'SALAD' was frequently mentioned, often associated with sentiments \n",
      " \t 'FRESH, DELICIOUS, AMAZING, LARGE'.\n",
      "  - 'PASTA' was frequently mentioned, often associated with sentiments \n",
      " \t 'DELICIOUS, FRESH, AMAZING, EXCELLENT'.\n",
      "\n",
      " FOOD_QUALITY was mentioned in 94681 reviews with an average sentiment of 0.70.\n",
      "  - 'FOOD' was frequently mentioned, often associated with sentiments \n",
      " \t 'DELICIOUS, AMAZING, EXCELLENT, AWESOME'.\n",
      "  - 'TASTE' was frequently mentioned, often associated with sentiments \n",
      " \t 'AMAZING, EXCELLENT, UNIQUE, BETTER'.\n",
      "  - 'INGREDIENTS' was frequently mentioned, often associated with sentiments \n",
      " \t 'FRESH, BETTER, REAL, DELICIOUS'.\n",
      "  - 'FLAVOR' was frequently mentioned, often associated with sentiments \n",
      " \t 'MUCH, MORE, AMAZING, EXCELLENT'.\n",
      "\n",
      " ATMOSPHERE was mentioned in 80525 reviews with an average sentiment of 0.64.\n",
      "  - 'PLACE' was frequently mentioned, often associated with sentiments \n",
      " \t 'CLEAN, AWESOME, FAVORITE, AMAZING'.\n",
      "  - 'ATMOSPHERE' was frequently mentioned, often associated with sentiments \n",
      " \t 'FRIENDLY, AWESOME, COOL, FUN'.\n",
      "  - 'LOCATION' was frequently mentioned, often associated with sentiments \n",
      " \t 'NEW, CLEAN, PARTICULAR, AWESOME'.\n",
      "  - 'SPOT' was frequently mentioned, often associated with sentiments \n",
      " \t 'FAVORITE, COOL, NEW, AWESOME'.\n",
      "\n",
      " EXPERIENCE was mentioned in 8680 reviews with an average sentiment of 0.63.\n",
      "  - 'EXPERIENCE' was frequently mentioned, often associated with sentiments \n",
      " \t 'FIRST, AMAZING, AWESOME, WONDERFUL'.\n",
      "  - 'VISIT' was frequently mentioned, often associated with sentiments \n",
      " \t 'FIRST, MOST, RECENT, QUICK'.\n",
      "  - 'FEEL' was frequently mentioned, often associated with sentiments \n",
      " \t 'COOL, AWESOME, MODERN, FRIENDLY'.\n",
      "  - 'FEELING' was frequently mentioned, often associated with sentiments \n",
      " \t 'EXCELLENT, COMFORTABLE, FANTASTIC, PLEASANT'.\n",
      "\n",
      " SERVICE was mentioned in 128210 reviews with an average sentiment of 0.61.\n",
      "  - 'SERVICE' was frequently mentioned, often associated with sentiments \n",
      " \t 'FAST, FRIENDLY, EXCELLENT, QUICK'.\n",
      "  - 'STAFF' was frequently mentioned, often associated with sentiments \n",
      " \t 'FRIENDLY, AWESOME, AMAZING, SUPER'.\n",
      "  - 'CUSTOMER SERVICE' was frequently mentioned, often associated with sentiments \n",
      " \t 'EXCELLENT, AWESOME, AMAZING, FRIENDLY'.\n",
      "  - 'EMPLOYEES' was frequently mentioned, often associated with sentiments \n",
      " \t 'FRIENDLY, KIND, AWESOME, NEW'.\n",
      "\n",
      " MENU_VARIETY was mentioned in 18563 reviews with an average sentiment of 0.61.\n",
      "  - 'SELECTION' was frequently mentioned, often associated with sentiments \n",
      " \t 'LARGE, DECENT, HUGE, EXCELLENT'.\n",
      "  - 'VARIETY' was frequently mentioned, often associated with sentiments \n",
      " \t 'LARGE, MORE, HUGE, MUCH'.\n",
      "  - 'OPTIONS' was frequently mentioned, often associated with sentiments \n",
      " \t 'FREE, MANY, SO, MORE'.\n",
      "  - 'MEAL' was frequently mentioned, often associated with sentiments \n",
      " \t 'QUICK, DELICIOUS, DECENT, WHOLE'.\n",
      "\n",
      " PRICE was mentioned in 32469 reviews with an average sentiment of 0.58.\n",
      "  - 'PRICES' was frequently mentioned, often associated with sentiments \n",
      " \t 'REASONABLE, FAIR, HIGH, DECENT'.\n",
      "  - 'PRICE' was frequently mentioned, often associated with sentiments \n",
      " \t 'REASONABLE, FAIR, DECENT, HIGH'.\n",
      "  - 'DEAL' was frequently mentioned, often associated with sentiments \n",
      " \t 'REAL, BETTER, AWESOME, AMAZING'.\n",
      "  - 'VALUE' was frequently mentioned, often associated with sentiments \n",
      " \t 'EXCELLENT, BETTER, DECENT, AMAZING'.\n",
      "\n",
      " AVAILABILITY was mentioned in 8537 reviews with an average sentiment of 0.51.\n",
      "  - 'LOCATION' was frequently mentioned, often associated with sentiments \n",
      " \t 'NEW, CLEAN, PARTICULAR, AWESOME'.\n",
      "  - 'DELIVERY' was frequently mentioned, often associated with sentiments \n",
      " \t 'FAST, QUICK, FREE, FRIENDLY'.\n",
      "  - 'PARKING' was frequently mentioned, often associated with sentiments \n",
      " \t 'EASY, FREE, AVAILABLE, MORE'.\n",
      "  - 'LOCATIONS' was frequently mentioned, often associated with sentiments \n",
      " \t 'MORE, FAVORITE, BETTER, MANY'.\n",
      "\n",
      " PORTION_SIZE was mentioned in 5058 reviews with an average sentiment of 0.49.\n",
      "  - 'AMOUNT' was frequently mentioned, often associated with sentiments \n",
      " \t 'PERFECT, DECENT, REASONABLE, LARGE'.\n",
      "  - 'PORTIONS' was frequently mentioned, often associated with sentiments \n",
      " \t 'LARGE, HUGE, CONSIDERABLE, PERFECT'.\n",
      "  - 'SIZE' was frequently mentioned, often associated with sentiments \n",
      " \t 'PERFECT, LARGE, DECENT, HUGE'.\n",
      "  - 'SERVINGS' was frequently mentioned, often associated with sentiments \n",
      " \t 'LARGE, HUGE, ATTRACTIVE, HEALTHY'.\n",
      "\n",
      " SPEED was mentioned in 18502 reviews with an average sentiment of 0.44.\n",
      "  - 'TIME' was frequently mentioned, often associated with sentiments \n",
      " \t 'FIRST, WHOLE, MORE, AMAZING'.\n",
      "  - 'HOUR' was frequently mentioned, often associated with sentiments \n",
      " \t 'HAPPY, WHOLE, FULL, BUSY'.\n",
      "  - 'MINUTES' was frequently mentioned, often associated with sentiments \n",
      " \t 'MORE, READY, WHOLE, FIRST'.\n",
      "  - 'WAIT' was frequently mentioned, often associated with sentiments \n",
      " \t 'WORTH, REASONABLE, LONG, SUPER'.\n",
      "\n",
      " HYGIENE was mentioned in 451 reviews with an average sentiment of 0.43.\n",
      "  - 'RESTROOMS' was frequently mentioned, often associated with sentiments \n",
      " \t 'CLEAN, MORE, DECENT, AVAILABLE'.\n",
      "  - 'BATHROOM' was frequently mentioned, often associated with sentiments \n",
      " \t 'CLEAN, AMAZING, BETTER, PRETTY'.\n",
      "  - 'CLEANLINESS' was frequently mentioned, often associated with sentiments \n",
      " \t 'BETTER, MORE, GENERAL, PERFECT'.\n",
      "  - 'HYGIENE' was frequently mentioned, often associated with sentiments \n",
      " \t 'MORE, BETTER, HIGH, GENERAL'.\n",
      "\n",
      "On the other hand, customers seemed less content with these aspects:\n",
      "\n",
      "\n",
      " EXPERIENCE was mentioned in 3268 reviews with an average sentiment of -0.73.\n",
      "  - 'OPPORTUNITY' was frequently mentioned, often associated with sentiments \n",
      " \t 'SINGLE'.\n",
      "  - 'PICNIC' was frequently mentioned, often associated with sentiments \n",
      " \t 'SMALL'.\n",
      "  - 'FAMILY MEAL' was frequently mentioned, often associated with sentiments \n",
      " \t 'CASUAL'.\n",
      "  - 'EVENT' was frequently mentioned, often associated with sentiments \n",
      " \t 'TRAGIC, SMALL, SCARY'.\n",
      "\n",
      " HYGIENE was mentioned in 333 reviews with an average sentiment of -0.62.\n",
      "  - 'CLEAN' was frequently mentioned, often associated with sentiments \n",
      " \t 'ROUND'.\n",
      "  - 'HYGIENE' was frequently mentioned, often associated with sentiments \n",
      " \t 'POOR, BAD, UNBELIEVABLE, HORRIBLE'.\n",
      "  - 'CLEANLINESS' was frequently mentioned, often associated with sentiments \n",
      " \t 'POOR, QUESTIONABLE, AVERAGE, TERRIBLE'.\n",
      "  - 'DIRTY' was frequently mentioned, often associated with sentiments \n",
      " \t 'LITTLE, DIRTY, NASTY, FILTHY'.\n",
      "\n",
      " SERVICE was mentioned in 18432 reviews with an average sentiment of -0.61.\n",
      "  - 'WAITSTAFF' was frequently mentioned, often associated with sentiments \n",
      " \t 'SLOW, CONSISTENTLY, HELPFUL, EXTREMELY'.\n",
      "  - 'CHEF' was frequently mentioned, often associated with sentiments \n",
      " \t 'RUDE, SORRY, MISSING, HORRIBLE'.\n",
      "  - 'TEAM' was frequently mentioned, often associated with sentiments \n",
      " \t 'USUAL, SLOW, RUDE, POOR'.\n",
      "  - 'COOKS' was frequently mentioned, often associated with sentiments \n",
      " \t 'SLOW, LAZY, BAD, TERRIBLE'.\n",
      "\n",
      " FOOD_QUALITY was mentioned in 5223 reviews with an average sentiment of -0.51.\n",
      "  - 'SEASONING' was frequently mentioned, often associated with sentiments \n",
      " \t 'LITTLE, HEAVY, DRY, WEIRD'.\n",
      "  - 'DISH' was frequently mentioned, often associated with sentiments \n",
      " \t 'BAD, SMALL, SINGLE, THIN'.\n",
      "  - 'INGREDIENTS' was frequently mentioned, often associated with sentiments \n",
      " \t 'WRONG, LESS, FEW, BAD'.\n",
      "  - 'FLAVOR' was frequently mentioned, often associated with sentiments \n",
      " \t 'LITTLE, BLAND, BAD, ODD'.\n",
      "\n",
      " DISHES was mentioned in 14182 reviews with an average sentiment of -0.49.\n",
      "  - 'POTATO' was frequently mentioned, often associated with sentiments \n",
      " \t 'SMALL, MEAN, HALF'.\n",
      "  - 'ONION RINGS' was frequently mentioned, often associated with sentiments \n",
      " \t 'HORRIBLE, BLAND'.\n",
      "  - 'SUSHI' was frequently mentioned, often associated with sentiments \n",
      " \t 'WORST, UNBELIEVABLE'.\n",
      "  - 'TACOS' was frequently mentioned, often associated with sentiments \n",
      " \t 'SMALL, NASTY, DULL, DRY'.\n",
      "\n",
      " PRICE was mentioned in 1500 reviews with an average sentiment of -0.44.\n",
      "  - 'EXPENSES' was frequently mentioned, often associated with sentiments \n",
      " \t 'RANDOM'.\n",
      "  - 'FEE' was frequently mentioned, often associated with sentiments \n",
      " \t 'FLAT, SMALL, MINIMAL, LITTLE'.\n",
      "  - 'BUDGET' was frequently mentioned, often associated with sentiments \n",
      " \t 'TIGHT, LIMITED, REALLY, SMALL'.\n",
      "  - 'CHARGE' was frequently mentioned, often associated with sentiments \n",
      " \t 'SMALL, RIDICULOUS, ANNOYING, UNNECESSARY'.\n",
      "\n",
      " ATMOSPHERE was mentioned in 9158 reviews with an average sentiment of -0.40.\n",
      "  - 'ARCHITECTURE' was frequently mentioned, often associated with sentiments \n",
      " \t 'BLAND'.\n",
      "  - 'SEATING ARRANGEMENT' was frequently mentioned, often associated with sentiments \n",
      " \t 'UNCOMFORTABLE'.\n",
      "  - 'SURROUNDINGS' was frequently mentioned, often associated with sentiments \n",
      " \t 'SHADY, MEAGER, CASUAL'.\n",
      "  - 'ART' was frequently mentioned, often associated with sentiments \n",
      " \t 'WEIRD, DEAD, BAD'.\n",
      "\n",
      " AVAILABILITY was mentioned in 2734 reviews with an average sentiment of -0.34.\n",
      "  - 'CLOSING HOURS' was frequently mentioned, often associated with sentiments \n",
      " \t 'LONG'.\n",
      "  - 'PICKUP' was frequently mentioned, often associated with sentiments \n",
      " \t 'LESS, LATE'.\n",
      "  - 'WEEKENDS' was frequently mentioned, often associated with sentiments \n",
      " \t 'FEW, LONG, ROUGH, COMPLEX'.\n",
      "  - 'OPENING' was frequently mentioned, often associated with sentiments \n",
      " \t 'SHAKY, PAST, LATE'.\n",
      "\n",
      " PORTION_SIZE was mentioned in 816 reviews with an average sentiment of -0.30.\n",
      "  - 'PORTION SIZE' was frequently mentioned, often associated with sentiments \n",
      " \t 'SMALL, HORRIBLE'.\n",
      "  - 'SERVING' was frequently mentioned, often associated with sentiments \n",
      " \t 'SINGLE, SMALL, SLOW, LITTLE'.\n",
      "  - 'SERVINGS' was frequently mentioned, often associated with sentiments \n",
      " \t 'SMALL, SINGLE, POOR, MEDIOCRE'.\n",
      "  - 'SIZE' was frequently mentioned, often associated with sentiments \n",
      " \t 'SMALL, WRONG, HALF, AVERAGE'.\n",
      "\n",
      " MENU_VARIETY was mentioned in 3268 reviews with an average sentiment of -0.22.\n",
      "  - 'SPECIALS' was frequently mentioned, often associated with sentiments \n",
      " \t 'FEW, USUAL, LIMITED, EXPENSIVE'.\n",
      "  - 'MEALS' was frequently mentioned, often associated with sentiments \n",
      " \t 'WORST, FEW, BAD, EXPENSIVE'.\n",
      "  - 'MENU ITEMS' was frequently mentioned, often associated with sentiments \n",
      " \t 'LIMITED, FEW, USUAL, SECRET'.\n",
      "  - 'OPTION' was frequently mentioned, often associated with sentiments \n",
      " \t 'BAD, LEAST, LIMITED, SMALL'.\n",
      "\n",
      " SPEED was mentioned in 8739 reviews with an average sentiment of -0.15.\n",
      "  - 'COOKING TIME' was frequently mentioned, often associated with sentiments \n",
      " \t 'LONG'.\n",
      "  - 'RESERVATION' was frequently mentioned, often associated with sentiments \n",
      " \t 'LATE, HARD'.\n",
      "  - 'QUEUE' was frequently mentioned, often associated with sentiments \n",
      " \t 'LONG, SMALL, RIDICULOUS, ENDLESS'.\n",
      "  - 'RUSH' was frequently mentioned, often associated with sentiments \n",
      " \t 'MAD, LITTLE, CRAZY, SMALL'.\n"
     ]
    }
   ],
   "source": [
    "generate_report_specific(test,number_aspects=4, number_sentiments=4)"
   ]
  }
 ],
 "metadata": {
  "kernelspec": {
   "display_name": "Python 3 (ipykernel)",
   "language": "python",
   "name": "python3"
  },
  "language_info": {
   "codemirror_mode": {
    "name": "ipython",
    "version": 3
   },
   "file_extension": ".py",
   "mimetype": "text/x-python",
   "name": "python",
   "nbconvert_exporter": "python",
   "pygments_lexer": "ipython3",
   "version": "3.9.12"
  }
 },
 "nbformat": 4,
 "nbformat_minor": 5
}
